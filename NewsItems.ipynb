{
 "cells": [
  {
   "cell_type": "code",
   "execution_count": 2,
   "metadata": {},
   "outputs": [],
   "source": [
    "import pandas as pd\n",
    "import matplotlib.pyplot as plt\n",
    "import numpy as np"
   ]
  },
  {
   "cell_type": "markdown",
   "metadata": {},
   "source": [
    "# 2. NewsItems"
   ]
  },
  {
   "cell_type": "code",
   "execution_count": 3,
   "metadata": {},
   "outputs": [],
   "source": [
    "missing_values = ['n\\a', 'na', 'None', 'NaN', '--', '.']"
   ]
  },
  {
   "cell_type": "code",
   "execution_count": 4,
   "metadata": {},
   "outputs": [],
   "source": [
    "items = pd.read_csv('NewsItems.csv', na_values = missing_values)"
   ]
  },
  {
   "cell_type": "code",
   "execution_count": 12,
   "metadata": {},
   "outputs": [
    {
     "data": {
      "text/html": [
       "<div>\n",
       "<style scoped>\n",
       "    .dataframe tbody tr th:only-of-type {\n",
       "        vertical-align: middle;\n",
       "    }\n",
       "\n",
       "    .dataframe tbody tr th {\n",
       "        vertical-align: top;\n",
       "    }\n",
       "\n",
       "    .dataframe thead th {\n",
       "        text-align: right;\n",
       "    }\n",
       "</style>\n",
       "<table border=\"1\" class=\"dataframe\">\n",
       "  <thead>\n",
       "    <tr style=\"text-align: right;\">\n",
       "      <th></th>\n",
       "      <th>news_id</th>\n",
       "      <th>newsoutlet_id</th>\n",
       "      <th>news_tweet_date</th>\n",
       "      <th>news_url</th>\n",
       "      <th>new_title</th>\n",
       "      <th>news_date</th>\n",
       "      <th>news_text</th>\n",
       "    </tr>\n",
       "  </thead>\n",
       "  <tbody>\n",
       "    <tr>\n",
       "      <th>11100</th>\n",
       "      <td>1080101339156369409</td>\n",
       "      <td>5392522</td>\n",
       "      <td>2019-01-01 14:00:01</td>\n",
       "      <td>https://n.pr/2ApEWfr</td>\n",
       "      <td>For Undocumented Immigrants, Getting A Driver'...</td>\n",
       "      <td>NaN</td>\n",
       "      <td>For Undocumented Immigrants, Getting A Driver'...</td>\n",
       "    </tr>\n",
       "  </tbody>\n",
       "</table>\n",
       "</div>"
      ],
      "text/plain": [
       "                   news_id  newsoutlet_id      news_tweet_date  \\\n",
       "11100  1080101339156369409        5392522  2019-01-01 14:00:01   \n",
       "\n",
       "                   news_url  \\\n",
       "11100  https://n.pr/2ApEWfr   \n",
       "\n",
       "                                               new_title news_date  \\\n",
       "11100  For Undocumented Immigrants, Getting A Driver'...       NaN   \n",
       "\n",
       "                                               news_text  \n",
       "11100  For Undocumented Immigrants, Getting A Driver'...  "
      ]
     },
     "execution_count": 12,
     "metadata": {},
     "output_type": "execute_result"
    }
   ],
   "source": [
    "items.loc[items['news_id'] == 1080101339156369408.000]"
   ]
  },
  {
   "cell_type": "code",
   "execution_count": 6,
   "metadata": {},
   "outputs": [
    {
     "data": {
      "text/html": [
       "<div>\n",
       "<style scoped>\n",
       "    .dataframe tbody tr th:only-of-type {\n",
       "        vertical-align: middle;\n",
       "    }\n",
       "\n",
       "    .dataframe tbody tr th {\n",
       "        vertical-align: top;\n",
       "    }\n",
       "\n",
       "    .dataframe thead th {\n",
       "        text-align: right;\n",
       "    }\n",
       "</style>\n",
       "<table border=\"1\" class=\"dataframe\">\n",
       "  <thead>\n",
       "    <tr style=\"text-align: right;\">\n",
       "      <th></th>\n",
       "      <th>news_id</th>\n",
       "      <th>newsoutlet_id</th>\n",
       "      <th>news_tweet_date</th>\n",
       "      <th>news_url</th>\n",
       "      <th>new_title</th>\n",
       "      <th>news_date</th>\n",
       "      <th>news_text</th>\n",
       "    </tr>\n",
       "  </thead>\n",
       "  <tbody>\n",
       "    <tr>\n",
       "      <th>0</th>\n",
       "      <td>1079995915652476928</td>\n",
       "      <td>28785486</td>\n",
       "      <td>2019-01-01 07:01:06</td>\n",
       "      <td>https://abcn.ws/2CIbHpE</td>\n",
       "      <td>China factory activity shrinks for the first t...</td>\n",
       "      <td>NaN</td>\n",
       "      <td>China's factory activity shrank in December fo...</td>\n",
       "    </tr>\n",
       "    <tr>\n",
       "      <th>1</th>\n",
       "      <td>1084039102008385536</td>\n",
       "      <td>28785486</td>\n",
       "      <td>2019-01-12 10:47:17</td>\n",
       "      <td>https://abcn.ws/2Fr7ict</td>\n",
       "      <td>ABC News</td>\n",
       "      <td>NaN</td>\n",
       "      <td>External links are provided for reference purp...</td>\n",
       "    </tr>\n",
       "    <tr>\n",
       "      <th>2</th>\n",
       "      <td>1084275179331772416</td>\n",
       "      <td>28785486</td>\n",
       "      <td>2019-01-13 02:25:22</td>\n",
       "      <td>https://abcn.ws/2Fv3iri</td>\n",
       "      <td>Drone captures California man surfing with dol...</td>\n",
       "      <td>NaN</td>\n",
       "      <td>Breathtaking drone video of a pod of friendly,...</td>\n",
       "    </tr>\n",
       "    <tr>\n",
       "      <th>3</th>\n",
       "      <td>1080216134467702784</td>\n",
       "      <td>28785486</td>\n",
       "      <td>2019-01-01 21:36:10</td>\n",
       "      <td>https://abcn.ws/2CHWRj9</td>\n",
       "      <td>In 'unprecedented' speech, Kim Jong Un says No...</td>\n",
       "      <td>NaN</td>\n",
       "      <td>Kim Jong Un says he is ready to sit down again...</td>\n",
       "    </tr>\n",
       "    <tr>\n",
       "      <th>4</th>\n",
       "      <td>1080901028365697026</td>\n",
       "      <td>28785486</td>\n",
       "      <td>2019-01-03 18:57:41</td>\n",
       "      <td>https://abcn.ws/2CMaEVD</td>\n",
       "      <td>Reward grows to $75,000 in hunt for killer of ...</td>\n",
       "      <td>NaN</td>\n",
       "      <td>A reward for information leading to the arrest...</td>\n",
       "    </tr>\n",
       "  </tbody>\n",
       "</table>\n",
       "</div>"
      ],
      "text/plain": [
       "               news_id  newsoutlet_id      news_tweet_date  \\\n",
       "0  1079995915652476928       28785486  2019-01-01 07:01:06   \n",
       "1  1084039102008385536       28785486  2019-01-12 10:47:17   \n",
       "2  1084275179331772416       28785486  2019-01-13 02:25:22   \n",
       "3  1080216134467702784       28785486  2019-01-01 21:36:10   \n",
       "4  1080901028365697026       28785486  2019-01-03 18:57:41   \n",
       "\n",
       "                  news_url                                          new_title  \\\n",
       "0  https://abcn.ws/2CIbHpE  China factory activity shrinks for the first t...   \n",
       "1  https://abcn.ws/2Fr7ict                                           ABC News   \n",
       "2  https://abcn.ws/2Fv3iri  Drone captures California man surfing with dol...   \n",
       "3  https://abcn.ws/2CHWRj9  In 'unprecedented' speech, Kim Jong Un says No...   \n",
       "4  https://abcn.ws/2CMaEVD  Reward grows to $75,000 in hunt for killer of ...   \n",
       "\n",
       "  news_date                                          news_text  \n",
       "0       NaN  China's factory activity shrank in December fo...  \n",
       "1       NaN  External links are provided for reference purp...  \n",
       "2       NaN  Breathtaking drone video of a pod of friendly,...  \n",
       "3       NaN  Kim Jong Un says he is ready to sit down again...  \n",
       "4       NaN  A reward for information leading to the arrest...  "
      ]
     },
     "execution_count": 6,
     "metadata": {},
     "output_type": "execute_result"
    }
   ],
   "source": [
    "items.head()"
   ]
  },
  {
   "cell_type": "code",
   "execution_count": 7,
   "metadata": {},
   "outputs": [
    {
     "name": "stdout",
     "output_type": "stream",
     "text": [
      "<class 'pandas.core.frame.DataFrame'>\n",
      "RangeIndex: 43305 entries, 0 to 43304\n",
      "Data columns (total 7 columns):\n",
      " #   Column           Non-Null Count  Dtype \n",
      "---  ------           --------------  ----- \n",
      " 0   news_id          43305 non-null  int64 \n",
      " 1   newsoutlet_id    43305 non-null  int64 \n",
      " 2   news_tweet_date  43305 non-null  object\n",
      " 3   news_url         43305 non-null  object\n",
      " 4   new_title        43232 non-null  object\n",
      " 5   news_date        27249 non-null  object\n",
      " 6   news_text        42780 non-null  object\n",
      "dtypes: int64(2), object(5)\n",
      "memory usage: 2.3+ MB\n"
     ]
    }
   ],
   "source": [
    "items.info()"
   ]
  },
  {
   "cell_type": "markdown",
   "metadata": {},
   "source": [
    "### Duplicados"
   ]
  },
  {
   "cell_type": "code",
   "execution_count": 8,
   "metadata": {},
   "outputs": [
    {
     "data": {
      "text/plain": [
       "43305"
      ]
     },
     "execution_count": 8,
     "metadata": {},
     "output_type": "execute_result"
    }
   ],
   "source": [
    "len(items)"
   ]
  },
  {
   "cell_type": "code",
   "execution_count": 9,
   "metadata": {},
   "outputs": [
    {
     "data": {
      "text/plain": [
       "42753"
      ]
     },
     "execution_count": 9,
     "metadata": {},
     "output_type": "execute_result"
    }
   ],
   "source": [
    "# Eliminação de duplicados completos (todos os atributos)\n",
    "# 552 duplicados removidos\n",
    "items.drop_duplicates(inplace=True)\n",
    "len(items)"
   ]
  },
  {
   "cell_type": "markdown",
   "metadata": {},
   "source": [
    "#### Tweets com múltiplas notícias"
   ]
  },
  {
   "cell_type": "code",
   "execution_count": 10,
   "metadata": {},
   "outputs": [
    {
     "data": {
      "text/plain": [
       "47"
      ]
     },
     "execution_count": 10,
     "metadata": {},
     "output_type": "execute_result"
    }
   ],
   "source": [
    "len(items[items['news_id'].duplicated(keep=False) == True])"
   ]
  },
  {
   "cell_type": "code",
   "execution_count": 11,
   "metadata": {},
   "outputs": [
    {
     "data": {
      "text/plain": [
       "1083831910504247297    3\n",
       "1082888753562169345    3\n",
       "1081836449631227906    3\n",
       "1079302130731761664    3\n",
       "1080028299508756481    3\n",
       "                      ..\n",
       "1080205785110642688    1\n",
       "1078443212770078720    1\n",
       "1082273937923428353    1\n",
       "1080768782187069440    1\n",
       "1078840794180653057    1\n",
       "Name: news_id, Length: 42723, dtype: int64"
      ]
     },
     "execution_count": 11,
     "metadata": {},
     "output_type": "execute_result"
    }
   ],
   "source": [
    "items['news_id'].value_counts()"
   ]
  },
  {
   "cell_type": "code",
   "execution_count": 12,
   "metadata": {},
   "outputs": [
    {
     "data": {
      "text/plain": [
       "1    42706\n",
       "3       13\n",
       "2        4\n",
       "Name: news_id, dtype: int64"
      ]
     },
     "execution_count": 12,
     "metadata": {},
     "output_type": "execute_result"
    }
   ],
   "source": [
    "items['news_id'].value_counts().value_counts()"
   ]
  },
  {
   "cell_type": "markdown",
   "metadata": {},
   "source": [
    "**news_id** tem duplicados pois cada tweet pode ter várias notícias (**Decisão**: drop destes 47)"
   ]
  },
  {
   "cell_type": "code",
   "execution_count": 13,
   "metadata": {},
   "outputs": [
    {
     "data": {
      "text/plain": [
       "1083831910504247297    3\n",
       "1082888753562169345    3\n",
       "1081836449631227906    3\n",
       "1079302130731761664    3\n",
       "1080028299508756481    3\n",
       "                      ..\n",
       "1080205785110642688    1\n",
       "1078443212770078720    1\n",
       "1082273937923428353    1\n",
       "1080768782187069440    1\n",
       "1078840794180653057    1\n",
       "Name: news_id, Length: 42723, dtype: int64"
      ]
     },
     "execution_count": 13,
     "metadata": {},
     "output_type": "execute_result"
    }
   ],
   "source": [
    "num_news = items['news_id'].value_counts()\n",
    "num_news"
   ]
  },
  {
   "cell_type": "code",
   "execution_count": 14,
   "metadata": {},
   "outputs": [
    {
     "data": {
      "text/plain": [
       "Int64Index([1083831910504247297, 1082888753562169345, 1081836449631227906,\n",
       "            1079302130731761664, 1080028299508756481, 1081109285076156422,\n",
       "            1080621989956603905, 1078974526766108672, 1082562260130766849,\n",
       "            1081477094205517824, 1079634493110185988, 1078974880610205698,\n",
       "            1078728426423574528, 1082830097525104641, 1082975292447248384,\n",
       "            1083831082003451904, 1082848034210435072],\n",
       "           dtype='int64')"
      ]
     },
     "execution_count": 14,
     "metadata": {},
     "output_type": "execute_result"
    }
   ],
   "source": [
    "dup_news = num_news > 1\n",
    "dup_news_ids = dup_news.index[dup_news]\n",
    "dup_news_ids"
   ]
  },
  {
   "cell_type": "code",
   "execution_count": 15,
   "metadata": {},
   "outputs": [
    {
     "data": {
      "text/plain": [
       "42706"
      ]
     },
     "execution_count": 15,
     "metadata": {},
     "output_type": "execute_result"
    }
   ],
   "source": [
    "# seleciona os items com várias notícias e remove do dataset a partir do índice\n",
    "dup_news_ids_idx = items[items.news_id.isin(dup_news_ids)].index\n",
    "items.drop(dup_news_ids_idx, inplace=True)\n",
    "\n",
    "len(items)"
   ]
  },
  {
   "cell_type": "code",
   "execution_count": 16,
   "metadata": {},
   "outputs": [
    {
     "data": {
      "text/plain": [
       "False    38356\n",
       "True      4350\n",
       "dtype: int64"
      ]
     },
     "execution_count": 16,
     "metadata": {},
     "output_type": "execute_result"
    }
   ],
   "source": [
    "# verificar duplicados contando com todos os atributos\n",
    "# menos news_id e news_tweet_date\n",
    "items.duplicated(['newsoutlet_id', 'new_title', 'news_url', 'news_date', 'news_text']).value_counts()"
   ]
  },
  {
   "cell_type": "code",
   "execution_count": 17,
   "metadata": {},
   "outputs": [
    {
     "data": {
      "text/html": [
       "<div>\n",
       "<style scoped>\n",
       "    .dataframe tbody tr th:only-of-type {\n",
       "        vertical-align: middle;\n",
       "    }\n",
       "\n",
       "    .dataframe tbody tr th {\n",
       "        vertical-align: top;\n",
       "    }\n",
       "\n",
       "    .dataframe thead th {\n",
       "        text-align: right;\n",
       "    }\n",
       "</style>\n",
       "<table border=\"1\" class=\"dataframe\">\n",
       "  <thead>\n",
       "    <tr style=\"text-align: right;\">\n",
       "      <th></th>\n",
       "      <th>news_id</th>\n",
       "      <th>newsoutlet_id</th>\n",
       "      <th>news_tweet_date</th>\n",
       "      <th>news_url</th>\n",
       "      <th>new_title</th>\n",
       "      <th>news_date</th>\n",
       "      <th>news_text</th>\n",
       "    </tr>\n",
       "  </thead>\n",
       "  <tbody>\n",
       "    <tr>\n",
       "      <th>0</th>\n",
       "      <td>1079995915652476928</td>\n",
       "      <td>28785486</td>\n",
       "      <td>2019-01-01 07:01:06</td>\n",
       "      <td>https://abcn.ws/2CIbHpE</td>\n",
       "      <td>China factory activity shrinks for the first t...</td>\n",
       "      <td>NaN</td>\n",
       "      <td>China's factory activity shrank in December fo...</td>\n",
       "    </tr>\n",
       "    <tr>\n",
       "      <th>1</th>\n",
       "      <td>1084039102008385536</td>\n",
       "      <td>28785486</td>\n",
       "      <td>2019-01-12 10:47:17</td>\n",
       "      <td>https://abcn.ws/2Fr7ict</td>\n",
       "      <td>ABC News</td>\n",
       "      <td>NaN</td>\n",
       "      <td>External links are provided for reference purp...</td>\n",
       "    </tr>\n",
       "    <tr>\n",
       "      <th>2</th>\n",
       "      <td>1084275179331772416</td>\n",
       "      <td>28785486</td>\n",
       "      <td>2019-01-13 02:25:22</td>\n",
       "      <td>https://abcn.ws/2Fv3iri</td>\n",
       "      <td>Drone captures California man surfing with dol...</td>\n",
       "      <td>NaN</td>\n",
       "      <td>Breathtaking drone video of a pod of friendly,...</td>\n",
       "    </tr>\n",
       "    <tr>\n",
       "      <th>3</th>\n",
       "      <td>1080216134467702784</td>\n",
       "      <td>28785486</td>\n",
       "      <td>2019-01-01 21:36:10</td>\n",
       "      <td>https://abcn.ws/2CHWRj9</td>\n",
       "      <td>In 'unprecedented' speech, Kim Jong Un says No...</td>\n",
       "      <td>NaN</td>\n",
       "      <td>Kim Jong Un says he is ready to sit down again...</td>\n",
       "    </tr>\n",
       "    <tr>\n",
       "      <th>4</th>\n",
       "      <td>1080901028365697026</td>\n",
       "      <td>28785486</td>\n",
       "      <td>2019-01-03 18:57:41</td>\n",
       "      <td>https://abcn.ws/2CMaEVD</td>\n",
       "      <td>Reward grows to $75,000 in hunt for killer of ...</td>\n",
       "      <td>NaN</td>\n",
       "      <td>A reward for information leading to the arrest...</td>\n",
       "    </tr>\n",
       "  </tbody>\n",
       "</table>\n",
       "</div>"
      ],
      "text/plain": [
       "               news_id  newsoutlet_id      news_tweet_date  \\\n",
       "0  1079995915652476928       28785486  2019-01-01 07:01:06   \n",
       "1  1084039102008385536       28785486  2019-01-12 10:47:17   \n",
       "2  1084275179331772416       28785486  2019-01-13 02:25:22   \n",
       "3  1080216134467702784       28785486  2019-01-01 21:36:10   \n",
       "4  1080901028365697026       28785486  2019-01-03 18:57:41   \n",
       "\n",
       "                  news_url                                          new_title  \\\n",
       "0  https://abcn.ws/2CIbHpE  China factory activity shrinks for the first t...   \n",
       "1  https://abcn.ws/2Fr7ict                                           ABC News   \n",
       "2  https://abcn.ws/2Fv3iri  Drone captures California man surfing with dol...   \n",
       "3  https://abcn.ws/2CHWRj9  In 'unprecedented' speech, Kim Jong Un says No...   \n",
       "4  https://abcn.ws/2CMaEVD  Reward grows to $75,000 in hunt for killer of ...   \n",
       "\n",
       "  news_date                                          news_text  \n",
       "0       NaN  China's factory activity shrank in December fo...  \n",
       "1       NaN  External links are provided for reference purp...  \n",
       "2       NaN  Breathtaking drone video of a pod of friendly,...  \n",
       "3       NaN  Kim Jong Un says he is ready to sit down again...  \n",
       "4       NaN  A reward for information leading to the arrest...  "
      ]
     },
     "execution_count": 17,
     "metadata": {},
     "output_type": "execute_result"
    }
   ],
   "source": [
    "items.head()"
   ]
  },
  {
   "cell_type": "code",
   "execution_count": 18,
   "metadata": {},
   "outputs": [
    {
     "data": {
      "text/plain": [
       "False    38355\n",
       "True      4351\n",
       "dtype: int64"
      ]
     },
     "execution_count": 18,
     "metadata": {},
     "output_type": "execute_result"
    }
   ],
   "source": [
    "items.duplicated(['new_title', 'news_url', 'news_date', 'news_text']).value_counts()"
   ]
  },
  {
   "cell_type": "code",
   "execution_count": 19,
   "metadata": {},
   "outputs": [
    {
     "data": {
      "text/plain": [
       "False    38226\n",
       "True      4480\n",
       "dtype: int64"
      ]
     },
     "execution_count": 19,
     "metadata": {},
     "output_type": "execute_result"
    }
   ],
   "source": [
    "items.duplicated(['news_url', 'news_date', 'news_text']).value_counts()"
   ]
  },
  {
   "cell_type": "code",
   "execution_count": 20,
   "metadata": {},
   "outputs": [
    {
     "data": {
      "text/plain": [
       "False    42706\n",
       "dtype: int64"
      ]
     },
     "execution_count": 20,
     "metadata": {},
     "output_type": "execute_result"
    }
   ],
   "source": [
    "items.duplicated(['news_id', 'newsoutlet_id']).value_counts()"
   ]
  },
  {
   "cell_type": "code",
   "execution_count": 21,
   "metadata": {},
   "outputs": [
    {
     "data": {
      "text/html": [
       "<div>\n",
       "<style scoped>\n",
       "    .dataframe tbody tr th:only-of-type {\n",
       "        vertical-align: middle;\n",
       "    }\n",
       "\n",
       "    .dataframe tbody tr th {\n",
       "        vertical-align: top;\n",
       "    }\n",
       "\n",
       "    .dataframe thead th {\n",
       "        text-align: right;\n",
       "    }\n",
       "</style>\n",
       "<table border=\"1\" class=\"dataframe\">\n",
       "  <thead>\n",
       "    <tr style=\"text-align: right;\">\n",
       "      <th></th>\n",
       "      <th>news_id</th>\n",
       "      <th>newsoutlet_id</th>\n",
       "      <th>news_tweet_date</th>\n",
       "      <th>news_url</th>\n",
       "      <th>new_title</th>\n",
       "      <th>news_date</th>\n",
       "      <th>news_text</th>\n",
       "    </tr>\n",
       "  </thead>\n",
       "  <tbody>\n",
       "  </tbody>\n",
       "</table>\n",
       "</div>"
      ],
      "text/plain": [
       "Empty DataFrame\n",
       "Columns: [news_id, newsoutlet_id, news_tweet_date, news_url, new_title, news_date, news_text]\n",
       "Index: []"
      ]
     },
     "execution_count": 21,
     "metadata": {},
     "output_type": "execute_result"
    }
   ],
   "source": [
    "items[items.duplicated(['news_id', 'newsoutlet_id']) == True].sort_values(by=['news_id'])"
   ]
  },
  {
   "cell_type": "code",
   "execution_count": 22,
   "metadata": {},
   "outputs": [
    {
     "data": {
      "text/plain": [
       "Time                                                                                                               1052\n",
       "ABC News                                                                                                            103\n",
       "The Latest News from the UK and Around the World                                                                     79\n",
       "Newsletter                                                                                                           31\n",
       "Angry mum loses it at service dog handler after being told her daughter can’t pet animal                             23\n",
       "                                                                                                                   ... \n",
       "Two women become first to enter India's Sabarimala temple – video report                                              1\n",
       "Rob Gronkowski deflects questions about retirement                                                                    1\n",
       "Tom Wilson stars in top 18 NHL fights of 2018                                                                         1\n",
       "‘This awards season, let’s hope the speeches are full of joy, not politics’                                           1\n",
       "Republican Senator Cindy Hyde-Smith did not return corporate campaign donations after 'hanging' remarks scandal       1\n",
       "Name: new_title, Length: 28475, dtype: int64"
      ]
     },
     "execution_count": 22,
     "metadata": {},
     "output_type": "execute_result"
    }
   ],
   "source": [
    "items['new_title'].value_counts()"
   ]
  },
  {
   "cell_type": "code",
   "execution_count": 23,
   "metadata": {},
   "outputs": [
    {
     "data": {
      "text/plain": [
       "About Your Privacy on this Site\\nWelcome! To bring you the best content on our sites and applications, Meredith partners with third party advertisers to serve digital ads, including personalized digital ads. Those advertisers use tracking technologies to collect information about your activity on our sites and applications and across the Internet and your other apps and devices.\\nYou always have the choice to experience our sites without personalized advertising based on your web browsing activity by visiting the DAA’s Consumer Choice page, the NAI's website, and/or the EU online choices page, from each of your browsers or devices. To avoid personalized advertising based on your mobile app activity, you can install the DAA’s AppChoices app here. You can find much more information about your privacy choices in our privacy policy. Even if you choose not to have your activity tracked by third parties for advertising services, you will still see non-personalized ads on our site.\\nBy clicking continue below and using our sites or applications, you agree that we and our third party advertisers can:\\ntransfer your personal data to the United States or other countries, and\\nprocess your personal data to serve you with personalized ads, subject to your choices as described above and in our privacy policy.\\nEU Data Subject Requests                                                                                                                                                                                                                                                                                                                                                                                                                                                                                                                                                                                                                                                                                                                                                                                                                                                                                                                                                                                                                                                                                                                                                                                                                                                                                                                                                                                                                                                                                                                                                                                                                                                                                                                                                                                                                                                                                                                                                     1052\n",
       "We use cookies to give you the best experience. If you do nothing we'll assume that it's ok.                                                                                                                                                                                                                                                                                                                                                                                                                                                                                                                                                                                                                                                                                                                                                                                                                                                                                                                                                                                                                                                                                                                                                                                                                                                                                                                                                                                                                                                                                                                                                                                                                                                                                                                                                                                                                                                                                                                                                                                                                                                                                                                                                                                                                                                                                                                                                                                                                                                                                                                                                                                                                                                                                                                                                                                                                                                                                                                                                                                                                                                                                                                                                                                                                                                         123\n",
       "External links are provided for reference purposes. ABC News is not responsible for the content of external Internet sites.\\nCopyright © 2019 ABC News Internet Ventures. Yahoo! - ABC News Network                                                                                                                                                                                                                                                                                                                                                                                                                                                                                                                                                                                                                                                                                                                                                                                                                                                                                                                                                                                                                                                                                                                                                                                                                                                                                                                                                                                                                                                                                                                                                                                                                                                                                                                                                                                                                                                                                                                                                                                                                                                                                                                                                                                                                                                                                                                                                                                                                                                                                                                                                                                                                                                                                                                                                                                                                                                                                                                                                                                                                                                                                                                                                   66\n",
       "What term do you want to search? Search with google                                                                                                                                                                                                                                                                                                                                                                                                                                                                                                                                                                                                                                                                                                                                                                                                                                                                                                                                                                                                                                                                                                                                                                                                                                                                                                                                                                                                                                                                                                                                                                                                                                                                                                                                                                                                                                                                                                                                                                                                                                                                                                                                                                                                                                                                                                                                                                                                                                                                                                                                                                                                                                                                                                                                                                                                                                                                                                                                                                                                                                                                                                                                                                                                                                                                                                   65\n",
       "Para ajudar a personalizar conteúdos, adaptar e avaliar anúncios e disponibilizar uma experiência mais segura, usamos cookies. Ao clicares ou ao navegares no site, aceitas a nossa recolha de informações dentro e fora do Facebook através de cookies. Sabe mais, incluindo informações sobre controlos: Política de cookies                                                                                                                                                                                                                                                                                                                                                                                                                                                                                                                                                                                                                                                                                                                                                                                                                                                                                                                                                                                                                                                                                                                                                                                                                                                                                                                                                                                                                                                                                                                                                                                                                                                                                                                                                                                                                                                                                                                                                                                                                                                                                                                                                                                                                                                                                                                                                                                                                                                                                                                                                                                                                                                                                                                                                                                                                                                                                                                                                                                                                        38\n",
       "                                                                                                                                                                                                                                                                                                                                                                                                                                                                                                                                                                                                                                                                                                                                                                                                                                                                                                                                                                                                                                                                                                                                                                                                                                                                                                                                                                                                                                                                                                                                                                                                                                                                                                                                                                                                                                                                                                                                                                                                                                                                                                                                                                                                                                                                                                                                                                                                                                                                                                                                                                                                                                                                                                                                                                                                                                                                                                                                                                                                                                                                                                                                                                                                                                                                                                                                                    ... \n",
       "A family were forced to sit on the floor for their two-hour TUI flight to Menorca after discovering their seats didn't exist.\\nThe Taylor family, arrived early at the airport to get their allocated seats after a family holiday in Menorca as they all wanted to sit together on the way back.\\nThey were given seats 41 D, E and F, but when they boarded the TUI plane in June last year, under the numbers was just empty space, rather than seating.\\nPaula Taylor, with her daughter Brooke, was forced to sit on the flor on their two-hour flight to Menorca\\nPaula Taylor (pictured left), with her daughter Brooke, husband Ian, had arrived early at the airport to get their allocated seats after a family holiday in Menorca as they all wanted to sit together on the way back\\nPaula Taylor, from Alcester, Warwickshire, told BBC One's Rip-Off Britain, Holidays: 'It's hard and it's uncomfortable and it's just filthy.\\n'We just couldn't believe it when we realised that there genuinely weren't any seats for us.'\\nThe solution proposed by the airline was that for take off and landing Paula's daughter Brooke, 10, would take the last spare seat on the plane.\\nAnd her husband Ian, 55 and Mrs Taylor, would sit on two spare flip-up seats.\\nBut while the plane was airborne, flight attendants had to get access to food for other passengers.\\nThis meant both Paula and Ian were forced to sit on the floor, and daughter Brooke joined them, as she did not want to sit with strangers.\\nThe family were offered £30 by TUI as a 'goodwill gesture.'\\nTUI airlines said a 'last minute aircraft change' caused the issue.\\nThe company also offered a full refund for the family's £1,300 flights.\\nThe Civil Aviation Authority said passengers are not allowed to be left unseated at any stage of a flight.\\nThey have contacted TUI for an explanation about why the family were left sitting on the floor for the two-hour flight.                                                                                                                                                                                                                                                                                                                                                                                                                                                                                                                                                                                                                                                                                                                                                                                                                                                                                                                                                                                                                                                                                                                                                                                                                                                                                                                                                                         1\n",
       "Vladimir Putin has been showcasing his ice hockey skills by taking part in a game in Moscow's Red Square.\\nThe Russian president got kitted out in pads and helmet alongside defence minister Sergey Shoigu and veteran players Vyacheslav Fetisov and Pavel Bur.\\nImage: Mr Putin occasionally plays exhibition games with some former players\\nImage: The president played on a rink near the walls of the Kremlin\\nSaturday night's exhibition match was part of an amateur league that the president helped set up in 2011 and was played on an ice rink near the walls of the Kremlin.\\nTV pictures showed the president - wearing number 11 - scoring at least one goal.\\n\"It's a good kind of entertainment. I think this is a well-justified reason (to play hockey) ahead of the new year,\" said Mr Putin.\\nThe president has been filmed playing ice hockey before - with the fast, aggressive game providing a good opportunity to play up to his macho image.\\nMr Putin's tough guy persona has also seen him spearfishing, horse riding bare-chested, piloting a handglider, practising judo, plunging into a sub-zero lake and shooting a tiger with a tranquilliser dart.\\nThe events are believed to be carefully stage-managed to appeal to the president's huge number of supporters in Russia.\\nHis exploits also make it into various calendars dedicated to Mr Putin - with the president's \"cuddly\" side revealed in one month as he cradles a puppy.\\nThe calendars are reported to be selling especially well in Japan, where website SoraNews24 said Mr Putin had achieved \"an almost cult-like status among some Japanese women\".                                                                                                                                                                                                                                                                                                                                                                                                                                                                                                                                                                                                                                                                                                                                                                                                                                                                                                                                                                                                                                                                                                                                                                                                                                                                                                                                                                                                                                                                                                                                                                                                                                                                                            1\n",
       "Get daily news updates directly to your inbox Subscribe Thank you for subscribing We have more newsletters Show me See our privacy notice Could not subscribe, try again later Invalid Email\\nRadio bursts from outer space which experts suggest could be evidence of aliens have been detected for the second time.\\nThe 'Fast Radio Bursts' (FRBs) are only a millisecond-long and were first detected in repeated form accidentally in 2007, when a burst signal was spotted in radio astronomy data collected in 2001.\\nThe new discovery reported in the journal Nature was made by a Canadian-led team of astronomers on the hunt for FRBs last summer.\\nMost scientists believe they are generated by powerful astrophysical phenomena such as black holes or super-dense neutron stars. But a few have suggested more outlandish theories.\\nProfessor Avid Loeb, from the Harvard-Smithsonian Centre for Astrophysics in the US, argues that they could be evidence of incredibly advanced alien technology.\\nIn last year's discovery, the team detected 13 of the flashes using a new type of radio telescope, the Canadian Hydrogen Intensity Mapping Experiment (Chime).\\n(Image: Getty Images)\\nSuper blood wolf moon 2019: How and when to see the lunar eclipse this month\\nOne of the FRBs was repeating. Of more than 60 FRBs detected to date, such repeating bursts have only been picked up once before, by the Arecibo radio telescope in Puerto Rico in 2015.\\nWhere the FRBs come from is not known although they are thought to emanate from sources billions of light years away outside our galaxy, the Milky Way.\\nChime astrophysicist Dr Ingrid Stairs, from the University of British Columbia, Canada, said: \"Until now, there was only one known repeating FRB.\\n\"Knowing that there is another suggests that there could be more out there. And with more repeaters and more sources available for study, we may be able to understand these cosmic puzzles - where they're from and what causes them.\"\\nMost of the 13 FRBs showed signs of \"scattering\" that suggest their sources could be powerful astrophysical objects in locations with special characteristics, the scientists said.\\nTeam member Dr Cherry Ng, from the University of Toronto, Canada, said: \"That could mean in some sort of dense clump like a supernova (exploding star) remnant. Or near the central black hole in a galaxy. But it has to be in some special place to give us all the scattering that we see.\"\\n(Image: Getty Images/Science Photo Libra)\\nThe new FRBs are are also at unusually low radio frequencies. Most previously detected FRBs have had frequencies of around 1,400 megahertz (MHz), but the new ones fell within a range below 800 MHz.\\nIn 2017 Prof Loeb and Harvard colleague Manasvi Lingham proposed that FRBs could be leakage from planet-sized alien transmitters.\\nRather than being designed for communication, they would more likely be used to propel giant space ships powered by light sails.\\nA light sail works by bouncing light, or in this case radio beams, off a huge reflective sheet to provide forward thrust.\\nProf Loeb, who discusses the idea in a paper published in The Astrophysical Journal Letters, said: \"An artificial origin is worth contemplating and checking.\"       1\n",
       "Elsie Fisher, left, and Bo Burnham arrive at the 76th annual Golden Globe Awards at the Beverly Hilton Hotel on Sunday, Jan. 6, 2019, in Beverly Hills, Calif.\\nLOS ANGELES — The scripts for ‘‘Black Panther’’ and ‘‘A Star Is Born’’ are among the five films that have been selected to compete for best adapted screenplay at the Writers Guild of America Awards. The two blockbusters will compete against ‘‘BlacKkKlansman,’’ “Can You Ever Forgive Me?’’ and ‘‘If Beale Street Could Talk.’’\\nThe writers guild also on Monday announced its nominees for best original screenplay, including Hamilton native Bo Burnham for ‘‘Eighth Grade,’’ Alfonso Cuaron for ‘‘Roma,’’ Adam McKay for ‘‘Vice,’’ as well as the scripts for ‘‘A Quiet Place,’’ co-written by John Krasinski, and ‘‘Green Book.’’\\n“Green Book,” written by Rhode Island-bred filmmaker Peter Farrelly, Brian Hayes Currie, and Nick Vellelonga, won the Golden Globe for best screenplay on Sunday night.\\nAdvertisement\\nDocumentary scripts nominated include Michael Moore’s ‘‘Fahrenheit 11/9’’ and Lauren Greenfield’s ‘‘Generation Wealth.’’\\nWinners will be announced at concurrent ceremonies in New York and Los Angeles on February 17.                                                                                                                                                                                                                                                                                                                                                                                                                                                                                                                                                                                                                                                                                                                                                                                                                                                                                                                                                                                                                                                                                                                                                                                                                                                                                                                                                                                                                                                                                                                                                                                                                                                                                                                                                                                                                                                                                                                                                                                                                                                                                                                         1\n",
       "Around 120 firefighters and 20 fire engines are tackling a blaze at a self-storage warehouse in Croydon, the London Fire Brigade has said.\\nCrews were called shortly before 7.50pm and remain at the scene in Purley Way, but the cause of the fire is not known at this stage.\\nNo injuries have been reported.\\nMore follows...                                                                                                                                                                                                                                                                                                                                                                                                                                                                                                                                                                                                                                                                                                                                                                                                                                                                                                                                                                                                                                                                                                                                                                                                                                                                                                                                                                                                                                                                                                                                                                                                                                                                                                                                                                                                                                                                                                                                                                                                                                                                                                                                                                                                                                                                                                                                                                                                                                                                                                                                                                                                                                                                                                                                                                                                                                                                                                                                                                                                                     1\n",
       "Name: news_text, Length: 30180, dtype: int64"
      ]
     },
     "execution_count": 23,
     "metadata": {},
     "output_type": "execute_result"
    }
   ],
   "source": [
    "items['news_text'].value_counts()"
   ]
  },
  {
   "cell_type": "code",
   "execution_count": 24,
   "metadata": {},
   "outputs": [
    {
     "data": {
      "text/html": [
       "<div>\n",
       "<style scoped>\n",
       "    .dataframe tbody tr th:only-of-type {\n",
       "        vertical-align: middle;\n",
       "    }\n",
       "\n",
       "    .dataframe tbody tr th {\n",
       "        vertical-align: top;\n",
       "    }\n",
       "\n",
       "    .dataframe thead th {\n",
       "        text-align: right;\n",
       "    }\n",
       "</style>\n",
       "<table border=\"1\" class=\"dataframe\">\n",
       "  <thead>\n",
       "    <tr style=\"text-align: right;\">\n",
       "      <th></th>\n",
       "      <th>news_id</th>\n",
       "      <th>newsoutlet_id</th>\n",
       "      <th>news_tweet_date</th>\n",
       "      <th>news_url</th>\n",
       "      <th>new_title</th>\n",
       "      <th>news_date</th>\n",
       "      <th>news_text</th>\n",
       "    </tr>\n",
       "  </thead>\n",
       "  <tbody>\n",
       "    <tr>\n",
       "      <th>31615</th>\n",
       "      <td>1080907081828290560</td>\n",
       "      <td>87818409</td>\n",
       "      <td>2019-01-03 19:21:45</td>\n",
       "      <td>https://trib.al/CLUm6n6</td>\n",
       "      <td>Manchester City v Liverpool: Premier League – ...</td>\n",
       "      <td>2019-01-03 19:07:14+00:00</td>\n",
       "      <td>What term do you want to search? Search with g...</td>\n",
       "    </tr>\n",
       "    <tr>\n",
       "      <th>31650</th>\n",
       "      <td>1081548016748847104</td>\n",
       "      <td>87818409</td>\n",
       "      <td>2019-01-05 13:48:36</td>\n",
       "      <td>https://trib.al/1EjjEmL</td>\n",
       "      <td>Chelsea v Nottingham Forest, Gillingham v Card...</td>\n",
       "      <td>2019-01-05 13:45:17+00:00</td>\n",
       "      <td>What term do you want to search? Search with g...</td>\n",
       "    </tr>\n",
       "    <tr>\n",
       "      <th>31692</th>\n",
       "      <td>1081588887124885504</td>\n",
       "      <td>87818409</td>\n",
       "      <td>2019-01-05 16:31:00</td>\n",
       "      <td>https://trib.al/F2UiRN3</td>\n",
       "      <td>Blackpool v Arsenal: FA Cup third round - live!</td>\n",
       "      <td>2019-01-05 16:30:20+00:00</td>\n",
       "      <td>What term do you want to search? Search with g...</td>\n",
       "    </tr>\n",
       "    <tr>\n",
       "      <th>31722</th>\n",
       "      <td>1080035881690583041</td>\n",
       "      <td>87818409</td>\n",
       "      <td>2019-01-01 09:39:54</td>\n",
       "      <td>https://trib.al/39yeDey</td>\n",
       "      <td>Serena Williams faces Roger Federer for first ...</td>\n",
       "      <td>2019-01-01 09:30:00+00:00</td>\n",
       "      <td>What term do you want to search? Search with g...</td>\n",
       "    </tr>\n",
       "    <tr>\n",
       "      <th>31777</th>\n",
       "      <td>1083821589668548609</td>\n",
       "      <td>87818409</td>\n",
       "      <td>2019-01-11 20:22:58</td>\n",
       "      <td>https://trib.al/EE9tb1O</td>\n",
       "      <td>Trump backs away from declaring national emerg...</td>\n",
       "      <td>2019-01-11 20:18:01+00:00</td>\n",
       "      <td>What term do you want to search? Search with g...</td>\n",
       "    </tr>\n",
       "    <tr>\n",
       "      <th>...</th>\n",
       "      <td>...</td>\n",
       "      <td>...</td>\n",
       "      <td>...</td>\n",
       "      <td>...</td>\n",
       "      <td>...</td>\n",
       "      <td>...</td>\n",
       "      <td>...</td>\n",
       "    </tr>\n",
       "    <tr>\n",
       "      <th>34385</th>\n",
       "      <td>1083976800038993921</td>\n",
       "      <td>87818409</td>\n",
       "      <td>2019-01-12 06:39:43</td>\n",
       "      <td>https://trib.al/c2G9Ji6</td>\n",
       "      <td>Stephen Collins on Theresa May's New Year reso...</td>\n",
       "      <td>2019-01-12 06:00:36+00:00</td>\n",
       "      <td>What term do you want to search? Search with g...</td>\n",
       "    </tr>\n",
       "    <tr>\n",
       "      <th>34426</th>\n",
       "      <td>1084412909093040129</td>\n",
       "      <td>87818409</td>\n",
       "      <td>2019-01-13 11:32:39</td>\n",
       "      <td>https://trib.al/PGM92JK</td>\n",
       "      <td>Arsenal v Chelsea: Women's Super League – live!</td>\n",
       "      <td>2019-01-13 11:30:07+00:00</td>\n",
       "      <td>What term do you want to search? Search with g...</td>\n",
       "    </tr>\n",
       "    <tr>\n",
       "      <th>34432</th>\n",
       "      <td>1079835754245836800</td>\n",
       "      <td>87818409</td>\n",
       "      <td>2018-12-31 20:24:40</td>\n",
       "      <td>https://trib.al/NetX6SU</td>\n",
       "      <td>Peter Schrank on 2019's Brexit crossroads – ca...</td>\n",
       "      <td>2018-12-31 19:48:24+00:00</td>\n",
       "      <td>What term do you want to search? Search with g...</td>\n",
       "    </tr>\n",
       "    <tr>\n",
       "      <th>34466</th>\n",
       "      <td>1080551797054418944</td>\n",
       "      <td>87818409</td>\n",
       "      <td>2019-01-02 19:49:58</td>\n",
       "      <td>https://trib.al/yswczn5</td>\n",
       "      <td>Martin Rowson on Jeremy Hunt's vision for a po...</td>\n",
       "      <td>2019-01-02 19:11:43+00:00</td>\n",
       "      <td>What term do you want to search? Search with g...</td>\n",
       "    </tr>\n",
       "    <tr>\n",
       "      <th>34502</th>\n",
       "      <td>1083656796299018241</td>\n",
       "      <td>87818409</td>\n",
       "      <td>2019-01-11 09:28:08</td>\n",
       "      <td>https://trib.al/0qtmo0Q</td>\n",
       "      <td>Premier League team news, previews and transfe...</td>\n",
       "      <td>2019-01-11 09:27:23+00:00</td>\n",
       "      <td>What term do you want to search? Search with g...</td>\n",
       "    </tr>\n",
       "  </tbody>\n",
       "</table>\n",
       "<p>65 rows × 7 columns</p>\n",
       "</div>"
      ],
      "text/plain": [
       "                   news_id  newsoutlet_id      news_tweet_date  \\\n",
       "31615  1080907081828290560       87818409  2019-01-03 19:21:45   \n",
       "31650  1081548016748847104       87818409  2019-01-05 13:48:36   \n",
       "31692  1081588887124885504       87818409  2019-01-05 16:31:00   \n",
       "31722  1080035881690583041       87818409  2019-01-01 09:39:54   \n",
       "31777  1083821589668548609       87818409  2019-01-11 20:22:58   \n",
       "...                    ...            ...                  ...   \n",
       "34385  1083976800038993921       87818409  2019-01-12 06:39:43   \n",
       "34426  1084412909093040129       87818409  2019-01-13 11:32:39   \n",
       "34432  1079835754245836800       87818409  2018-12-31 20:24:40   \n",
       "34466  1080551797054418944       87818409  2019-01-02 19:49:58   \n",
       "34502  1083656796299018241       87818409  2019-01-11 09:28:08   \n",
       "\n",
       "                      news_url  \\\n",
       "31615  https://trib.al/CLUm6n6   \n",
       "31650  https://trib.al/1EjjEmL   \n",
       "31692  https://trib.al/F2UiRN3   \n",
       "31722  https://trib.al/39yeDey   \n",
       "31777  https://trib.al/EE9tb1O   \n",
       "...                        ...   \n",
       "34385  https://trib.al/c2G9Ji6   \n",
       "34426  https://trib.al/PGM92JK   \n",
       "34432  https://trib.al/NetX6SU   \n",
       "34466  https://trib.al/yswczn5   \n",
       "34502  https://trib.al/0qtmo0Q   \n",
       "\n",
       "                                               new_title  \\\n",
       "31615  Manchester City v Liverpool: Premier League – ...   \n",
       "31650  Chelsea v Nottingham Forest, Gillingham v Card...   \n",
       "31692    Blackpool v Arsenal: FA Cup third round - live!   \n",
       "31722  Serena Williams faces Roger Federer for first ...   \n",
       "31777  Trump backs away from declaring national emerg...   \n",
       "...                                                  ...   \n",
       "34385  Stephen Collins on Theresa May's New Year reso...   \n",
       "34426    Arsenal v Chelsea: Women's Super League – live!   \n",
       "34432  Peter Schrank on 2019's Brexit crossroads – ca...   \n",
       "34466  Martin Rowson on Jeremy Hunt's vision for a po...   \n",
       "34502  Premier League team news, previews and transfe...   \n",
       "\n",
       "                       news_date  \\\n",
       "31615  2019-01-03 19:07:14+00:00   \n",
       "31650  2019-01-05 13:45:17+00:00   \n",
       "31692  2019-01-05 16:30:20+00:00   \n",
       "31722  2019-01-01 09:30:00+00:00   \n",
       "31777  2019-01-11 20:18:01+00:00   \n",
       "...                          ...   \n",
       "34385  2019-01-12 06:00:36+00:00   \n",
       "34426  2019-01-13 11:30:07+00:00   \n",
       "34432  2018-12-31 19:48:24+00:00   \n",
       "34466  2019-01-02 19:11:43+00:00   \n",
       "34502  2019-01-11 09:27:23+00:00   \n",
       "\n",
       "                                               news_text  \n",
       "31615  What term do you want to search? Search with g...  \n",
       "31650  What term do you want to search? Search with g...  \n",
       "31692  What term do you want to search? Search with g...  \n",
       "31722  What term do you want to search? Search with g...  \n",
       "31777  What term do you want to search? Search with g...  \n",
       "...                                                  ...  \n",
       "34385  What term do you want to search? Search with g...  \n",
       "34426  What term do you want to search? Search with g...  \n",
       "34432  What term do you want to search? Search with g...  \n",
       "34466  What term do you want to search? Search with g...  \n",
       "34502  What term do you want to search? Search with g...  \n",
       "\n",
       "[65 rows x 7 columns]"
      ]
     },
     "execution_count": 24,
     "metadata": {},
     "output_type": "execute_result"
    }
   ],
   "source": [
    "items.loc[items['news_text'] == 'What term do you want to search? Search with google']"
   ]
  },
  {
   "cell_type": "code",
   "execution_count": 25,
   "metadata": {},
   "outputs": [
    {
     "data": {
      "text/plain": [
       "1080019488668614656    1\n",
       "1079895504409018369    1\n",
       "1080798514752471041    1\n",
       "1083032744534437888    1\n",
       "1083718855900377089    1\n",
       "                      ..\n",
       "1079255785933336576    1\n",
       "1084339941956612097    1\n",
       "1081278892223225857    1\n",
       "1080205785110642688    1\n",
       "1078840794180653057    1\n",
       "Name: news_id, Length: 42706, dtype: int64"
      ]
     },
     "execution_count": 25,
     "metadata": {},
     "output_type": "execute_result"
    }
   ],
   "source": [
    "items['news_id'].value_counts()"
   ]
  },
  {
   "cell_type": "code",
   "execution_count": 26,
   "metadata": {},
   "outputs": [
    {
     "ename": "NameError",
     "evalue": "name 'items2' is not defined",
     "output_type": "error",
     "traceback": [
      "\u001b[0;31m---------------------------------------------------------------------------\u001b[0m",
      "\u001b[0;31mNameError\u001b[0m                                 Traceback (most recent call last)",
      "\u001b[0;32m<ipython-input-26-96cb1733872e>\u001b[0m in \u001b[0;36m<module>\u001b[0;34m\u001b[0m\n\u001b[0;32m----> 1\u001b[0;31m \u001b[0mrepet\u001b[0m \u001b[0;34m=\u001b[0m \u001b[0mitems2\u001b[0m\u001b[0;34m.\u001b[0m\u001b[0mloc\u001b[0m\u001b[0;34m[\u001b[0m\u001b[0mitems2\u001b[0m\u001b[0;34m[\u001b[0m\u001b[0;34m'news_id'\u001b[0m\u001b[0;34m]\u001b[0m \u001b[0;34m==\u001b[0m \u001b[0;36m1082562260130766849\u001b[0m\u001b[0;34m]\u001b[0m\u001b[0;34m\u001b[0m\u001b[0;34m\u001b[0m\u001b[0m\n\u001b[0m\u001b[1;32m      2\u001b[0m \u001b[0mrepet\u001b[0m\u001b[0;34m\u001b[0m\u001b[0;34m\u001b[0m\u001b[0m\n",
      "\u001b[0;31mNameError\u001b[0m: name 'items2' is not defined"
     ]
    }
   ],
   "source": [
    "repet = items2.loc[items2['news_id'] == 1082562260130766849]\n",
    "repet"
   ]
  },
  {
   "cell_type": "code",
   "execution_count": 27,
   "metadata": {},
   "outputs": [
    {
     "ename": "NameError",
     "evalue": "name 'repet' is not defined",
     "output_type": "error",
     "traceback": [
      "\u001b[0;31m---------------------------------------------------------------------------\u001b[0m",
      "\u001b[0;31mNameError\u001b[0m                                 Traceback (most recent call last)",
      "\u001b[0;32m<ipython-input-27-e72d723797ea>\u001b[0m in \u001b[0;36m<module>\u001b[0;34m\u001b[0m\n\u001b[0;32m----> 1\u001b[0;31m \u001b[0mrepet\u001b[0m\u001b[0;34m.\u001b[0m\u001b[0miloc\u001b[0m\u001b[0;34m[\u001b[0m\u001b[0;36m1\u001b[0m\u001b[0;34m,\u001b[0m\u001b[0;36m6\u001b[0m\u001b[0;34m]\u001b[0m\u001b[0;34m\u001b[0m\u001b[0;34m\u001b[0m\u001b[0m\n\u001b[0m",
      "\u001b[0;31mNameError\u001b[0m: name 'repet' is not defined"
     ]
    }
   ],
   "source": [
    "repet.iloc[1,6]"
   ]
  },
  {
   "cell_type": "code",
   "execution_count": 17,
   "metadata": {},
   "outputs": [
    {
     "data": {
      "text/html": [
       "<div>\n",
       "<style scoped>\n",
       "    .dataframe tbody tr th:only-of-type {\n",
       "        vertical-align: middle;\n",
       "    }\n",
       "\n",
       "    .dataframe tbody tr th {\n",
       "        vertical-align: top;\n",
       "    }\n",
       "\n",
       "    .dataframe thead th {\n",
       "        text-align: right;\n",
       "    }\n",
       "</style>\n",
       "<table border=\"1\" class=\"dataframe\">\n",
       "  <thead>\n",
       "    <tr style=\"text-align: right;\">\n",
       "      <th></th>\n",
       "      <th>news_id</th>\n",
       "      <th>newsoutlet_id</th>\n",
       "      <th>news_tweet_date</th>\n",
       "      <th>news_url</th>\n",
       "      <th>new_title</th>\n",
       "      <th>news_date</th>\n",
       "      <th>news_text</th>\n",
       "    </tr>\n",
       "  </thead>\n",
       "  <tbody>\n",
       "    <tr>\n",
       "      <th>2741</th>\n",
       "      <td>1080486403530768385</td>\n",
       "      <td>16343974</td>\n",
       "      <td>2019-01-02 15:30:07</td>\n",
       "      <td>https://www.telegraph.co.uk/news/2019/01/02/th...</td>\n",
       "      <td>Three people found dead in Kirton house fire a...</td>\n",
       "      <td>2019-01-02 00:00:00</td>\n",
       "      <td>Three people have died following a fire in Kir...</td>\n",
       "    </tr>\n",
       "    <tr>\n",
       "      <th>2742</th>\n",
       "      <td>1079086882116550667</td>\n",
       "      <td>16343974</td>\n",
       "      <td>2018-12-29 18:48:55</td>\n",
       "      <td>https://www.telegraph.co.uk/news/2018/12/29/br...</td>\n",
       "      <td>British Army Captain completes historic trek a...</td>\n",
       "      <td>2018-12-29 00:00:00</td>\n",
       "      <td>A British Army Captain has completed a solo An...</td>\n",
       "    </tr>\n",
       "    <tr>\n",
       "      <th>2743</th>\n",
       "      <td>1078928133791928320</td>\n",
       "      <td>16343974</td>\n",
       "      <td>2018-12-29 08:18:07</td>\n",
       "      <td>https://www.telegraph.co.uk/news/2018/12/29/ca...</td>\n",
       "      <td>Casualties from crashes caused by slow drivers...</td>\n",
       "      <td>2018-12-29 00:00:00</td>\n",
       "      <td>Casualties from crashes caused by slow drivers...</td>\n",
       "    </tr>\n",
       "    <tr>\n",
       "      <th>2744</th>\n",
       "      <td>1078411309841108992</td>\n",
       "      <td>16343974</td>\n",
       "      <td>2018-12-27 22:04:26</td>\n",
       "      <td>https://www.telegraph.co.uk/technology/2018/12...</td>\n",
       "      <td>Three under pressure to review Huawei 5G deal ...</td>\n",
       "      <td>2018-12-27 00:00:00</td>\n",
       "      <td>One of Britain's largest mobile providers is f...</td>\n",
       "    </tr>\n",
       "    <tr>\n",
       "      <th>2745</th>\n",
       "      <td>1080081370498646017</td>\n",
       "      <td>16343974</td>\n",
       "      <td>2019-01-01 12:40:40</td>\n",
       "      <td>https://www.telegraph.co.uk/news/2018/12/31/so...</td>\n",
       "      <td>Soaring numbers of patients sent home from hos...</td>\n",
       "      <td>2018-12-31 00:00:00</td>\n",
       "      <td>Vulnerable patients - many elderly - are incre...</td>\n",
       "    </tr>\n",
       "    <tr>\n",
       "      <th>...</th>\n",
       "      <td>...</td>\n",
       "      <td>...</td>\n",
       "      <td>...</td>\n",
       "      <td>...</td>\n",
       "      <td>...</td>\n",
       "      <td>...</td>\n",
       "      <td>...</td>\n",
       "    </tr>\n",
       "    <tr>\n",
       "      <th>3288</th>\n",
       "      <td>1081661479793905665</td>\n",
       "      <td>16343974</td>\n",
       "      <td>2019-01-05 21:19:27</td>\n",
       "      <td>https://www.telegraph.co.uk/news/2019/01/05/ig...</td>\n",
       "      <td>Ignoring the difference between legal and ille...</td>\n",
       "      <td>2019-01-05 00:00:00</td>\n",
       "      <td>I was 11 years old the first time our home in ...</td>\n",
       "    </tr>\n",
       "    <tr>\n",
       "      <th>3289</th>\n",
       "      <td>1078943971534086144</td>\n",
       "      <td>16343974</td>\n",
       "      <td>2018-12-29 09:21:03</td>\n",
       "      <td>https://www.telegraph.co.uk/news/2018/12/29/20...</td>\n",
       "      <td>'2018 was a tetchy, overcast year, but the glo...</td>\n",
       "      <td>2018-12-29 00:00:00</td>\n",
       "      <td>It was a tetchy, overcast sort of year, but th...</td>\n",
       "    </tr>\n",
       "    <tr>\n",
       "      <th>3290</th>\n",
       "      <td>1081281155238977538</td>\n",
       "      <td>16343974</td>\n",
       "      <td>2019-01-04 20:08:11</td>\n",
       "      <td>https://www.telegraph.co.uk/news/2019/01/04/ma...</td>\n",
       "      <td>Man stabbed to death in front of his son on bo...</td>\n",
       "      <td>2019-01-04 00:00:00</td>\n",
       "      <td>A murder investigation has been launched follo...</td>\n",
       "    </tr>\n",
       "    <tr>\n",
       "      <th>3291</th>\n",
       "      <td>1082532383767887872</td>\n",
       "      <td>16343974</td>\n",
       "      <td>2019-01-08 07:00:07</td>\n",
       "      <td>https://www.telegraph.co.uk/politics/2019/01/0...</td>\n",
       "      <td>Vision will build an NHS that is fit for every...</td>\n",
       "      <td>2019-01-07 00:00:00</td>\n",
       "      <td>The NHS is one of our country's largest employ...</td>\n",
       "    </tr>\n",
       "    <tr>\n",
       "      <th>3292</th>\n",
       "      <td>1082887228555173888</td>\n",
       "      <td>16343974</td>\n",
       "      <td>2019-01-09 06:30:09</td>\n",
       "      <td>https://www.telegraph.co.uk/politics/2019/01/0...</td>\n",
       "      <td>Hate laws have left police in a quandary over ...</td>\n",
       "      <td>2019-01-08 00:00:00</td>\n",
       "      <td>Do you remember Brian Haw? Anyone working in W...</td>\n",
       "    </tr>\n",
       "  </tbody>\n",
       "</table>\n",
       "<p>552 rows × 7 columns</p>\n",
       "</div>"
      ],
      "text/plain": [
       "                  news_id  newsoutlet_id      news_tweet_date  \\\n",
       "2741  1080486403530768385       16343974  2019-01-02 15:30:07   \n",
       "2742  1079086882116550667       16343974  2018-12-29 18:48:55   \n",
       "2743  1078928133791928320       16343974  2018-12-29 08:18:07   \n",
       "2744  1078411309841108992       16343974  2018-12-27 22:04:26   \n",
       "2745  1080081370498646017       16343974  2019-01-01 12:40:40   \n",
       "...                   ...            ...                  ...   \n",
       "3288  1081661479793905665       16343974  2019-01-05 21:19:27   \n",
       "3289  1078943971534086144       16343974  2018-12-29 09:21:03   \n",
       "3290  1081281155238977538       16343974  2019-01-04 20:08:11   \n",
       "3291  1082532383767887872       16343974  2019-01-08 07:00:07   \n",
       "3292  1082887228555173888       16343974  2019-01-09 06:30:09   \n",
       "\n",
       "                                               news_url  \\\n",
       "2741  https://www.telegraph.co.uk/news/2019/01/02/th...   \n",
       "2742  https://www.telegraph.co.uk/news/2018/12/29/br...   \n",
       "2743  https://www.telegraph.co.uk/news/2018/12/29/ca...   \n",
       "2744  https://www.telegraph.co.uk/technology/2018/12...   \n",
       "2745  https://www.telegraph.co.uk/news/2018/12/31/so...   \n",
       "...                                                 ...   \n",
       "3288  https://www.telegraph.co.uk/news/2019/01/05/ig...   \n",
       "3289  https://www.telegraph.co.uk/news/2018/12/29/20...   \n",
       "3290  https://www.telegraph.co.uk/news/2019/01/04/ma...   \n",
       "3291  https://www.telegraph.co.uk/politics/2019/01/0...   \n",
       "3292  https://www.telegraph.co.uk/politics/2019/01/0...   \n",
       "\n",
       "                                              new_title            news_date  \\\n",
       "2741  Three people found dead in Kirton house fire a...  2019-01-02 00:00:00   \n",
       "2742  British Army Captain completes historic trek a...  2018-12-29 00:00:00   \n",
       "2743  Casualties from crashes caused by slow drivers...  2018-12-29 00:00:00   \n",
       "2744  Three under pressure to review Huawei 5G deal ...  2018-12-27 00:00:00   \n",
       "2745  Soaring numbers of patients sent home from hos...  2018-12-31 00:00:00   \n",
       "...                                                 ...                  ...   \n",
       "3288  Ignoring the difference between legal and ille...  2019-01-05 00:00:00   \n",
       "3289  '2018 was a tetchy, overcast year, but the glo...  2018-12-29 00:00:00   \n",
       "3290  Man stabbed to death in front of his son on bo...  2019-01-04 00:00:00   \n",
       "3291  Vision will build an NHS that is fit for every...  2019-01-07 00:00:00   \n",
       "3292  Hate laws have left police in a quandary over ...  2019-01-08 00:00:00   \n",
       "\n",
       "                                              news_text  \n",
       "2741  Three people have died following a fire in Kir...  \n",
       "2742  A British Army Captain has completed a solo An...  \n",
       "2743  Casualties from crashes caused by slow drivers...  \n",
       "2744  One of Britain's largest mobile providers is f...  \n",
       "2745  Vulnerable patients - many elderly - are incre...  \n",
       "...                                                 ...  \n",
       "3288  I was 11 years old the first time our home in ...  \n",
       "3289  It was a tetchy, overcast sort of year, but th...  \n",
       "3290  A murder investigation has been launched follo...  \n",
       "3291  The NHS is one of our country's largest employ...  \n",
       "3292  Do you remember Brian Haw? Anyone working in W...  \n",
       "\n",
       "[552 rows x 7 columns]"
      ]
     },
     "execution_count": 17,
     "metadata": {},
     "output_type": "execute_result"
    }
   ],
   "source": [
    "items2[items2.duplicated()]"
   ]
  },
  {
   "cell_type": "code",
   "execution_count": 28,
   "metadata": {},
   "outputs": [
    {
     "data": {
      "text/html": [
       "<div>\n",
       "<style scoped>\n",
       "    .dataframe tbody tr th:only-of-type {\n",
       "        vertical-align: middle;\n",
       "    }\n",
       "\n",
       "    .dataframe tbody tr th {\n",
       "        vertical-align: top;\n",
       "    }\n",
       "\n",
       "    .dataframe thead th {\n",
       "        text-align: right;\n",
       "    }\n",
       "</style>\n",
       "<table border=\"1\" class=\"dataframe\">\n",
       "  <thead>\n",
       "    <tr style=\"text-align: right;\">\n",
       "      <th></th>\n",
       "      <th>news_id</th>\n",
       "      <th>newsoutlet_id</th>\n",
       "      <th>news_tweet_date</th>\n",
       "      <th>news_url</th>\n",
       "      <th>new_title</th>\n",
       "      <th>news_date</th>\n",
       "      <th>news_text</th>\n",
       "      <th>single_news_id</th>\n",
       "    </tr>\n",
       "  </thead>\n",
       "  <tbody>\n",
       "    <tr>\n",
       "      <th>0</th>\n",
       "      <td>1079995915652476928</td>\n",
       "      <td>28785486</td>\n",
       "      <td>2019-01-01 07:01:06</td>\n",
       "      <td>https://abcn.ws/2CIbHpE</td>\n",
       "      <td>China factory activity shrinks for the first t...</td>\n",
       "      <td>NaN</td>\n",
       "      <td>China's factory activity shrank in December fo...</td>\n",
       "      <td>0</td>\n",
       "    </tr>\n",
       "    <tr>\n",
       "      <th>1</th>\n",
       "      <td>1084039102008385536</td>\n",
       "      <td>28785486</td>\n",
       "      <td>2019-01-12 10:47:17</td>\n",
       "      <td>https://abcn.ws/2Fr7ict</td>\n",
       "      <td>ABC News</td>\n",
       "      <td>NaN</td>\n",
       "      <td>External links are provided for reference purp...</td>\n",
       "      <td>1</td>\n",
       "    </tr>\n",
       "    <tr>\n",
       "      <th>2</th>\n",
       "      <td>1084275179331772416</td>\n",
       "      <td>28785486</td>\n",
       "      <td>2019-01-13 02:25:22</td>\n",
       "      <td>https://abcn.ws/2Fv3iri</td>\n",
       "      <td>Drone captures California man surfing with dol...</td>\n",
       "      <td>NaN</td>\n",
       "      <td>Breathtaking drone video of a pod of friendly,...</td>\n",
       "      <td>2</td>\n",
       "    </tr>\n",
       "    <tr>\n",
       "      <th>3</th>\n",
       "      <td>1080216134467702784</td>\n",
       "      <td>28785486</td>\n",
       "      <td>2019-01-01 21:36:10</td>\n",
       "      <td>https://abcn.ws/2CHWRj9</td>\n",
       "      <td>In 'unprecedented' speech, Kim Jong Un says No...</td>\n",
       "      <td>NaN</td>\n",
       "      <td>Kim Jong Un says he is ready to sit down again...</td>\n",
       "      <td>3</td>\n",
       "    </tr>\n",
       "    <tr>\n",
       "      <th>4</th>\n",
       "      <td>1080901028365697026</td>\n",
       "      <td>28785486</td>\n",
       "      <td>2019-01-03 18:57:41</td>\n",
       "      <td>https://abcn.ws/2CMaEVD</td>\n",
       "      <td>Reward grows to $75,000 in hunt for killer of ...</td>\n",
       "      <td>NaN</td>\n",
       "      <td>A reward for information leading to the arrest...</td>\n",
       "      <td>4</td>\n",
       "    </tr>\n",
       "  </tbody>\n",
       "</table>\n",
       "</div>"
      ],
      "text/plain": [
       "               news_id  newsoutlet_id      news_tweet_date  \\\n",
       "0  1079995915652476928       28785486  2019-01-01 07:01:06   \n",
       "1  1084039102008385536       28785486  2019-01-12 10:47:17   \n",
       "2  1084275179331772416       28785486  2019-01-13 02:25:22   \n",
       "3  1080216134467702784       28785486  2019-01-01 21:36:10   \n",
       "4  1080901028365697026       28785486  2019-01-03 18:57:41   \n",
       "\n",
       "                  news_url                                          new_title  \\\n",
       "0  https://abcn.ws/2CIbHpE  China factory activity shrinks for the first t...   \n",
       "1  https://abcn.ws/2Fr7ict                                           ABC News   \n",
       "2  https://abcn.ws/2Fv3iri  Drone captures California man surfing with dol...   \n",
       "3  https://abcn.ws/2CHWRj9  In 'unprecedented' speech, Kim Jong Un says No...   \n",
       "4  https://abcn.ws/2CMaEVD  Reward grows to $75,000 in hunt for killer of ...   \n",
       "\n",
       "  news_date                                          news_text  single_news_id  \n",
       "0       NaN  China's factory activity shrank in December fo...               0  \n",
       "1       NaN  External links are provided for reference purp...               1  \n",
       "2       NaN  Breathtaking drone video of a pod of friendly,...               2  \n",
       "3       NaN  Kim Jong Un says he is ready to sit down again...               3  \n",
       "4       NaN  A reward for information leading to the arrest...               4  "
      ]
     },
     "execution_count": 28,
     "metadata": {},
     "output_type": "execute_result"
    }
   ],
   "source": [
    "# cria coluna com os índices ficando cada linha com uma chave única\n",
    "items['single_news_id'] = items.index\n",
    "items.head()"
   ]
  },
  {
   "cell_type": "code",
   "execution_count": 29,
   "metadata": {},
   "outputs": [
    {
     "name": "stdout",
     "output_type": "stream",
     "text": [
      "news_id \t => count 42706, únicos 42706, duplicados 0\n",
      "newsoutlet_id \t => count 42706, únicos 28, duplicados 42678\n",
      "news_tweet_date \t => count 42706, únicos 39326, duplicados 3380\n",
      "news_url \t => count 42706, únicos 37204, duplicados 5502\n",
      "new_title \t => count 42633, únicos 28475, duplicados 14158\n",
      "news_date \t => count 26839, únicos 16914, duplicados 9925\n",
      "news_text \t => count 42183, únicos 30180, duplicados 12003\n",
      "single_news_id \t => count 42706, únicos 42706, duplicados 0\n"
     ]
    }
   ],
   "source": [
    "def show_dup(items,feature):  \n",
    "    a=items[feature].count()\n",
    "    b=items[feature].nunique()\n",
    "    print(f'{feature} \\t => count {a}, únicos {b}, duplicados {a-b}')\n",
    "\n",
    "features = items.columns.tolist()\n",
    "\n",
    "for feature in features:\n",
    "    show_dup(items,feature)\n"
   ]
  },
  {
   "cell_type": "code",
   "execution_count": 30,
   "metadata": {},
   "outputs": [
    {
     "data": {
      "text/plain": [
       "16973333      4778\n",
       "17895820      3474\n",
       "34655603      3248\n",
       "87818409      2977\n",
       "16887175      2808\n",
       "95431448      2096\n",
       "14173315      1993\n",
       "759251        1796\n",
       "2467791       1561\n",
       "28785486      1498\n",
       "7587032       1487\n",
       "3108351       1314\n",
       "807095        1277\n",
       "111556423     1272\n",
       "138749160     1228\n",
       "15012486      1225\n",
       "14293310      1093\n",
       "14511951      1053\n",
       "15754281      1006\n",
       "1020058453     862\n",
       "5392522        851\n",
       "6107422        726\n",
       "271413771      720\n",
       "612473         691\n",
       "16343974       552\n",
       "7309052        499\n",
       "21866939       436\n",
       "428333         185\n",
       "Name: newsoutlet_id, dtype: int64"
      ]
     },
     "execution_count": 30,
     "metadata": {},
     "output_type": "execute_result"
    }
   ],
   "source": [
    "items['newsoutlet_id'].value_counts()"
   ]
  },
  {
   "cell_type": "code",
   "execution_count": 31,
   "metadata": {},
   "outputs": [
    {
     "data": {
      "text/plain": [
       "42706"
      ]
     },
     "execution_count": 31,
     "metadata": {},
     "output_type": "execute_result"
    }
   ],
   "source": [
    "items['news_id'].nunique()"
   ]
  },
  {
   "cell_type": "markdown",
   "metadata": {},
   "source": [
    "### Missing values"
   ]
  },
  {
   "cell_type": "code",
   "execution_count": 32,
   "metadata": {
    "scrolled": true
   },
   "outputs": [
    {
     "name": "stdout",
     "output_type": "stream",
     "text": [
      "news_id                0\n",
      "newsoutlet_id          0\n",
      "news_tweet_date        0\n",
      "news_url               0\n",
      "new_title             73\n",
      "news_date          15867\n",
      "news_text            523\n",
      "single_news_id         0\n",
      "dtype: int64\n"
     ]
    }
   ],
   "source": [
    "items_missing_v = items.isnull().sum()\n",
    "print(items_missing_v)"
   ]
  },
  {
   "cell_type": "code",
   "execution_count": 33,
   "metadata": {},
   "outputs": [
    {
     "data": {
      "text/plain": [
       "2018-12-31 00:00:00          111\n",
       "2019-01-03 00:00:00          110\n",
       "2019-01-11 00:00:00           98\n",
       "2019-01-04 00:00:00           96\n",
       "2019-01-08 00:00:00           92\n",
       "                            ... \n",
       "2018-12-27 14:31:43+00:00      1\n",
       "2018-12-29 13:37:15-05:00      1\n",
       "2019-01-08 01:16:00            1\n",
       "2019-01-08 11:44:08+00:00      1\n",
       "2019-01-12T09:57-500           1\n",
       "Name: news_date, Length: 16914, dtype: int64"
      ]
     },
     "execution_count": 33,
     "metadata": {},
     "output_type": "execute_result"
    }
   ],
   "source": [
    "items['news_date'].value_counts()"
   ]
  },
  {
   "cell_type": "code",
   "execution_count": 34,
   "metadata": {},
   "outputs": [
    {
     "data": {
      "text/plain": [
       "news_id  newsoutlet_id  news_tweet_date  news_url  new_title  news_date  news_text  single_news_id\n",
       "False    False          False            False     False      False      False      False             26837\n",
       "                                                              True       False      False             15346\n",
       "                                                                         True       False               448\n",
       "                                                   True       True       True       False                73\n",
       "                                                   False      False      True       False                 2\n",
       "dtype: int64"
      ]
     },
     "execution_count": 34,
     "metadata": {},
     "output_type": "execute_result"
    }
   ],
   "source": [
    "items.isnull().value_counts()"
   ]
  },
  {
   "cell_type": "markdown",
   "metadata": {},
   "source": [
    "Caso *news_title=True and news_date=True and news_text=True* => 72"
   ]
  },
  {
   "cell_type": "code",
   "execution_count": 35,
   "metadata": {},
   "outputs": [
    {
     "data": {
      "text/html": [
       "<div>\n",
       "<style scoped>\n",
       "    .dataframe tbody tr th:only-of-type {\n",
       "        vertical-align: middle;\n",
       "    }\n",
       "\n",
       "    .dataframe tbody tr th {\n",
       "        vertical-align: top;\n",
       "    }\n",
       "\n",
       "    .dataframe thead th {\n",
       "        text-align: right;\n",
       "    }\n",
       "</style>\n",
       "<table border=\"1\" class=\"dataframe\">\n",
       "  <thead>\n",
       "    <tr style=\"text-align: right;\">\n",
       "      <th></th>\n",
       "      <th>news_id</th>\n",
       "      <th>newsoutlet_id</th>\n",
       "      <th>news_tweet_date</th>\n",
       "      <th>news_url</th>\n",
       "      <th>new_title</th>\n",
       "      <th>news_date</th>\n",
       "      <th>news_text</th>\n",
       "      <th>single_news_id</th>\n",
       "    </tr>\n",
       "  </thead>\n",
       "  <tbody>\n",
       "    <tr>\n",
       "      <th>1262</th>\n",
       "      <td>1084463214778175488</td>\n",
       "      <td>28785486</td>\n",
       "      <td>2019-01-13 14:52:33</td>\n",
       "      <td>https://abcn.ws/2RIoTDs</td>\n",
       "      <td>NaN</td>\n",
       "      <td>NaN</td>\n",
       "      <td>NaN</td>\n",
       "      <td>1262</td>\n",
       "    </tr>\n",
       "    <tr>\n",
       "      <th>15960</th>\n",
       "      <td>1082766726146740225</td>\n",
       "      <td>2467791</td>\n",
       "      <td>2019-01-08 22:31:19</td>\n",
       "      <td>https://wapo.st/2FnsoIX</td>\n",
       "      <td>NaN</td>\n",
       "      <td>NaN</td>\n",
       "      <td>NaN</td>\n",
       "      <td>15960</td>\n",
       "    </tr>\n",
       "    <tr>\n",
       "      <th>15979</th>\n",
       "      <td>1080070538079490048</td>\n",
       "      <td>2467791</td>\n",
       "      <td>2019-01-01 11:57:37</td>\n",
       "      <td>https://wapo.st/2F1Wdya</td>\n",
       "      <td>NaN</td>\n",
       "      <td>NaN</td>\n",
       "      <td>NaN</td>\n",
       "      <td>15979</td>\n",
       "    </tr>\n",
       "    <tr>\n",
       "      <th>15983</th>\n",
       "      <td>1082820341574103041</td>\n",
       "      <td>2467791</td>\n",
       "      <td>2019-01-09 02:04:21</td>\n",
       "      <td>https://wapo.st/2FiReJH</td>\n",
       "      <td>NaN</td>\n",
       "      <td>NaN</td>\n",
       "      <td>NaN</td>\n",
       "      <td>15983</td>\n",
       "    </tr>\n",
       "    <tr>\n",
       "      <th>16011</th>\n",
       "      <td>1079841234968023041</td>\n",
       "      <td>2467791</td>\n",
       "      <td>2018-12-31 20:46:27</td>\n",
       "      <td>https://wapo.st/2Vn7z5C</td>\n",
       "      <td>NaN</td>\n",
       "      <td>NaN</td>\n",
       "      <td>NaN</td>\n",
       "      <td>16011</td>\n",
       "    </tr>\n",
       "    <tr>\n",
       "      <th>...</th>\n",
       "      <td>...</td>\n",
       "      <td>...</td>\n",
       "      <td>...</td>\n",
       "      <td>...</td>\n",
       "      <td>...</td>\n",
       "      <td>...</td>\n",
       "      <td>...</td>\n",
       "      <td>...</td>\n",
       "    </tr>\n",
       "    <tr>\n",
       "      <th>17452</th>\n",
       "      <td>1078788995524554754</td>\n",
       "      <td>2467791</td>\n",
       "      <td>2018-12-28 23:05:14</td>\n",
       "      <td>https://wapo.st/2ERlw68</td>\n",
       "      <td>NaN</td>\n",
       "      <td>NaN</td>\n",
       "      <td>NaN</td>\n",
       "      <td>17452</td>\n",
       "    </tr>\n",
       "    <tr>\n",
       "      <th>17483</th>\n",
       "      <td>1080608449531179013</td>\n",
       "      <td>2467791</td>\n",
       "      <td>2019-01-02 23:35:05</td>\n",
       "      <td>https://wapo.st/2CFqXDG</td>\n",
       "      <td>NaN</td>\n",
       "      <td>NaN</td>\n",
       "      <td>NaN</td>\n",
       "      <td>17483</td>\n",
       "    </tr>\n",
       "    <tr>\n",
       "      <th>17489</th>\n",
       "      <td>1081289934370230273</td>\n",
       "      <td>2467791</td>\n",
       "      <td>2019-01-04 20:43:04</td>\n",
       "      <td>https://wapo.st/2CQblgH</td>\n",
       "      <td>NaN</td>\n",
       "      <td>NaN</td>\n",
       "      <td>NaN</td>\n",
       "      <td>17489</td>\n",
       "    </tr>\n",
       "    <tr>\n",
       "      <th>17494</th>\n",
       "      <td>1084205158064685056</td>\n",
       "      <td>2467791</td>\n",
       "      <td>2019-01-12 21:47:07</td>\n",
       "      <td>https://wapo.st/2D5uqvr</td>\n",
       "      <td>NaN</td>\n",
       "      <td>NaN</td>\n",
       "      <td>NaN</td>\n",
       "      <td>17494</td>\n",
       "    </tr>\n",
       "    <tr>\n",
       "      <th>17504</th>\n",
       "      <td>1080666565576663045</td>\n",
       "      <td>2467791</td>\n",
       "      <td>2019-01-03 03:26:01</td>\n",
       "      <td>https://wapo.st/2F6nwYy</td>\n",
       "      <td>NaN</td>\n",
       "      <td>NaN</td>\n",
       "      <td>NaN</td>\n",
       "      <td>17504</td>\n",
       "    </tr>\n",
       "  </tbody>\n",
       "</table>\n",
       "<p>73 rows × 8 columns</p>\n",
       "</div>"
      ],
      "text/plain": [
       "                   news_id  newsoutlet_id      news_tweet_date  \\\n",
       "1262   1084463214778175488       28785486  2019-01-13 14:52:33   \n",
       "15960  1082766726146740225        2467791  2019-01-08 22:31:19   \n",
       "15979  1080070538079490048        2467791  2019-01-01 11:57:37   \n",
       "15983  1082820341574103041        2467791  2019-01-09 02:04:21   \n",
       "16011  1079841234968023041        2467791  2018-12-31 20:46:27   \n",
       "...                    ...            ...                  ...   \n",
       "17452  1078788995524554754        2467791  2018-12-28 23:05:14   \n",
       "17483  1080608449531179013        2467791  2019-01-02 23:35:05   \n",
       "17489  1081289934370230273        2467791  2019-01-04 20:43:04   \n",
       "17494  1084205158064685056        2467791  2019-01-12 21:47:07   \n",
       "17504  1080666565576663045        2467791  2019-01-03 03:26:01   \n",
       "\n",
       "                      news_url new_title news_date news_text  single_news_id  \n",
       "1262   https://abcn.ws/2RIoTDs       NaN       NaN       NaN            1262  \n",
       "15960  https://wapo.st/2FnsoIX       NaN       NaN       NaN           15960  \n",
       "15979  https://wapo.st/2F1Wdya       NaN       NaN       NaN           15979  \n",
       "15983  https://wapo.st/2FiReJH       NaN       NaN       NaN           15983  \n",
       "16011  https://wapo.st/2Vn7z5C       NaN       NaN       NaN           16011  \n",
       "...                        ...       ...       ...       ...             ...  \n",
       "17452  https://wapo.st/2ERlw68       NaN       NaN       NaN           17452  \n",
       "17483  https://wapo.st/2CFqXDG       NaN       NaN       NaN           17483  \n",
       "17489  https://wapo.st/2CQblgH       NaN       NaN       NaN           17489  \n",
       "17494  https://wapo.st/2D5uqvr       NaN       NaN       NaN           17494  \n",
       "17504  https://wapo.st/2F6nwYy       NaN       NaN       NaN           17504  \n",
       "\n",
       "[73 rows x 8 columns]"
      ]
     },
     "execution_count": 35,
     "metadata": {},
     "output_type": "execute_result"
    }
   ],
   "source": [
    "sem_txt_date_title = items[items['new_title'].isnull() & items['news_date'].isnull() & items['news_text'].isnull()]\n",
    "sem_txt_date_title"
   ]
  },
  {
   "cell_type": "markdown",
   "metadata": {},
   "source": [
    "O mesmo url está presente em news_id's diferentes!"
   ]
  },
  {
   "cell_type": "code",
   "execution_count": 36,
   "metadata": {},
   "outputs": [
    {
     "data": {
      "text/plain": [
       "https://news.sky.com/                                                                                              61\n",
       "https://cbsn.ws/2iuAAgA                                                                                            31\n",
       "https://www.indy100.com/article/service-dog-sally-angry-shouts-handler-pet-mall-pittsburgh-8696361                 23\n",
       "https://www.indy100.com/article/brexit-jokes-memes-funniest-theresa-may-eu-deal-britain-parliament-vote-8679891    22\n",
       "https://www.indy100.com/article/science-astrophysicists-twitter-katie-mack-climate-change-8704531                  20\n",
       "                                                                                                                   ..\n",
       "https://dailym.ai/2FhVFoh                                                                                           1\n",
       "https://trib.al/PuCAH9u                                                                                             1\n",
       "http://news.sky.com/story/mass-grave-of-hundreds-of-babies-to-be-excavated-in-ireland-11593889                      1\n",
       "https://dailym.ai/2CPV2kh                                                                                           1\n",
       "http://mag.time.com/bU8HV7N                                                                                         1\n",
       "Name: news_url, Length: 37204, dtype: int64"
      ]
     },
     "execution_count": 36,
     "metadata": {},
     "output_type": "execute_result"
    }
   ],
   "source": [
    "items['news_url'].value_counts()"
   ]
  },
  {
   "cell_type": "code",
   "execution_count": 37,
   "metadata": {},
   "outputs": [
    {
     "data": {
      "text/plain": [
       "73"
      ]
     },
     "execution_count": 37,
     "metadata": {},
     "output_type": "execute_result"
    }
   ],
   "source": [
    "sem_txt_date_title['newsoutlet_id'].count()"
   ]
  },
  {
   "cell_type": "code",
   "execution_count": 38,
   "metadata": {},
   "outputs": [],
   "source": [
    "# export do csv\n",
    "items.to_csv('items.csv', index=False)"
   ]
  },
  {
   "cell_type": "code",
   "execution_count": 40,
   "metadata": {},
   "outputs": [
    {
     "data": {
      "text/html": [
       "<div>\n",
       "<style scoped>\n",
       "    .dataframe tbody tr th:only-of-type {\n",
       "        vertical-align: middle;\n",
       "    }\n",
       "\n",
       "    .dataframe tbody tr th {\n",
       "        vertical-align: top;\n",
       "    }\n",
       "\n",
       "    .dataframe thead th {\n",
       "        text-align: right;\n",
       "    }\n",
       "</style>\n",
       "<table border=\"1\" class=\"dataframe\">\n",
       "  <thead>\n",
       "    <tr style=\"text-align: right;\">\n",
       "      <th></th>\n",
       "      <th>news_id</th>\n",
       "      <th>newsoutlet_id</th>\n",
       "      <th>news_tweet_date</th>\n",
       "      <th>news_url</th>\n",
       "      <th>new_title</th>\n",
       "      <th>news_date</th>\n",
       "      <th>news_text</th>\n",
       "      <th>single_news_id</th>\n",
       "    </tr>\n",
       "  </thead>\n",
       "  <tbody>\n",
       "    <tr>\n",
       "      <th>0</th>\n",
       "      <td>1079995915652476928</td>\n",
       "      <td>28785486</td>\n",
       "      <td>2019-01-01 07:01:06</td>\n",
       "      <td>https://abcn.ws/2CIbHpE</td>\n",
       "      <td>China factory activity shrinks for the first t...</td>\n",
       "      <td>NaN</td>\n",
       "      <td>China's factory activity shrank in December fo...</td>\n",
       "      <td>0</td>\n",
       "    </tr>\n",
       "    <tr>\n",
       "      <th>1</th>\n",
       "      <td>1084039102008385536</td>\n",
       "      <td>28785486</td>\n",
       "      <td>2019-01-12 10:47:17</td>\n",
       "      <td>https://abcn.ws/2Fr7ict</td>\n",
       "      <td>ABC News</td>\n",
       "      <td>NaN</td>\n",
       "      <td>External links are provided for reference purp...</td>\n",
       "      <td>1</td>\n",
       "    </tr>\n",
       "    <tr>\n",
       "      <th>2</th>\n",
       "      <td>1084275179331772416</td>\n",
       "      <td>28785486</td>\n",
       "      <td>2019-01-13 02:25:22</td>\n",
       "      <td>https://abcn.ws/2Fv3iri</td>\n",
       "      <td>Drone captures California man surfing with dol...</td>\n",
       "      <td>NaN</td>\n",
       "      <td>Breathtaking drone video of a pod of friendly,...</td>\n",
       "      <td>2</td>\n",
       "    </tr>\n",
       "    <tr>\n",
       "      <th>3</th>\n",
       "      <td>1080216134467702784</td>\n",
       "      <td>28785486</td>\n",
       "      <td>2019-01-01 21:36:10</td>\n",
       "      <td>https://abcn.ws/2CHWRj9</td>\n",
       "      <td>In 'unprecedented' speech, Kim Jong Un says No...</td>\n",
       "      <td>NaN</td>\n",
       "      <td>Kim Jong Un says he is ready to sit down again...</td>\n",
       "      <td>3</td>\n",
       "    </tr>\n",
       "    <tr>\n",
       "      <th>4</th>\n",
       "      <td>1080901028365697026</td>\n",
       "      <td>28785486</td>\n",
       "      <td>2019-01-03 18:57:41</td>\n",
       "      <td>https://abcn.ws/2CMaEVD</td>\n",
       "      <td>Reward grows to $75,000 in hunt for killer of ...</td>\n",
       "      <td>NaN</td>\n",
       "      <td>A reward for information leading to the arrest...</td>\n",
       "      <td>4</td>\n",
       "    </tr>\n",
       "    <tr>\n",
       "      <th>...</th>\n",
       "      <td>...</td>\n",
       "      <td>...</td>\n",
       "      <td>...</td>\n",
       "      <td>...</td>\n",
       "      <td>...</td>\n",
       "      <td>...</td>\n",
       "      <td>...</td>\n",
       "      <td>...</td>\n",
       "    </tr>\n",
       "    <tr>\n",
       "      <th>43300</th>\n",
       "      <td>1079999842125078528</td>\n",
       "      <td>6107422</td>\n",
       "      <td>2019-01-01 07:16:42</td>\n",
       "      <td>https://www.thetimes.co.uk/article/world-welco...</td>\n",
       "      <td>World welcomes in new year with a smash, bang ...</td>\n",
       "      <td>NaN</td>\n",
       "      <td>Fireworks lit up the London Eye as thousands o...</td>\n",
       "      <td>43300</td>\n",
       "    </tr>\n",
       "    <tr>\n",
       "      <th>43301</th>\n",
       "      <td>1081112020659945472</td>\n",
       "      <td>6107422</td>\n",
       "      <td>2019-01-04 08:56:06</td>\n",
       "      <td>https://www.thetimes.co.uk/article/stalker-who...</td>\n",
       "      <td>Stalker who threatened to rape BBC’s Alex Love...</td>\n",
       "      <td>NaN</td>\n",
       "      <td>The BBC presenter Alex Lovell spent two years ...</td>\n",
       "      <td>43301</td>\n",
       "    </tr>\n",
       "    <tr>\n",
       "      <th>43302</th>\n",
       "      <td>1083018693053960192</td>\n",
       "      <td>6107422</td>\n",
       "      <td>2019-01-09 15:12:32</td>\n",
       "      <td>https://www.thetimes.co.uk/article/jorja-emers...</td>\n",
       "      <td>Jorja Emerson, the first child prescribed cann...</td>\n",
       "      <td>NaN</td>\n",
       "      <td>Sick children still face unacceptable obstacle...</td>\n",
       "      <td>43302</td>\n",
       "    </tr>\n",
       "    <tr>\n",
       "      <th>43303</th>\n",
       "      <td>1079661687941316609</td>\n",
       "      <td>6107422</td>\n",
       "      <td>2018-12-31 08:53:00</td>\n",
       "      <td>https://www.thetimes.co.uk/article/illegal-tax...</td>\n",
       "      <td>Illegal taxi drivers thrive on Facebook</td>\n",
       "      <td>NaN</td>\n",
       "      <td>Police say that people are risking their safet...</td>\n",
       "      <td>43303</td>\n",
       "    </tr>\n",
       "    <tr>\n",
       "      <th>43304</th>\n",
       "      <td>1081548013296893952</td>\n",
       "      <td>6107422</td>\n",
       "      <td>2019-01-05 13:48:35</td>\n",
       "      <td>https://www.thetimes.co.uk/article/if-only-som...</td>\n",
       "      <td>If only some vegans weren’t so bloody minded</td>\n",
       "      <td>NaN</td>\n",
       "      <td>How did a pastry get so political? When Greggs...</td>\n",
       "      <td>43304</td>\n",
       "    </tr>\n",
       "  </tbody>\n",
       "</table>\n",
       "<p>42706 rows × 8 columns</p>\n",
       "</div>"
      ],
      "text/plain": [
       "                   news_id  newsoutlet_id      news_tweet_date  \\\n",
       "0      1079995915652476928       28785486  2019-01-01 07:01:06   \n",
       "1      1084039102008385536       28785486  2019-01-12 10:47:17   \n",
       "2      1084275179331772416       28785486  2019-01-13 02:25:22   \n",
       "3      1080216134467702784       28785486  2019-01-01 21:36:10   \n",
       "4      1080901028365697026       28785486  2019-01-03 18:57:41   \n",
       "...                    ...            ...                  ...   \n",
       "43300  1079999842125078528        6107422  2019-01-01 07:16:42   \n",
       "43301  1081112020659945472        6107422  2019-01-04 08:56:06   \n",
       "43302  1083018693053960192        6107422  2019-01-09 15:12:32   \n",
       "43303  1079661687941316609        6107422  2018-12-31 08:53:00   \n",
       "43304  1081548013296893952        6107422  2019-01-05 13:48:35   \n",
       "\n",
       "                                                news_url  \\\n",
       "0                                https://abcn.ws/2CIbHpE   \n",
       "1                                https://abcn.ws/2Fr7ict   \n",
       "2                                https://abcn.ws/2Fv3iri   \n",
       "3                                https://abcn.ws/2CHWRj9   \n",
       "4                                https://abcn.ws/2CMaEVD   \n",
       "...                                                  ...   \n",
       "43300  https://www.thetimes.co.uk/article/world-welco...   \n",
       "43301  https://www.thetimes.co.uk/article/stalker-who...   \n",
       "43302  https://www.thetimes.co.uk/article/jorja-emers...   \n",
       "43303  https://www.thetimes.co.uk/article/illegal-tax...   \n",
       "43304  https://www.thetimes.co.uk/article/if-only-som...   \n",
       "\n",
       "                                               new_title news_date  \\\n",
       "0      China factory activity shrinks for the first t...       NaN   \n",
       "1                                               ABC News       NaN   \n",
       "2      Drone captures California man surfing with dol...       NaN   \n",
       "3      In 'unprecedented' speech, Kim Jong Un says No...       NaN   \n",
       "4      Reward grows to $75,000 in hunt for killer of ...       NaN   \n",
       "...                                                  ...       ...   \n",
       "43300  World welcomes in new year with a smash, bang ...       NaN   \n",
       "43301  Stalker who threatened to rape BBC’s Alex Love...       NaN   \n",
       "43302  Jorja Emerson, the first child prescribed cann...       NaN   \n",
       "43303            Illegal taxi drivers thrive on Facebook       NaN   \n",
       "43304       If only some vegans weren’t so bloody minded       NaN   \n",
       "\n",
       "                                               news_text  single_news_id  \n",
       "0      China's factory activity shrank in December fo...               0  \n",
       "1      External links are provided for reference purp...               1  \n",
       "2      Breathtaking drone video of a pod of friendly,...               2  \n",
       "3      Kim Jong Un says he is ready to sit down again...               3  \n",
       "4      A reward for information leading to the arrest...               4  \n",
       "...                                                  ...             ...  \n",
       "43300  Fireworks lit up the London Eye as thousands o...           43300  \n",
       "43301  The BBC presenter Alex Lovell spent two years ...           43301  \n",
       "43302  Sick children still face unacceptable obstacle...           43302  \n",
       "43303  Police say that people are risking their safet...           43303  \n",
       "43304  How did a pastry get so political? When Greggs...           43304  \n",
       "\n",
       "[42706 rows x 8 columns]"
      ]
     },
     "execution_count": 40,
     "metadata": {},
     "output_type": "execute_result"
    }
   ],
   "source": [
    "items"
   ]
  },
  {
   "cell_type": "code",
   "execution_count": null,
   "metadata": {},
   "outputs": [],
   "source": []
  }
 ],
 "metadata": {
  "kernelspec": {
   "display_name": "Python 3",
   "language": "python",
   "name": "python3"
  },
  "language_info": {
   "codemirror_mode": {
    "name": "ipython",
    "version": 3
   },
   "file_extension": ".py",
   "mimetype": "text/x-python",
   "name": "python",
   "nbconvert_exporter": "python",
   "pygments_lexer": "ipython3",
   "version": "3.8.5"
  }
 },
 "nbformat": 4,
 "nbformat_minor": 4
}
