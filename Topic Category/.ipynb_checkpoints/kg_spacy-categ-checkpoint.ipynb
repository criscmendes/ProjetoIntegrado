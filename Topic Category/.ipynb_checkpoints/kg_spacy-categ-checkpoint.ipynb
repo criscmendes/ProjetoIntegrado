{
 "cells": [
  {
   "cell_type": "code",
   "execution_count": 12,
   "metadata": {
    "_cell_guid": "b1076dfc-b9ad-4769-8c92-a6c4dae69d19",
    "_uuid": "8f2839f25d086af736a60e9eeb907d3b93b6e0e5",
    "execution": {
     "iopub.execute_input": "2021-05-28T17:05:01.079769Z",
     "iopub.status.busy": "2021-05-28T17:05:01.079291Z",
     "iopub.status.idle": "2021-05-28T17:05:01.085798Z",
     "shell.execute_reply": "2021-05-28T17:05:01.084562Z",
     "shell.execute_reply.started": "2021-05-28T17:05:01.079740Z"
    }
   },
   "outputs": [],
   "source": [
    "import json\n",
    "import keras.layers as layers\n",
    "import numpy as np\n",
    "import pandas as pd\n",
    "import spacy\n",
    "from gensim.corpora import Dictionary\n",
    "from keras.models import Model\n",
    "from keras.preprocessing import sequence\n",
    "from sklearn.metrics import classification_report\n",
    "from sklearn.model_selection import train_test_split\n",
    "from sklearn.preprocessing import LabelBinarizer\n",
    "from spacy.util import minibatch\n",
    "\n",
    "import en_core_web_sm"
   ]
  },
  {
   "cell_type": "code",
   "execution_count": 13,
   "metadata": {
    "execution": {
     "iopub.execute_input": "2021-05-28T17:05:01.355671Z",
     "iopub.status.busy": "2021-05-28T17:05:01.355316Z",
     "iopub.status.idle": "2021-05-28T17:05:05.116523Z",
     "shell.execute_reply": "2021-05-28T17:05:05.115492Z",
     "shell.execute_reply.started": "2021-05-28T17:05:01.355642Z"
    }
   },
   "outputs": [],
   "source": [
    "# nlp = spacy.load('en')\n",
    "nlp = spacy.load('en_core_web_sm')\n",
    "data = pd.read_json('../input/news-category/News_Category_Dataset_v2.json', lines=True)"
   ]
  },
  {
   "cell_type": "code",
   "execution_count": 14,
   "metadata": {
    "execution": {
     "iopub.execute_input": "2021-05-28T17:05:05.120185Z",
     "iopub.status.busy": "2021-05-28T17:05:05.119593Z",
     "iopub.status.idle": "2021-05-28T17:05:05.210517Z",
     "shell.execute_reply": "2021-05-28T17:05:05.209504Z",
     "shell.execute_reply.started": "2021-05-28T17:05:05.120139Z"
    }
   },
   "outputs": [],
   "source": [
    "# WORLDPOST and THE WORLDPOST were given as two separate categories in the dataset. Here I change the category THE WORLDPOST to WORLDPOST \n",
    "data.category = data.category.map(lambda x: \"WORLDPOST\" if x == \"THE WORLDPOST\" else x)"
   ]
  },
  {
   "cell_type": "code",
   "execution_count": 15,
   "metadata": {
    "execution": {
     "iopub.execute_input": "2021-05-28T17:05:05.213010Z",
     "iopub.status.busy": "2021-05-28T17:05:05.212606Z",
     "iopub.status.idle": "2021-05-28T17:05:05.266413Z",
     "shell.execute_reply": "2021-05-28T17:05:05.265394Z",
     "shell.execute_reply.started": "2021-05-28T17:05:05.212969Z"
    }
   },
   "outputs": [
    {
     "data": {
      "text/plain": [
       "category\n",
       "POLITICS          32739\n",
       "WELLNESS          17827\n",
       "ENTERTAINMENT     16058\n",
       "TRAVEL             9887\n",
       "STYLE & BEAUTY     9649\n",
       "PARENTING          8677\n",
       "HEALTHY LIVING     6694\n",
       "QUEER VOICES       6314\n",
       "WORLDPOST          6243\n",
       "FOOD & DRINK       6226\n",
       "BUSINESS           5937\n",
       "COMEDY             5175\n",
       "SPORTS             4884\n",
       "BLACK VOICES       4528\n",
       "HOME & LIVING      4195\n",
       "PARENTS            3955\n",
       "WEDDINGS           3651\n",
       "WOMEN              3490\n",
       "IMPACT             3459\n",
       "DIVORCE            3426\n",
       "CRIME              3405\n",
       "MEDIA              2815\n",
       "WEIRD NEWS         2670\n",
       "GREEN              2622\n",
       "RELIGION           2556\n",
       "STYLE              2254\n",
       "SCIENCE            2178\n",
       "WORLD NEWS         2177\n",
       "TASTE              2096\n",
       "TECH               2082\n",
       "MONEY              1707\n",
       "ARTS               1509\n",
       "FIFTY              1401\n",
       "GOOD NEWS          1398\n",
       "ARTS & CULTURE     1339\n",
       "ENVIRONMENT        1323\n",
       "COLLEGE            1144\n",
       "LATINO VOICES      1129\n",
       "CULTURE & ARTS     1030\n",
       "EDUCATION          1004\n",
       "dtype: int64"
      ]
     },
     "execution_count": 15,
     "metadata": {},
     "output_type": "execute_result"
    }
   ],
   "source": [
    "categories = data.groupby('category').size().sort_values(ascending=False)\n",
    "categories"
   ]
  },
  {
   "cell_type": "code",
   "execution_count": 16,
   "metadata": {
    "execution": {
     "iopub.execute_input": "2021-05-28T17:05:05.268409Z",
     "iopub.status.busy": "2021-05-28T17:05:05.268001Z",
     "iopub.status.idle": "2021-05-28T17:05:07.739176Z",
     "shell.execute_reply": "2021-05-28T17:05:07.738356Z",
     "shell.execute_reply.started": "2021-05-28T17:05:05.268371Z"
    }
   },
   "outputs": [],
   "source": [
    "TOP_N_CATEGORIES = 15\n",
    "data = data[data.category.apply(lambda x: x in categories.index[:TOP_N_CATEGORIES]) &\\\n",
    "            (data.headline.apply(len) > 0)]\n",
    "data_train, data_test = train_test_split(data, test_size=.1, random_state=31)"
   ]
  },
  {
   "cell_type": "markdown",
   "metadata": {},
   "source": [
    "# SpaCy Baseline"
   ]
  },
  {
   "cell_type": "code",
   "execution_count": 17,
   "metadata": {
    "execution": {
     "iopub.execute_input": "2021-05-28T17:05:07.741169Z",
     "iopub.status.busy": "2021-05-28T17:05:07.740738Z",
     "iopub.status.idle": "2021-05-28T17:21:16.655844Z",
     "shell.execute_reply": "2021-05-28T17:21:16.654802Z",
     "shell.execute_reply.started": "2021-05-28T17:05:07.741124Z"
    }
   },
   "outputs": [
    {
     "name": "stdout",
     "output_type": "stream",
     "text": [
      "Epoch 0\n",
      "Test Acc: 0.5236\n",
      "Epoch 1\n",
      "Test Acc: 0.6598\n",
      "Epoch 2\n",
      "Test Acc: 0.6979\n",
      "Epoch 3\n",
      "Test Acc: 0.7119\n",
      "Epoch 4\n",
      "Test Acc: 0.7211\n"
     ]
    }
   ],
   "source": [
    "# check if `textcat` is already in the pipe, add if not\n",
    "if 'textcat' not in nlp.pipe_names:\n",
    "    textcat = nlp.create_pipe('textcat')\n",
    "    nlp.add_pipe(textcat, last=True)\n",
    "else:\n",
    "    textcat = nlp.get_pipe('textcat')\n",
    "\n",
    "# add labels to the model    \n",
    "for label in categories.index[:TOP_N_CATEGORIES]:\n",
    "    textcat.add_label(label)\n",
    "\n",
    "# preprocess training data\n",
    "data_train_spacy = list(\n",
    "    zip(data_train.headline,\n",
    "        data_train.category.apply(\n",
    "            lambda cat: {'cats': {c: float(c == cat)\n",
    "                                  for c in categories.index[:TOP_N_CATEGORIES]}}))\n",
    ")\n",
    "\n",
    "# train the model\n",
    "other_pipes = [pipe for pipe in nlp.pipe_names if pipe != 'textcat']\n",
    "with nlp.disable_pipes(*other_pipes):\n",
    "    optimizer = nlp.begin_training()\n",
    "    for i in range(5):\n",
    "        print('Epoch %d' % i)\n",
    "        losses = {}\n",
    "        batches = minibatch(data_train_spacy, size=128)\n",
    "        for batch in batches:\n",
    "            texts, annotations = zip(*batch)\n",
    "            nlp.update(texts, annotations, sgd=optimizer, drop=0.2,\n",
    "                       losses=losses)\n",
    "        with textcat.model.use_params(optimizer.averages):\n",
    "            docs = [nlp.tokenizer(h) for h in data_test.headline]\n",
    "            test_pred = np.array(\n",
    "                [sorted(doc.cats.items(), key=lambda x: -x[1])[0][0]\n",
    "                 for doc in textcat.pipe(docs)])\n",
    "            print('Test Acc: %.4f' %\n",
    "                  (pd.Series(test_pred == data_test.category.values).sum() / data_test.shape[0]))"
   ]
  },
  {
   "cell_type": "code",
   "execution_count": 18,
   "metadata": {
    "execution": {
     "iopub.execute_input": "2021-05-28T17:21:16.658718Z",
     "iopub.status.busy": "2021-05-28T17:21:16.658020Z",
     "iopub.status.idle": "2021-05-28T17:21:47.140983Z",
     "shell.execute_reply": "2021-05-28T17:21:47.140182Z",
     "shell.execute_reply.started": "2021-05-28T17:21:16.658674Z"
    }
   },
   "outputs": [
    {
     "name": "stdout",
     "output_type": "stream",
     "text": [
      "                precision    recall  f1-score   support\n",
      "\n",
      "  BLACK VOICES       0.67      0.39      0.49       439\n",
      "      BUSINESS       0.61      0.47      0.53       606\n",
      "        COMEDY       0.76      0.39      0.51       547\n",
      " ENTERTAINMENT       0.70      0.80      0.75      1635\n",
      "  FOOD & DRINK       0.75      0.73      0.74       646\n",
      "HEALTHY LIVING       0.41      0.20      0.27       664\n",
      " HOME & LIVING       0.77      0.70      0.73       422\n",
      "     PARENTING       0.65      0.70      0.67       822\n",
      "      POLITICS       0.82      0.86      0.84      3303\n",
      "  QUEER VOICES       0.84      0.65      0.73       624\n",
      "        SPORTS       0.68      0.75      0.71       465\n",
      "STYLE & BEAUTY       0.81      0.79      0.80       944\n",
      "        TRAVEL       0.78      0.77      0.78      1038\n",
      "      WELLNESS       0.58      0.81      0.68      1717\n",
      "     WORLDPOST       0.74      0.73      0.73       631\n",
      "\n",
      "      accuracy                           0.72     14503\n",
      "     macro avg       0.70      0.65      0.66     14503\n",
      "  weighted avg       0.72      0.72      0.71     14503\n",
      "\n"
     ]
    }
   ],
   "source": [
    "spacy_y_pred = [sorted(doc.cats.items(), key=lambda x: -x[1])[0][0]\n",
    "                for doc in nlp.pipe(data_test.headline)]\n",
    "print(classification_report(data_test.category, spacy_y_pred))"
   ]
  },
  {
   "cell_type": "code",
   "execution_count": 19,
   "metadata": {
    "execution": {
     "iopub.execute_input": "2021-05-28T17:21:47.142704Z",
     "iopub.status.busy": "2021-05-28T17:21:47.142212Z",
     "iopub.status.idle": "2021-05-28T17:21:47.172050Z",
     "shell.execute_reply": "2021-05-28T17:21:47.170678Z",
     "shell.execute_reply.started": "2021-05-28T17:21:47.142674Z"
    }
   },
   "outputs": [
    {
     "ename": "AttributeError",
     "evalue": "'English' object has no attribute 'config'",
     "output_type": "error",
     "traceback": [
      "\u001b[0;31m---------------------------------------------------------------------------\u001b[0m",
      "\u001b[0;31mAttributeError\u001b[0m                            Traceback (most recent call last)",
      "\u001b[0;32m<ipython-input-19-e8be5e8d9ffb>\u001b[0m in \u001b[0;36m<module>\u001b[0;34m\u001b[0m\n\u001b[1;32m      1\u001b[0m \u001b[0;31m# SERIALIZE\u001b[0m\u001b[0;34m\u001b[0m\u001b[0;34m\u001b[0m\u001b[0;34m\u001b[0m\u001b[0m\n\u001b[0;32m----> 2\u001b[0;31m \u001b[0mconfig\u001b[0m \u001b[0;34m=\u001b[0m \u001b[0mnlp\u001b[0m\u001b[0;34m.\u001b[0m\u001b[0mconfig\u001b[0m\u001b[0;34m\u001b[0m\u001b[0;34m\u001b[0m\u001b[0m\n\u001b[0m\u001b[1;32m      3\u001b[0m \u001b[0mbytes_data\u001b[0m \u001b[0;34m=\u001b[0m \u001b[0mnlp\u001b[0m\u001b[0;34m.\u001b[0m\u001b[0mto_bytes\u001b[0m\u001b[0;34m(\u001b[0m\u001b[0;34m)\u001b[0m\u001b[0;34m\u001b[0m\u001b[0;34m\u001b[0m\u001b[0m\n\u001b[1;32m      4\u001b[0m \u001b[0;34m\u001b[0m\u001b[0m\n\u001b[1;32m      5\u001b[0m \u001b[0;31m# https://spacy.io/usage/saving-loading\u001b[0m\u001b[0;34m\u001b[0m\u001b[0;34m\u001b[0m\u001b[0;34m\u001b[0m\u001b[0m\n",
      "\u001b[0;31mAttributeError\u001b[0m: 'English' object has no attribute 'config'"
     ]
    }
   ],
   "source": [
    "'''\n",
    "# SERIALIZE\n",
    "config = nlp.config\n",
    "bytes_data = nlp.to_bytes()\n",
    "\n",
    "# https://spacy.io/usage/saving-loading\n",
    "# nlp.to_disk(\"/path\")\n",
    "'''"
   ]
  },
  {
   "cell_type": "code",
   "execution_count": null,
   "metadata": {},
   "outputs": [],
   "source": [
    "'''\n",
    "# DESERIALIZE\n",
    "\n",
    "lang_cls = spacy.util.get_lang_class(config[\"nlp\"][\"lang\"])\n",
    "nlp = lang_cls.from_config(config)\n",
    "nlp.from_bytes(bytes_data)\n",
    "\n",
    "# nlp.from_disk(\"/path\")\n",
    "'''"
   ]
  },
  {
   "cell_type": "code",
   "execution_count": 20,
   "metadata": {
    "execution": {
     "iopub.execute_input": "2021-05-28T17:27:46.504378Z",
     "iopub.status.busy": "2021-05-28T17:27:46.503972Z",
     "iopub.status.idle": "2021-05-28T17:27:46.732814Z",
     "shell.execute_reply": "2021-05-28T17:27:46.732065Z",
     "shell.execute_reply.started": "2021-05-28T17:27:46.504347Z"
    }
   },
   "outputs": [],
   "source": [
    "# Saving trained pipeline\n",
    "nlp.to_disk(\"./en_our_pipeline\")"
   ]
  },
  {
   "cell_type": "code",
   "execution_count": null,
   "metadata": {},
   "outputs": [],
   "source": [
    "# Loading the custom pipeline\n",
    "nlp = spacy.load(\"/path/to/pipeline\")"
   ]
  },
  {
   "cell_type": "code",
   "execution_count": 25,
   "metadata": {
    "execution": {
     "iopub.execute_input": "2021-05-28T17:33:27.200054Z",
     "iopub.status.busy": "2021-05-28T17:33:27.199692Z",
     "iopub.status.idle": "2021-05-28T17:33:27.207565Z",
     "shell.execute_reply": "2021-05-28T17:33:27.206942Z",
     "shell.execute_reply.started": "2021-05-28T17:33:27.200011Z"
    }
   },
   "outputs": [
    {
     "data": {
      "text/plain": [
       "The Paris Saint-Germain midfielder Adrien Rabio will join Barcelona on a free transfer in the summer.\n",
       "The 23-year-old’s contract runs out in the summer and he has agreed a signing on fee of €10m (£9m) as well as a salary of just over £170,000 a week for five years with the La Liga leaders."
      ]
     },
     "execution_count": 25,
     "metadata": {},
     "output_type": "execute_result"
    }
   ],
   "source": [
    "doc = nlp.tokenizer('The Paris Saint-Germain midfielder Adrien Rabio will join Barcelona on a free transfer in the summer.\\nThe 23-year-old’s contract runs out in the summer and he has agreed a signing on fee of €10m (£9m) as well as a salary of just over £170,000 a week for five years with the La Liga leaders.')\n",
    "doc"
   ]
  },
  {
   "cell_type": "code",
   "execution_count": 32,
   "metadata": {
    "execution": {
     "iopub.execute_input": "2021-05-28T17:37:00.969262Z",
     "iopub.status.busy": "2021-05-28T17:37:00.968778Z",
     "iopub.status.idle": "2021-05-28T17:37:00.975541Z",
     "shell.execute_reply": "2021-05-28T17:37:00.974410Z",
     "shell.execute_reply.started": "2021-05-28T17:37:00.969231Z"
    }
   },
   "outputs": [
    {
     "data": {
      "text/plain": [
       "Will Smith Joins Diplo And Nicky Jam For The 2018 World Cup's Official Song"
      ]
     },
     "execution_count": 32,
     "metadata": {},
     "output_type": "execute_result"
    }
   ],
   "source": [
    "doc = nlp.tokenizer(\"Will Smith Joins Diplo And Nicky Jam For The 2018 World Cup's Official Song\")\n",
    "doc"
   ]
  },
  {
   "cell_type": "code",
   "execution_count": 33,
   "metadata": {
    "execution": {
     "iopub.execute_input": "2021-05-28T17:37:07.652254Z",
     "iopub.status.busy": "2021-05-28T17:37:07.651546Z",
     "iopub.status.idle": "2021-05-28T17:37:07.657452Z",
     "shell.execute_reply": "2021-05-28T17:37:07.656635Z",
     "shell.execute_reply.started": "2021-05-28T17:37:07.652218Z"
    }
   },
   "outputs": [
    {
     "data": {
      "text/plain": [
       "<generator at 0x7f99ed4eceb0>"
      ]
     },
     "execution_count": 33,
     "metadata": {},
     "output_type": "execute_result"
    }
   ],
   "source": [
    "textcat.pipe(doc)"
   ]
  },
  {
   "cell_type": "code",
   "execution_count": 34,
   "metadata": {
    "execution": {
     "iopub.execute_input": "2021-05-28T17:37:08.698306Z",
     "iopub.status.busy": "2021-05-28T17:37:08.697844Z",
     "iopub.status.idle": "2021-05-28T17:37:08.704260Z",
     "shell.execute_reply": "2021-05-28T17:37:08.703223Z",
     "shell.execute_reply.started": "2021-05-28T17:37:08.698268Z"
    }
   },
   "outputs": [
    {
     "data": {
      "text/plain": [
       "{}"
      ]
     },
     "execution_count": 34,
     "metadata": {},
     "output_type": "execute_result"
    }
   ],
   "source": [
    "doc.cats"
   ]
  },
  {
   "cell_type": "code",
   "execution_count": 30,
   "metadata": {
    "execution": {
     "iopub.execute_input": "2021-05-28T17:36:28.342518Z",
     "iopub.status.busy": "2021-05-28T17:36:28.341958Z",
     "iopub.status.idle": "2021-05-28T17:36:28.349021Z",
     "shell.execute_reply": "2021-05-28T17:36:28.348285Z",
     "shell.execute_reply.started": "2021-05-28T17:36:28.342469Z"
    }
   },
   "outputs": [
    {
     "data": {
      "text/plain": [
       "\"Will Smith Joins Diplo And Nicky Jam For The 2018 World Cup's Official Song\""
      ]
     },
     "execution_count": 30,
     "metadata": {},
     "output_type": "execute_result"
    }
   ],
   "source": [
    "data.headline.iloc[0]"
   ]
  },
  {
   "cell_type": "code",
   "execution_count": null,
   "metadata": {},
   "outputs": [],
   "source": []
  }
 ],
 "metadata": {
  "kernelspec": {
   "display_name": "Python 3",
   "language": "python",
   "name": "python3"
  },
  "language_info": {
   "codemirror_mode": {
    "name": "ipython",
    "version": 3
   },
   "file_extension": ".py",
   "mimetype": "text/x-python",
   "name": "python",
   "nbconvert_exporter": "python",
   "pygments_lexer": "ipython3",
   "version": "3.8.5"
  }
 },
 "nbformat": 4,
 "nbformat_minor": 4
}
