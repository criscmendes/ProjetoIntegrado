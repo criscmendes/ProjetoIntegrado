{
 "cells": [
  {
   "cell_type": "markdown",
   "id": "contrary-calculator",
   "metadata": {},
   "source": [
    "___\n",
    "\n",
    "**TESTES**"
   ]
  },
  {
   "cell_type": "code",
   "execution_count": 36,
   "id": "maritime-cable",
   "metadata": {},
   "outputs": [],
   "source": [
    "import pandas as pd\n",
    "from sklearn.feature_selection import SelectPercentile, chi2\n",
    "\n",
    "from sklearn.decomposition import PCA"
   ]
  },
  {
   "cell_type": "markdown",
   "id": "skilled-current",
   "metadata": {},
   "source": [
    "# Feature Selection"
   ]
  },
  {
   "cell_type": "code",
   "execution_count": 5,
   "id": "mighty-keeping",
   "metadata": {},
   "outputs": [],
   "source": [
    "df1 = pd.read_csv('news_M1.csv')\n",
    "df2 = pd.read_csv('Topic Category/topic_cats.csv')"
   ]
  },
  {
   "cell_type": "code",
   "execution_count": 8,
   "id": "precise-release",
   "metadata": {},
   "outputs": [
    {
     "data": {
      "text/html": [
       "<div>\n",
       "<style scoped>\n",
       "    .dataframe tbody tr th:only-of-type {\n",
       "        vertical-align: middle;\n",
       "    }\n",
       "\n",
       "    .dataframe tbody tr th {\n",
       "        vertical-align: top;\n",
       "    }\n",
       "\n",
       "    .dataframe thead th {\n",
       "        text-align: right;\n",
       "    }\n",
       "</style>\n",
       "<table border=\"1\" class=\"dataframe\">\n",
       "  <thead>\n",
       "    <tr style=\"text-align: right;\">\n",
       "      <th></th>\n",
       "      <th>news_id</th>\n",
       "      <th>newsoutlet_id</th>\n",
       "      <th>new_title</th>\n",
       "      <th>news_text</th>\n",
       "      <th>Toxic_Class</th>\n",
       "    </tr>\n",
       "  </thead>\n",
       "  <tbody>\n",
       "    <tr>\n",
       "      <th>0</th>\n",
       "      <td>1079995915652476928</td>\n",
       "      <td>28785486</td>\n",
       "      <td>China factory activity shrinks for the first t...</td>\n",
       "      <td>China's factory activity shrank in December fo...</td>\n",
       "      <td>0</td>\n",
       "    </tr>\n",
       "    <tr>\n",
       "      <th>1</th>\n",
       "      <td>1084275179331772416</td>\n",
       "      <td>28785486</td>\n",
       "      <td>Drone captures California man surfing with dol...</td>\n",
       "      <td>Breathtaking drone video of a pod of friendly,...</td>\n",
       "      <td>0</td>\n",
       "    </tr>\n",
       "    <tr>\n",
       "      <th>2</th>\n",
       "      <td>1080216134467702784</td>\n",
       "      <td>28785486</td>\n",
       "      <td>In 'unprecedented' speech, Kim Jong Un says No...</td>\n",
       "      <td>Kim Jong Un says he is ready to sit down again...</td>\n",
       "      <td>0</td>\n",
       "    </tr>\n",
       "    <tr>\n",
       "      <th>3</th>\n",
       "      <td>1080901028365697026</td>\n",
       "      <td>28785486</td>\n",
       "      <td>Reward grows to $75,000 in hunt for killer of ...</td>\n",
       "      <td>A reward for information leading to the arrest...</td>\n",
       "      <td>1</td>\n",
       "    </tr>\n",
       "    <tr>\n",
       "      <th>4</th>\n",
       "      <td>1081379589711167489</td>\n",
       "      <td>28785486</td>\n",
       "      <td>GOP decries Pelosi's muted reaction as Dems de...</td>\n",
       "      <td>As newly minted Rep. Rashida Tlaib refused to ...</td>\n",
       "      <td>1</td>\n",
       "    </tr>\n",
       "    <tr>\n",
       "      <th>...</th>\n",
       "      <td>...</td>\n",
       "      <td>...</td>\n",
       "      <td>...</td>\n",
       "      <td>...</td>\n",
       "      <td>...</td>\n",
       "    </tr>\n",
       "    <tr>\n",
       "      <th>23927</th>\n",
       "      <td>1082325977840136193</td>\n",
       "      <td>6107422</td>\n",
       "      <td>Doctors warn NHS chief not to ditch A&amp;E waitin...</td>\n",
       "      <td>Doctors have warned the head of the NHS not to...</td>\n",
       "      <td>0</td>\n",
       "    </tr>\n",
       "    <tr>\n",
       "      <th>23928</th>\n",
       "      <td>1079999842125078528</td>\n",
       "      <td>6107422</td>\n",
       "      <td>World welcomes in new year with a smash, bang ...</td>\n",
       "      <td>Fireworks lit up the London Eye as thousands o...</td>\n",
       "      <td>0</td>\n",
       "    </tr>\n",
       "    <tr>\n",
       "      <th>23929</th>\n",
       "      <td>1081112020659945472</td>\n",
       "      <td>6107422</td>\n",
       "      <td>Stalker who threatened to rape BBC’s Alex Love...</td>\n",
       "      <td>The BBC presenter Alex Lovell spent two years ...</td>\n",
       "      <td>0</td>\n",
       "    </tr>\n",
       "    <tr>\n",
       "      <th>23930</th>\n",
       "      <td>1083018693053960192</td>\n",
       "      <td>6107422</td>\n",
       "      <td>Jorja Emerson, the first child prescribed cann...</td>\n",
       "      <td>Sick children still face unacceptable obstacle...</td>\n",
       "      <td>0</td>\n",
       "    </tr>\n",
       "    <tr>\n",
       "      <th>23931</th>\n",
       "      <td>1081548013296893952</td>\n",
       "      <td>6107422</td>\n",
       "      <td>If only some vegans weren’t so bloody minded</td>\n",
       "      <td>How did a pastry get so political? When Greggs...</td>\n",
       "      <td>1</td>\n",
       "    </tr>\n",
       "  </tbody>\n",
       "</table>\n",
       "<p>23932 rows × 5 columns</p>\n",
       "</div>"
      ],
      "text/plain": [
       "                   news_id  newsoutlet_id  \\\n",
       "0      1079995915652476928       28785486   \n",
       "1      1084275179331772416       28785486   \n",
       "2      1080216134467702784       28785486   \n",
       "3      1080901028365697026       28785486   \n",
       "4      1081379589711167489       28785486   \n",
       "...                    ...            ...   \n",
       "23927  1082325977840136193        6107422   \n",
       "23928  1079999842125078528        6107422   \n",
       "23929  1081112020659945472        6107422   \n",
       "23930  1083018693053960192        6107422   \n",
       "23931  1081548013296893952        6107422   \n",
       "\n",
       "                                               new_title  \\\n",
       "0      China factory activity shrinks for the first t...   \n",
       "1      Drone captures California man surfing with dol...   \n",
       "2      In 'unprecedented' speech, Kim Jong Un says No...   \n",
       "3      Reward grows to $75,000 in hunt for killer of ...   \n",
       "4      GOP decries Pelosi's muted reaction as Dems de...   \n",
       "...                                                  ...   \n",
       "23927  Doctors warn NHS chief not to ditch A&E waitin...   \n",
       "23928  World welcomes in new year with a smash, bang ...   \n",
       "23929  Stalker who threatened to rape BBC’s Alex Love...   \n",
       "23930  Jorja Emerson, the first child prescribed cann...   \n",
       "23931       If only some vegans weren’t so bloody minded   \n",
       "\n",
       "                                               news_text  Toxic_Class  \n",
       "0      China's factory activity shrank in December fo...            0  \n",
       "1      Breathtaking drone video of a pod of friendly,...            0  \n",
       "2      Kim Jong Un says he is ready to sit down again...            0  \n",
       "3      A reward for information leading to the arrest...            1  \n",
       "4      As newly minted Rep. Rashida Tlaib refused to ...            1  \n",
       "...                                                  ...          ...  \n",
       "23927  Doctors have warned the head of the NHS not to...            0  \n",
       "23928  Fireworks lit up the London Eye as thousands o...            0  \n",
       "23929  The BBC presenter Alex Lovell spent two years ...            0  \n",
       "23930  Sick children still face unacceptable obstacle...            0  \n",
       "23931  How did a pastry get so political? When Greggs...            1  \n",
       "\n",
       "[23932 rows x 5 columns]"
      ]
     },
     "execution_count": 8,
     "metadata": {},
     "output_type": "execute_result"
    }
   ],
   "source": [
    "df1"
   ]
  },
  {
   "cell_type": "code",
   "execution_count": 9,
   "id": "palestinian-rehabilitation",
   "metadata": {},
   "outputs": [
    {
     "data": {
      "text/html": [
       "<div>\n",
       "<style scoped>\n",
       "    .dataframe tbody tr th:only-of-type {\n",
       "        vertical-align: middle;\n",
       "    }\n",
       "\n",
       "    .dataframe tbody tr th {\n",
       "        vertical-align: top;\n",
       "    }\n",
       "\n",
       "    .dataframe thead th {\n",
       "        text-align: right;\n",
       "    }\n",
       "</style>\n",
       "<table border=\"1\" class=\"dataframe\">\n",
       "  <thead>\n",
       "    <tr style=\"text-align: right;\">\n",
       "      <th></th>\n",
       "      <th>news_id</th>\n",
       "      <th>Toxic_Class</th>\n",
       "      <th>TC_ENTERTAINMENT</th>\n",
       "      <th>TC_FOOD &amp; DRINK</th>\n",
       "      <th>TC_HOME &amp; LIVING</th>\n",
       "      <th>TC_OTHERS</th>\n",
       "      <th>TC_POLITICS</th>\n",
       "      <th>TC_QUEER VOICES</th>\n",
       "      <th>TC_SPORTS</th>\n",
       "      <th>TC_STYLE &amp; BEAUTY</th>\n",
       "      <th>TC_TRAVEL</th>\n",
       "      <th>TC_WELLNESS</th>\n",
       "    </tr>\n",
       "  </thead>\n",
       "  <tbody>\n",
       "    <tr>\n",
       "      <th>0</th>\n",
       "      <td>1079995915652476928</td>\n",
       "      <td>0</td>\n",
       "      <td>0</td>\n",
       "      <td>0</td>\n",
       "      <td>0</td>\n",
       "      <td>0</td>\n",
       "      <td>1</td>\n",
       "      <td>0</td>\n",
       "      <td>0</td>\n",
       "      <td>0</td>\n",
       "      <td>0</td>\n",
       "      <td>0</td>\n",
       "    </tr>\n",
       "    <tr>\n",
       "      <th>1</th>\n",
       "      <td>1084275179331772416</td>\n",
       "      <td>0</td>\n",
       "      <td>0</td>\n",
       "      <td>0</td>\n",
       "      <td>0</td>\n",
       "      <td>0</td>\n",
       "      <td>1</td>\n",
       "      <td>0</td>\n",
       "      <td>0</td>\n",
       "      <td>0</td>\n",
       "      <td>0</td>\n",
       "      <td>0</td>\n",
       "    </tr>\n",
       "    <tr>\n",
       "      <th>2</th>\n",
       "      <td>1080216134467702784</td>\n",
       "      <td>0</td>\n",
       "      <td>0</td>\n",
       "      <td>0</td>\n",
       "      <td>0</td>\n",
       "      <td>0</td>\n",
       "      <td>1</td>\n",
       "      <td>0</td>\n",
       "      <td>0</td>\n",
       "      <td>0</td>\n",
       "      <td>0</td>\n",
       "      <td>0</td>\n",
       "    </tr>\n",
       "    <tr>\n",
       "      <th>3</th>\n",
       "      <td>1080901028365697026</td>\n",
       "      <td>1</td>\n",
       "      <td>0</td>\n",
       "      <td>0</td>\n",
       "      <td>0</td>\n",
       "      <td>0</td>\n",
       "      <td>0</td>\n",
       "      <td>1</td>\n",
       "      <td>0</td>\n",
       "      <td>0</td>\n",
       "      <td>0</td>\n",
       "      <td>0</td>\n",
       "    </tr>\n",
       "    <tr>\n",
       "      <th>4</th>\n",
       "      <td>1081379589711167489</td>\n",
       "      <td>1</td>\n",
       "      <td>0</td>\n",
       "      <td>0</td>\n",
       "      <td>0</td>\n",
       "      <td>0</td>\n",
       "      <td>1</td>\n",
       "      <td>0</td>\n",
       "      <td>0</td>\n",
       "      <td>0</td>\n",
       "      <td>0</td>\n",
       "      <td>0</td>\n",
       "    </tr>\n",
       "    <tr>\n",
       "      <th>...</th>\n",
       "      <td>...</td>\n",
       "      <td>...</td>\n",
       "      <td>...</td>\n",
       "      <td>...</td>\n",
       "      <td>...</td>\n",
       "      <td>...</td>\n",
       "      <td>...</td>\n",
       "      <td>...</td>\n",
       "      <td>...</td>\n",
       "      <td>...</td>\n",
       "      <td>...</td>\n",
       "      <td>...</td>\n",
       "    </tr>\n",
       "    <tr>\n",
       "      <th>23927</th>\n",
       "      <td>1082325977840136193</td>\n",
       "      <td>0</td>\n",
       "      <td>0</td>\n",
       "      <td>0</td>\n",
       "      <td>0</td>\n",
       "      <td>0</td>\n",
       "      <td>0</td>\n",
       "      <td>0</td>\n",
       "      <td>0</td>\n",
       "      <td>0</td>\n",
       "      <td>0</td>\n",
       "      <td>1</td>\n",
       "    </tr>\n",
       "    <tr>\n",
       "      <th>23928</th>\n",
       "      <td>1079999842125078528</td>\n",
       "      <td>0</td>\n",
       "      <td>0</td>\n",
       "      <td>0</td>\n",
       "      <td>0</td>\n",
       "      <td>0</td>\n",
       "      <td>1</td>\n",
       "      <td>0</td>\n",
       "      <td>0</td>\n",
       "      <td>0</td>\n",
       "      <td>0</td>\n",
       "      <td>0</td>\n",
       "    </tr>\n",
       "    <tr>\n",
       "      <th>23929</th>\n",
       "      <td>1081112020659945472</td>\n",
       "      <td>0</td>\n",
       "      <td>1</td>\n",
       "      <td>0</td>\n",
       "      <td>0</td>\n",
       "      <td>0</td>\n",
       "      <td>0</td>\n",
       "      <td>0</td>\n",
       "      <td>0</td>\n",
       "      <td>0</td>\n",
       "      <td>0</td>\n",
       "      <td>0</td>\n",
       "    </tr>\n",
       "    <tr>\n",
       "      <th>23930</th>\n",
       "      <td>1083018693053960192</td>\n",
       "      <td>0</td>\n",
       "      <td>0</td>\n",
       "      <td>0</td>\n",
       "      <td>0</td>\n",
       "      <td>0</td>\n",
       "      <td>1</td>\n",
       "      <td>0</td>\n",
       "      <td>0</td>\n",
       "      <td>0</td>\n",
       "      <td>0</td>\n",
       "      <td>0</td>\n",
       "    </tr>\n",
       "    <tr>\n",
       "      <th>23931</th>\n",
       "      <td>1081548013296893952</td>\n",
       "      <td>1</td>\n",
       "      <td>0</td>\n",
       "      <td>0</td>\n",
       "      <td>0</td>\n",
       "      <td>0</td>\n",
       "      <td>0</td>\n",
       "      <td>0</td>\n",
       "      <td>0</td>\n",
       "      <td>0</td>\n",
       "      <td>0</td>\n",
       "      <td>1</td>\n",
       "    </tr>\n",
       "  </tbody>\n",
       "</table>\n",
       "<p>23932 rows × 12 columns</p>\n",
       "</div>"
      ],
      "text/plain": [
       "                   news_id  Toxic_Class  TC_ENTERTAINMENT  TC_FOOD & DRINK  \\\n",
       "0      1079995915652476928            0                 0                0   \n",
       "1      1084275179331772416            0                 0                0   \n",
       "2      1080216134467702784            0                 0                0   \n",
       "3      1080901028365697026            1                 0                0   \n",
       "4      1081379589711167489            1                 0                0   \n",
       "...                    ...          ...               ...              ...   \n",
       "23927  1082325977840136193            0                 0                0   \n",
       "23928  1079999842125078528            0                 0                0   \n",
       "23929  1081112020659945472            0                 1                0   \n",
       "23930  1083018693053960192            0                 0                0   \n",
       "23931  1081548013296893952            1                 0                0   \n",
       "\n",
       "       TC_HOME & LIVING  TC_OTHERS  TC_POLITICS  TC_QUEER VOICES  TC_SPORTS  \\\n",
       "0                     0          0            1                0          0   \n",
       "1                     0          0            1                0          0   \n",
       "2                     0          0            1                0          0   \n",
       "3                     0          0            0                1          0   \n",
       "4                     0          0            1                0          0   \n",
       "...                 ...        ...          ...              ...        ...   \n",
       "23927                 0          0            0                0          0   \n",
       "23928                 0          0            1                0          0   \n",
       "23929                 0          0            0                0          0   \n",
       "23930                 0          0            1                0          0   \n",
       "23931                 0          0            0                0          0   \n",
       "\n",
       "       TC_STYLE & BEAUTY  TC_TRAVEL  TC_WELLNESS  \n",
       "0                      0          0            0  \n",
       "1                      0          0            0  \n",
       "2                      0          0            0  \n",
       "3                      0          0            0  \n",
       "4                      0          0            0  \n",
       "...                  ...        ...          ...  \n",
       "23927                  0          0            1  \n",
       "23928                  0          0            0  \n",
       "23929                  0          0            0  \n",
       "23930                  0          0            0  \n",
       "23931                  0          0            1  \n",
       "\n",
       "[23932 rows x 12 columns]"
      ]
     },
     "execution_count": 9,
     "metadata": {},
     "output_type": "execute_result"
    }
   ],
   "source": [
    "m1 = pd.merge(df1[['news_id', 'Toxic_Class']], df2, on = 'news_id', how='inner')\n",
    "m1"
   ]
  },
  {
   "cell_type": "code",
   "execution_count": 12,
   "id": "annual-arbitration",
   "metadata": {},
   "outputs": [],
   "source": [
    "X = m1.drop(columns=['news_id', 'Toxic_Class']).copy()\n",
    "y = m1['Toxic_Class'].copy()"
   ]
  },
  {
   "cell_type": "code",
   "execution_count": 15,
   "id": "joined-platinum",
   "metadata": {},
   "outputs": [
    {
     "name": "stdout",
     "output_type": "stream",
     "text": [
      "Chi2 statistics for each feature:\n",
      "[7.40209830e+00 3.68028988e+00 1.38425712e+00 1.53254177e+01\n",
      " 1.27256174e+02 2.80457576e+01 2.40906097e+01 1.17265779e-01\n",
      " 7.93692359e+01 3.63842231e+01]\n",
      "\n",
      " P-values for each feature:\n",
      "[6.51478420e-03 5.50592769e-02 2.39377334e-01 9.04907346e-05\n",
      " 1.63277100e-29 1.18480559e-07 9.19073844e-07 7.32019104e-01\n",
      " 5.15221592e-19 1.62009335e-09]\n"
     ]
    }
   ],
   "source": [
    "# must contain only non-negative features such as booleans or frequencies\n",
    "# https://scikit-learn.org/stable/modules/generated/sklearn.feature_selection.chi2.html\n",
    "chi, p_values = chi2(X, y)\n",
    "\n",
    "print(f'Chi2 statistics for each feature:\\n{chi}')\n",
    "print(f'\\n P-values for each feature:\\n{p_values}')"
   ]
  },
  {
   "cell_type": "code",
   "execution_count": 34,
   "id": "violent-syndication",
   "metadata": {},
   "outputs": [
    {
     "name": "stdout",
     "output_type": "stream",
     "text": [
      "<class 'pandas.core.frame.DataFrame'>\n",
      "Int64Index: 23932 entries, 0 to 23931\n",
      "Data columns (total 10 columns):\n",
      " #   Column             Non-Null Count  Dtype\n",
      "---  ------             --------------  -----\n",
      " 0   TC_ENTERTAINMENT   23932 non-null  int64\n",
      " 1   TC_FOOD & DRINK    23932 non-null  int64\n",
      " 2   TC_HOME & LIVING   23932 non-null  int64\n",
      " 3   TC_OTHERS          23932 non-null  int64\n",
      " 4   TC_POLITICS        23932 non-null  int64\n",
      " 5   TC_QUEER VOICES    23932 non-null  int64\n",
      " 6   TC_SPORTS          23932 non-null  int64\n",
      " 7   TC_STYLE & BEAUTY  23932 non-null  int64\n",
      " 8   TC_TRAVEL          23932 non-null  int64\n",
      " 9   TC_WELLNESS        23932 non-null  int64\n",
      "dtypes: int64(10)\n",
      "memory usage: 2.0 MB\n"
     ]
    }
   ],
   "source": [
    "X.info()"
   ]
  },
  {
   "cell_type": "code",
   "execution_count": 32,
   "id": "alive-scanner",
   "metadata": {},
   "outputs": [
    {
     "data": {
      "text/plain": [
       "array([False, False, False, False,  True, False, False, False,  True,\n",
       "        True])"
      ]
     },
     "execution_count": 32,
     "metadata": {},
     "output_type": "execute_result"
    }
   ],
   "source": [
    "# param percentile indica percentagem de features que pretendemos manter\n",
    "t1 = SelectPercentile(chi2, percentile=30).fit(X, y)\n",
    "# Devolve um array com a indicação das colunas a manter (True)\n",
    "t1.get_support(indices=False)"
   ]
  },
  {
   "cell_type": "markdown",
   "id": "orange-giant",
   "metadata": {},
   "source": [
    "# Feature Reduction\n",
    "## PCA\n",
    "\n",
    "\n",
    "https://scikit-learn.org/stable/modules/generated/sklearn.decomposition.PCA.html\n",
    "Notice that this class does not support sparse input.\n",
    "\n",
    "See TruncatedSVD for an alternative with sparse data.\n",
    "https://scikit-learn.org/stable/modules/generated/sklearn.decomposition.TruncatedSVD.html#sklearn.decomposition.TruncatedSVD"
   ]
  },
  {
   "cell_type": "code",
   "execution_count": 37,
   "id": "editorial-hawaiian",
   "metadata": {},
   "outputs": [],
   "source": [
    "pca = PCA(n_components=3)\n",
    "fit = pca.fit(X)"
   ]
  },
  {
   "cell_type": "code",
   "execution_count": 39,
   "id": "similar-plaintiff",
   "metadata": {},
   "outputs": [
    {
     "name": "stdout",
     "output_type": "stream",
     "text": [
      "Explained Variance: [0.39111926 0.18996358 0.09902696] \n",
      "\n",
      "[[ 0.53266975  0.01396907  0.00978317  0.05046945 -0.83746843  0.02649822\n",
      "   0.04647649  0.02788066  0.06787389  0.06184771]\n",
      " [-0.76395227  0.04203427  0.02872044  0.19420636 -0.41410369  0.08618528\n",
      "   0.17354854  0.09149826  0.3012214   0.26064141]\n",
      " [ 0.03627858 -0.00869618 -0.00562963 -0.10969233  0.02954595 -0.02184727\n",
      "  -0.07937999 -0.02384039  0.78500354 -0.60174228]]\n"
     ]
    }
   ],
   "source": [
    "# summarize components\n",
    "print(\"Explained Variance: %s \\n\" % fit.explained_variance_ratio_)\n",
    "print(fit.components_)"
   ]
  },
  {
   "cell_type": "code",
   "execution_count": null,
   "id": "aboriginal-montgomery",
   "metadata": {},
   "outputs": [],
   "source": []
  },
  {
   "cell_type": "code",
   "execution_count": 41,
   "id": "dangerous-sphere",
   "metadata": {},
   "outputs": [],
   "source": [
    "from sklearn.decomposition import TruncatedSVD"
   ]
  },
  {
   "cell_type": "code",
   "execution_count": null,
   "id": "sixth-track",
   "metadata": {},
   "outputs": [],
   "source": [
    "'''\n",
    "from scipy.sparse import random as sparse_random\n",
    "X = sparse_random(100, 100, density=0.01, format='csr', random_state=42)\n",
    "'''"
   ]
  },
  {
   "cell_type": "code",
   "execution_count": 45,
   "id": "unlimited-allen",
   "metadata": {},
   "outputs": [
    {
     "name": "stdout",
     "output_type": "stream",
     "text": [
      "[0.30822192 0.22352311 0.0940515 ]\n"
     ]
    }
   ],
   "source": [
    "svd = TruncatedSVD(n_components=3, n_iter=7, random_state=42)\n",
    "svd.fit(X)\n",
    "\n",
    "print(svd.explained_variance_ratio_)"
   ]
  },
  {
   "cell_type": "code",
   "execution_count": 46,
   "id": "laughing-macintosh",
   "metadata": {},
   "outputs": [
    {
     "name": "stdout",
     "output_type": "stream",
     "text": [
      "0.625796527381741\n"
     ]
    }
   ],
   "source": [
    "print(svd.explained_variance_ratio_.sum())"
   ]
  },
  {
   "cell_type": "code",
   "execution_count": 47,
   "id": "deluxe-heaven",
   "metadata": {},
   "outputs": [
    {
     "name": "stdout",
     "output_type": "stream",
     "text": [
      "[96.94328239 72.95889254 43.48562981]\n"
     ]
    }
   ],
   "source": [
    "print(svd.singular_values_)"
   ]
  },
  {
   "cell_type": "code",
   "execution_count": null,
   "id": "referenced-chosen",
   "metadata": {},
   "outputs": [],
   "source": []
  }
 ],
 "metadata": {
  "kernelspec": {
   "display_name": "Python 3",
   "language": "python",
   "name": "python3"
  },
  "language_info": {
   "codemirror_mode": {
    "name": "ipython",
    "version": 3
   },
   "file_extension": ".py",
   "mimetype": "text/x-python",
   "name": "python",
   "nbconvert_exporter": "python",
   "pygments_lexer": "ipython3",
   "version": "3.8.5"
  }
 },
 "nbformat": 4,
 "nbformat_minor": 5
}
