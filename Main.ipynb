{
 "cells": [
  {
   "cell_type": "code",
   "execution_count": 2,
   "id": "collected-serial",
   "metadata": {},
   "outputs": [],
   "source": [
    "import pandas as pd\n",
    "import matplotlib.pyplot as plt\n",
    "import numpy as np\n",
    "\n",
    "import re\n",
    "import string\n",
    "from nltk.corpus import stopwords\n",
    "\n",
    "import spacy\n",
    "from spacy import displacy\n",
    "from collections import Counter\n",
    "import en_core_web_sm"
   ]
  },
  {
   "cell_type": "markdown",
   "id": "miniature-perry",
   "metadata": {},
   "source": [
    "# 1. Newsoutlets"
   ]
  },
  {
   "cell_type": "code",
   "execution_count": 2,
   "id": "organized-strengthening",
   "metadata": {},
   "outputs": [
    {
     "data": {
      "text/html": [
       "<div>\n",
       "<style scoped>\n",
       "    .dataframe tbody tr th:only-of-type {\n",
       "        vertical-align: middle;\n",
       "    }\n",
       "\n",
       "    .dataframe tbody tr th {\n",
       "        vertical-align: top;\n",
       "    }\n",
       "\n",
       "    .dataframe thead th {\n",
       "        text-align: right;\n",
       "    }\n",
       "</style>\n",
       "<table border=\"1\" class=\"dataframe\">\n",
       "  <thead>\n",
       "    <tr style=\"text-align: right;\">\n",
       "      <th></th>\n",
       "      <th>newsoutlet_id</th>\n",
       "      <th>newsoutlet_name</th>\n",
       "      <th>newsoutlet_country</th>\n",
       "    </tr>\n",
       "  </thead>\n",
       "  <tbody>\n",
       "    <tr>\n",
       "      <th>0</th>\n",
       "      <td>53587</td>\n",
       "      <td>\"CNN Breaking News\"</td>\n",
       "      <td>USA</td>\n",
       "    </tr>\n",
       "    <tr>\n",
       "      <th>1</th>\n",
       "      <td>63496</td>\n",
       "      <td>\"The New York Times\"</td>\n",
       "      <td>USA</td>\n",
       "    </tr>\n",
       "    <tr>\n",
       "      <th>2</th>\n",
       "      <td>67332</td>\n",
       "      <td>\"CNN\"</td>\n",
       "      <td>USA</td>\n",
       "    </tr>\n",
       "    <tr>\n",
       "      <th>3</th>\n",
       "      <td>68616</td>\n",
       "      <td>\"CBS News\"</td>\n",
       "      <td>USA</td>\n",
       "    </tr>\n",
       "    <tr>\n",
       "      <th>4</th>\n",
       "      <td>69081</td>\n",
       "      <td>\"The Wall Street Journal\"</td>\n",
       "      <td>USA</td>\n",
       "    </tr>\n",
       "    <tr>\n",
       "      <th>5</th>\n",
       "      <td>69340</td>\n",
       "      <td>\"NPR\"</td>\n",
       "      <td>USA</td>\n",
       "    </tr>\n",
       "    <tr>\n",
       "      <th>6</th>\n",
       "      <td>69373</td>\n",
       "      <td>\"The Washington Post\"</td>\n",
       "      <td>SA</td>\n",
       "    </tr>\n",
       "  </tbody>\n",
       "</table>\n",
       "</div>"
      ],
      "text/plain": [
       "   newsoutlet_id             newsoutlet_name  newsoutlet_country\n",
       "0          53587         \"CNN Breaking News\"                 USA\n",
       "1          63496        \"The New York Times\"                 USA\n",
       "2          67332                       \"CNN\"                 USA\n",
       "3          68616                  \"CBS News\"                 USA\n",
       "4          69081   \"The Wall Street Journal\"                 USA\n",
       "5          69340                       \"NPR\"                 USA\n",
       "6          69373       \"The Washington Post\"                  SA"
      ]
     },
     "execution_count": 2,
     "metadata": {},
     "output_type": "execute_result"
    }
   ],
   "source": [
    "outlets = pd.read_csv('Newsoutlets.csv')\n",
    "outlets.head(7)"
   ]
  },
  {
   "cell_type": "code",
   "execution_count": 3,
   "id": "chinese-jonathan",
   "metadata": {},
   "outputs": [
    {
     "name": "stdout",
     "output_type": "stream",
     "text": [
      "<class 'pandas.core.frame.DataFrame'>\n",
      "RangeIndex: 27 entries, 0 to 26\n",
      "Data columns (total 3 columns):\n",
      " #   Column               Non-Null Count  Dtype \n",
      "---  ------               --------------  ----- \n",
      " 0   newsoutlet_id        27 non-null     int64 \n",
      " 1    newsoutlet_name     27 non-null     object\n",
      " 2    newsoutlet_country  27 non-null     object\n",
      "dtypes: int64(1), object(2)\n",
      "memory usage: 776.0+ bytes\n"
     ]
    }
   ],
   "source": [
    "outlets.info()"
   ]
  },
  {
   "cell_type": "code",
   "execution_count": 4,
   "id": "bibliographic-nancy",
   "metadata": {},
   "outputs": [],
   "source": [
    "# Alteração do nome das colunas ' newsoutlet_name', ' newsoutlet_country' retirando o espaço inicial\n",
    "outlets.rename(columns={' newsoutlet_name': 'newsoutlet_name', \n",
    "                        ' newsoutlet_country': 'newsoutlet_country'}, inplace=True)"
   ]
  },
  {
   "cell_type": "markdown",
   "id": "criminal-cancellation",
   "metadata": {},
   "source": [
    "Verificamos que os 'newsoutlet_id's não correspondem ao indicado no README do dataset e consequentemente não é possível fazer merge a partir desse atributo. Vamos corrigir manualmente visto serem poucos registos."
   ]
  },
  {
   "cell_type": "code",
   "execution_count": 5,
   "id": "crazy-prospect",
   "metadata": {},
   "outputs": [],
   "source": [
    "outlets.replace([53587,63496,67332,68616,69081,69340,69373,71071,71311,71562,\n",
    "                  72299,72466,73039,73047,72284,72760,72774,72933,72995,73033,\n",
    "                  73052,73058,73059,73063,73064,73065,73066],\n",
    "                 [428333,807095,759251,15012486,3108351,5392522,2467791,7309052,\n",
    "                  28785486,15754281,14511951,14173315,95431448,1020058453,21866939,\n",
    "                  271413771,16343974,111556423,138749160,87818409,612473,6107422,\n",
    "                  16887175,17895820,34655603,7587032,16973333]\n",
    "                ,inplace=True)"
   ]
  },
  {
   "cell_type": "markdown",
   "id": "positive-flashing",
   "metadata": {},
   "source": [
    "O outlet **_\"The Washington Post\"_** no índice 6 está com o valor do atributo *newsoutlet_country* distorcido, portanto vamos corrigir."
   ]
  },
  {
   "cell_type": "code",
   "execution_count": 6,
   "id": "choice-lawsuit",
   "metadata": {},
   "outputs": [
    {
     "data": {
      "text/html": [
       "<div>\n",
       "<style scoped>\n",
       "    .dataframe tbody tr th:only-of-type {\n",
       "        vertical-align: middle;\n",
       "    }\n",
       "\n",
       "    .dataframe tbody tr th {\n",
       "        vertical-align: top;\n",
       "    }\n",
       "\n",
       "    .dataframe thead th {\n",
       "        text-align: right;\n",
       "    }\n",
       "</style>\n",
       "<table border=\"1\" class=\"dataframe\">\n",
       "  <thead>\n",
       "    <tr style=\"text-align: right;\">\n",
       "      <th></th>\n",
       "      <th>newsoutlet_id</th>\n",
       "      <th>newsoutlet_name</th>\n",
       "      <th>newsoutlet_country</th>\n",
       "    </tr>\n",
       "  </thead>\n",
       "  <tbody>\n",
       "    <tr>\n",
       "      <th>0</th>\n",
       "      <td>428333</td>\n",
       "      <td>\"CNN Breaking News\"</td>\n",
       "      <td>USA</td>\n",
       "    </tr>\n",
       "    <tr>\n",
       "      <th>1</th>\n",
       "      <td>807095</td>\n",
       "      <td>\"The New York Times\"</td>\n",
       "      <td>USA</td>\n",
       "    </tr>\n",
       "    <tr>\n",
       "      <th>2</th>\n",
       "      <td>759251</td>\n",
       "      <td>\"CNN\"</td>\n",
       "      <td>USA</td>\n",
       "    </tr>\n",
       "    <tr>\n",
       "      <th>3</th>\n",
       "      <td>15012486</td>\n",
       "      <td>\"CBS News\"</td>\n",
       "      <td>USA</td>\n",
       "    </tr>\n",
       "    <tr>\n",
       "      <th>4</th>\n",
       "      <td>3108351</td>\n",
       "      <td>\"The Wall Street Journal\"</td>\n",
       "      <td>USA</td>\n",
       "    </tr>\n",
       "    <tr>\n",
       "      <th>5</th>\n",
       "      <td>5392522</td>\n",
       "      <td>\"NPR\"</td>\n",
       "      <td>USA</td>\n",
       "    </tr>\n",
       "    <tr>\n",
       "      <th>6</th>\n",
       "      <td>2467791</td>\n",
       "      <td>\"The Washington Post\"</td>\n",
       "      <td>USA</td>\n",
       "    </tr>\n",
       "    <tr>\n",
       "      <th>7</th>\n",
       "      <td>7309052</td>\n",
       "      <td>\"Yahoo News\"</td>\n",
       "      <td>USA</td>\n",
       "    </tr>\n",
       "    <tr>\n",
       "      <th>8</th>\n",
       "      <td>28785486</td>\n",
       "      <td>\"ABC News\"</td>\n",
       "      <td>USA</td>\n",
       "    </tr>\n",
       "    <tr>\n",
       "      <th>9</th>\n",
       "      <td>15754281</td>\n",
       "      <td>\"USA TODAY\"</td>\n",
       "      <td>USA</td>\n",
       "    </tr>\n",
       "    <tr>\n",
       "      <th>10</th>\n",
       "      <td>14511951</td>\n",
       "      <td>\"HuffPost\"</td>\n",
       "      <td>USA</td>\n",
       "    </tr>\n",
       "    <tr>\n",
       "      <th>11</th>\n",
       "      <td>14173315</td>\n",
       "      <td>\"NBC News\"</td>\n",
       "      <td>USA</td>\n",
       "    </tr>\n",
       "    <tr>\n",
       "      <th>12</th>\n",
       "      <td>95431448</td>\n",
       "      <td>\"The Boston Globe\"</td>\n",
       "      <td>USA</td>\n",
       "    </tr>\n",
       "    <tr>\n",
       "      <th>13</th>\n",
       "      <td>1020058453</td>\n",
       "      <td>\"BuzzFeed News\"</td>\n",
       "      <td>USA</td>\n",
       "    </tr>\n",
       "    <tr>\n",
       "      <th>14</th>\n",
       "      <td>21866939</td>\n",
       "      <td>\"ITV News\"</td>\n",
       "      <td>UK</td>\n",
       "    </tr>\n",
       "    <tr>\n",
       "      <th>15</th>\n",
       "      <td>271413771</td>\n",
       "      <td>\"HuffPost UK\"</td>\n",
       "      <td>UK</td>\n",
       "    </tr>\n",
       "    <tr>\n",
       "      <th>16</th>\n",
       "      <td>16343974</td>\n",
       "      <td>\"The Telegraph\"</td>\n",
       "      <td>UK</td>\n",
       "    </tr>\n",
       "    <tr>\n",
       "      <th>17</th>\n",
       "      <td>111556423</td>\n",
       "      <td>\"Daily Mail U.K.\"</td>\n",
       "      <td>UK</td>\n",
       "    </tr>\n",
       "    <tr>\n",
       "      <th>18</th>\n",
       "      <td>138749160</td>\n",
       "      <td>\"Metro\"</td>\n",
       "      <td>UK</td>\n",
       "    </tr>\n",
       "    <tr>\n",
       "      <th>19</th>\n",
       "      <td>87818409</td>\n",
       "      <td>\"The Guardian\"</td>\n",
       "      <td>UK</td>\n",
       "    </tr>\n",
       "    <tr>\n",
       "      <th>20</th>\n",
       "      <td>612473</td>\n",
       "      <td>\"BBC News (UK)\"</td>\n",
       "      <td>UK</td>\n",
       "    </tr>\n",
       "    <tr>\n",
       "      <th>21</th>\n",
       "      <td>6107422</td>\n",
       "      <td>\"The Times of London\"</td>\n",
       "      <td>UK</td>\n",
       "    </tr>\n",
       "    <tr>\n",
       "      <th>22</th>\n",
       "      <td>16887175</td>\n",
       "      <td>\"Daily Mirror\"</td>\n",
       "      <td>UK</td>\n",
       "    </tr>\n",
       "    <tr>\n",
       "      <th>23</th>\n",
       "      <td>17895820</td>\n",
       "      <td>\"Daily Express\"</td>\n",
       "      <td>UK</td>\n",
       "    </tr>\n",
       "    <tr>\n",
       "      <th>24</th>\n",
       "      <td>34655603</td>\n",
       "      <td>\"The Sun\"</td>\n",
       "      <td>UK</td>\n",
       "    </tr>\n",
       "    <tr>\n",
       "      <th>25</th>\n",
       "      <td>7587032</td>\n",
       "      <td>\"Sky News\"</td>\n",
       "      <td>UK</td>\n",
       "    </tr>\n",
       "    <tr>\n",
       "      <th>26</th>\n",
       "      <td>16973333</td>\n",
       "      <td>\"The Independent\"</td>\n",
       "      <td>UK</td>\n",
       "    </tr>\n",
       "  </tbody>\n",
       "</table>\n",
       "</div>"
      ],
      "text/plain": [
       "    newsoutlet_id             newsoutlet_name newsoutlet_country\n",
       "0          428333         \"CNN Breaking News\"                USA\n",
       "1          807095        \"The New York Times\"                USA\n",
       "2          759251                       \"CNN\"                USA\n",
       "3        15012486                  \"CBS News\"                USA\n",
       "4         3108351   \"The Wall Street Journal\"                USA\n",
       "5         5392522                       \"NPR\"                USA\n",
       "6         2467791       \"The Washington Post\"                USA\n",
       "7         7309052                \"Yahoo News\"                USA\n",
       "8        28785486                  \"ABC News\"                USA\n",
       "9        15754281                 \"USA TODAY\"                USA\n",
       "10       14511951                  \"HuffPost\"                USA\n",
       "11       14173315                  \"NBC News\"                USA\n",
       "12       95431448          \"The Boston Globe\"                USA\n",
       "13     1020058453             \"BuzzFeed News\"                USA\n",
       "14       21866939                  \"ITV News\"                 UK\n",
       "15      271413771               \"HuffPost UK\"                 UK\n",
       "16       16343974             \"The Telegraph\"                 UK\n",
       "17      111556423           \"Daily Mail U.K.\"                 UK\n",
       "18      138749160                     \"Metro\"                 UK\n",
       "19       87818409              \"The Guardian\"                 UK\n",
       "20         612473             \"BBC News (UK)\"                 UK\n",
       "21        6107422       \"The Times of London\"                 UK\n",
       "22       16887175              \"Daily Mirror\"                 UK\n",
       "23       17895820             \"Daily Express\"                 UK\n",
       "24       34655603                   \"The Sun\"                 UK\n",
       "25        7587032                  \"Sky News\"                 UK\n",
       "26       16973333           \"The Independent\"                 UK"
      ]
     },
     "execution_count": 6,
     "metadata": {},
     "output_type": "execute_result"
    }
   ],
   "source": [
    "outlets.iloc[6,2]='USA'\n",
    "outlets"
   ]
  },
  {
   "cell_type": "markdown",
   "id": "polar-comment",
   "metadata": {},
   "source": [
    "# 3. NewsItemsReplies"
   ]
  },
  {
   "cell_type": "code",
   "execution_count": 3,
   "id": "loaded-fountain",
   "metadata": {},
   "outputs": [
    {
     "data": {
      "text/html": [
       "<div>\n",
       "<style scoped>\n",
       "    .dataframe tbody tr th:only-of-type {\n",
       "        vertical-align: middle;\n",
       "    }\n",
       "\n",
       "    .dataframe tbody tr th {\n",
       "        vertical-align: top;\n",
       "    }\n",
       "\n",
       "    .dataframe thead th {\n",
       "        text-align: right;\n",
       "    }\n",
       "</style>\n",
       "<table border=\"1\" class=\"dataframe\">\n",
       "  <thead>\n",
       "    <tr style=\"text-align: right;\">\n",
       "      <th></th>\n",
       "      <th>comment_id</th>\n",
       "      <th>news_tweet_text</th>\n",
       "      <th>comment_tweet_date</th>\n",
       "      <th>in_reply_to_news_id</th>\n",
       "      <th>comment_tweet_text</th>\n",
       "      <th>perspective_attack_on_author</th>\n",
       "      <th>perspective_attack_on_commenter</th>\n",
       "      <th>perspective_identity_attack</th>\n",
       "      <th>perspective_inflammatory</th>\n",
       "      <th>perspective_insult</th>\n",
       "      <th>perspective_profanity</th>\n",
       "      <th>perspective_severe_toxicity</th>\n",
       "      <th>perspective_threat</th>\n",
       "      <th>perspective_toxicity</th>\n",
       "    </tr>\n",
       "  </thead>\n",
       "  <tbody>\n",
       "    <tr>\n",
       "      <th>0</th>\n",
       "      <td>1084048846781583360</td>\n",
       "      <td>People over 65 and ultra conservatives shared ...</td>\n",
       "      <td>2019-01-12 11:23:05</td>\n",
       "      <td>1084048113260773377</td>\n",
       "      <td>@ABC Probably because Conservatives are the sa...</td>\n",
       "      <td>0.004244</td>\n",
       "      <td>0.653545</td>\n",
       "      <td>0.293428</td>\n",
       "      <td>0.396587</td>\n",
       "      <td>0.445224</td>\n",
       "      <td>0.227399</td>\n",
       "      <td>0.109481</td>\n",
       "      <td>0.152440</td>\n",
       "      <td>0.386526</td>\n",
       "    </tr>\n",
       "    <tr>\n",
       "      <th>1</th>\n",
       "      <td>1081750348010872832</td>\n",
       "      <td>OPINION: Congresswoman Rashida Tlaib should ap...</td>\n",
       "      <td>2019-01-05 23:24:52</td>\n",
       "      <td>1081693041222709249</td>\n",
       "      <td>@ABC @matthewjdowd Have you forgotten who she ...</td>\n",
       "      <td>0.126954</td>\n",
       "      <td>0.911894</td>\n",
       "      <td>0.417152</td>\n",
       "      <td>0.650789</td>\n",
       "      <td>0.419343</td>\n",
       "      <td>0.318712</td>\n",
       "      <td>0.314918</td>\n",
       "      <td>0.459924</td>\n",
       "      <td>0.499502</td>\n",
       "    </tr>\n",
       "    <tr>\n",
       "      <th>2</th>\n",
       "      <td>1083125706689822720</td>\n",
       "      <td>Rep. Kevin McCarthy disputes Sen. Schumer's ac...</td>\n",
       "      <td>2019-01-09 21:39:48</td>\n",
       "      <td>1083116150660055040</td>\n",
       "      <td>@ABC Democratic Neanderthals! Who doesn’t like...</td>\n",
       "      <td>0.054733</td>\n",
       "      <td>0.385629</td>\n",
       "      <td>0.346428</td>\n",
       "      <td>0.568032</td>\n",
       "      <td>0.491160</td>\n",
       "      <td>0.367424</td>\n",
       "      <td>0.237174</td>\n",
       "      <td>0.234344</td>\n",
       "      <td>0.440851</td>\n",
       "    </tr>\n",
       "    <tr>\n",
       "      <th>3</th>\n",
       "      <td>1081555613098889216</td>\n",
       "      <td>OPINION: Congresswoman Rashida Tlaib should ap...</td>\n",
       "      <td>2019-01-05 11:06:13</td>\n",
       "      <td>1081507153721114629</td>\n",
       "      <td>@ABC @matthewjdowd When Trump apologizes is wh...</td>\n",
       "      <td>0.018760</td>\n",
       "      <td>0.299981</td>\n",
       "      <td>0.134293</td>\n",
       "      <td>0.226994</td>\n",
       "      <td>0.159741</td>\n",
       "      <td>0.150060</td>\n",
       "      <td>0.087283</td>\n",
       "      <td>0.157148</td>\n",
       "      <td>0.224154</td>\n",
       "    </tr>\n",
       "    <tr>\n",
       "      <th>4</th>\n",
       "      <td>1081279148612571137</td>\n",
       "      <td>JUST IN: Pres. Trump says he's considered decl...</td>\n",
       "      <td>2019-01-04 19:55:11</td>\n",
       "      <td>1081277886105976832</td>\n",
       "      <td>@ABC That continent is stuck with the baggage ...</td>\n",
       "      <td>0.025047</td>\n",
       "      <td>0.592016</td>\n",
       "      <td>0.330678</td>\n",
       "      <td>0.568032</td>\n",
       "      <td>0.592763</td>\n",
       "      <td>0.484796</td>\n",
       "      <td>0.341170</td>\n",
       "      <td>0.353246</td>\n",
       "      <td>0.617881</td>\n",
       "    </tr>\n",
       "  </tbody>\n",
       "</table>\n",
       "</div>"
      ],
      "text/plain": [
       "            comment_id                                    news_tweet_text  \\\n",
       "0  1084048846781583360  People over 65 and ultra conservatives shared ...   \n",
       "1  1081750348010872832  OPINION: Congresswoman Rashida Tlaib should ap...   \n",
       "2  1083125706689822720  Rep. Kevin McCarthy disputes Sen. Schumer's ac...   \n",
       "3  1081555613098889216  OPINION: Congresswoman Rashida Tlaib should ap...   \n",
       "4  1081279148612571137  JUST IN: Pres. Trump says he's considered decl...   \n",
       "\n",
       "    comment_tweet_date  in_reply_to_news_id  \\\n",
       "0  2019-01-12 11:23:05  1084048113260773377   \n",
       "1  2019-01-05 23:24:52  1081693041222709249   \n",
       "2  2019-01-09 21:39:48  1083116150660055040   \n",
       "3  2019-01-05 11:06:13  1081507153721114629   \n",
       "4  2019-01-04 19:55:11  1081277886105976832   \n",
       "\n",
       "                                  comment_tweet_text  \\\n",
       "0  @ABC Probably because Conservatives are the sa...   \n",
       "1  @ABC @matthewjdowd Have you forgotten who she ...   \n",
       "2  @ABC Democratic Neanderthals! Who doesn’t like...   \n",
       "3  @ABC @matthewjdowd When Trump apologizes is wh...   \n",
       "4  @ABC That continent is stuck with the baggage ...   \n",
       "\n",
       "   perspective_attack_on_author  perspective_attack_on_commenter  \\\n",
       "0                      0.004244                         0.653545   \n",
       "1                      0.126954                         0.911894   \n",
       "2                      0.054733                         0.385629   \n",
       "3                      0.018760                         0.299981   \n",
       "4                      0.025047                         0.592016   \n",
       "\n",
       "   perspective_identity_attack  perspective_inflammatory  perspective_insult  \\\n",
       "0                     0.293428                  0.396587            0.445224   \n",
       "1                     0.417152                  0.650789            0.419343   \n",
       "2                     0.346428                  0.568032            0.491160   \n",
       "3                     0.134293                  0.226994            0.159741   \n",
       "4                     0.330678                  0.568032            0.592763   \n",
       "\n",
       "   perspective_profanity  perspective_severe_toxicity  perspective_threat  \\\n",
       "0               0.227399                     0.109481            0.152440   \n",
       "1               0.318712                     0.314918            0.459924   \n",
       "2               0.367424                     0.237174            0.234344   \n",
       "3               0.150060                     0.087283            0.157148   \n",
       "4               0.484796                     0.341170            0.353246   \n",
       "\n",
       "   perspective_toxicity  \n",
       "0              0.386526  \n",
       "1              0.499502  \n",
       "2              0.440851  \n",
       "3              0.224154  \n",
       "4              0.617881  "
      ]
     },
     "execution_count": 3,
     "metadata": {},
     "output_type": "execute_result"
    }
   ],
   "source": [
    "ireplies = pd.read_csv('NewsItemsReplies.csv', low_memory=False, na_values = ['n\\a', 'na', 'None', 'NaN', '--', '.'])\n",
    "ireplies.head()"
   ]
  },
  {
   "cell_type": "code",
   "execution_count": 4,
   "id": "virgin-cathedral",
   "metadata": {},
   "outputs": [
    {
     "name": "stdout",
     "output_type": "stream",
     "text": [
      "<class 'pandas.core.frame.DataFrame'>\n",
      "RangeIndex: 2228792 entries, 0 to 2228791\n",
      "Data columns (total 14 columns):\n",
      " #   Column                           Dtype  \n",
      "---  ------                           -----  \n",
      " 0   comment_id                       object \n",
      " 1   news_tweet_text                  object \n",
      " 2   comment_tweet_date               object \n",
      " 3   in_reply_to_news_id              object \n",
      " 4   comment_tweet_text               object \n",
      " 5   perspective_attack_on_author     float64\n",
      " 6   perspective_attack_on_commenter  float64\n",
      " 7   perspective_identity_attack      float64\n",
      " 8   perspective_inflammatory         float64\n",
      " 9   perspective_insult               float64\n",
      " 10  perspective_profanity            float64\n",
      " 11  perspective_severe_toxicity      float64\n",
      " 12  perspective_threat               float64\n",
      " 13  perspective_toxicity             float64\n",
      "dtypes: float64(9), object(5)\n",
      "memory usage: 238.1+ MB\n"
     ]
    }
   ],
   "source": [
    "ireplies.info()"
   ]
  },
  {
   "cell_type": "markdown",
   "id": "verified-planet",
   "metadata": {},
   "source": [
    "## Duplicados"
   ]
  },
  {
   "cell_type": "code",
   "execution_count": 5,
   "id": "lyric-leather",
   "metadata": {},
   "outputs": [
    {
     "data": {
      "text/plain": [
       "1239325"
      ]
     },
     "execution_count": 5,
     "metadata": {},
     "output_type": "execute_result"
    }
   ],
   "source": [
    "ireplies.drop_duplicates(inplace=True)\n",
    "len(ireplies)"
   ]
  },
  {
   "cell_type": "code",
   "execution_count": 9,
   "id": "anticipated-niagara",
   "metadata": {},
   "outputs": [
    {
     "data": {
      "text/plain": [
       "1114396"
      ]
     },
     "execution_count": 9,
     "metadata": {},
     "output_type": "execute_result"
    }
   ],
   "source": [
    "## DROP_DUPLICATES CONDICIONADO ##\n",
    "# Ordena IN_REPLY_TO_NEWS_ID de forma a que estejam primeiro os que estão \n",
    "# em notação cientifica e, por fim, elimina os duplicados mantendo só os \n",
    "# últimos que terão o formato normal, caso existam.\n",
    "\n",
    "ireplies.sort_values('in_reply_to_news_id',inplace=True)\n",
    "ireplies.drop_duplicates(['comment_id','news_tweet_text','comment_tweet_date',\n",
    "                          'comment_tweet_text'], keep='last', inplace=True)\n",
    "len(ireplies)"
   ]
  },
  {
   "cell_type": "markdown",
   "id": "variable-graduate",
   "metadata": {},
   "source": [
    "## Notação científica no 'in_reply_to_news_id'"
   ]
  },
  {
   "cell_type": "code",
   "execution_count": 10,
   "id": "confidential-cambridge",
   "metadata": {},
   "outputs": [
    {
     "data": {
      "text/plain": [
       "98332"
      ]
     },
     "execution_count": 10,
     "metadata": {},
     "output_type": "execute_result"
    }
   ],
   "source": [
    "# linhas com IN_REPLY_TO_NEWS_ID em notação cientifica\n",
    "iRep2News = ireplies[ireplies[['in_reply_to_news_id']]\n",
    "             .apply(lambda x: x.str.contains(',|E|e', regex=True))\n",
    "             .any(axis=1)]\n",
    "\n",
    "# nº de comentários em notação científica\n",
    "len(iRep2News)"
   ]
  },
  {
   "cell_type": "markdown",
   "id": "casual-north",
   "metadata": {},
   "source": [
    "### Procura das notícias correspondentes aos comentários com 'in_reply_to_news_id' em notação científica"
   ]
  },
  {
   "cell_type": "code",
   "execution_count": 11,
   "id": "twelve-front",
   "metadata": {},
   "outputs": [
    {
     "data": {
      "text/html": [
       "<div>\n",
       "<style scoped>\n",
       "    .dataframe tbody tr th:only-of-type {\n",
       "        vertical-align: middle;\n",
       "    }\n",
       "\n",
       "    .dataframe tbody tr th {\n",
       "        vertical-align: top;\n",
       "    }\n",
       "\n",
       "    .dataframe thead th {\n",
       "        text-align: right;\n",
       "    }\n",
       "</style>\n",
       "<table border=\"1\" class=\"dataframe\">\n",
       "  <thead>\n",
       "    <tr style=\"text-align: right;\">\n",
       "      <th></th>\n",
       "      <th>sci_notation</th>\n",
       "      <th>lm_digits</th>\n",
       "      <th># comments</th>\n",
       "    </tr>\n",
       "  </thead>\n",
       "  <tbody>\n",
       "    <tr>\n",
       "      <th>1.083897478e+18</th>\n",
       "      <td>1.083897478e+18</td>\n",
       "      <td>1083897478</td>\n",
       "      <td>4639</td>\n",
       "    </tr>\n",
       "    <tr>\n",
       "      <th>1.080788389e+18</th>\n",
       "      <td>1.080788389e+18</td>\n",
       "      <td>1080788389</td>\n",
       "      <td>2851</td>\n",
       "    </tr>\n",
       "    <tr>\n",
       "      <th>1.082839415e+18</th>\n",
       "      <td>1.082839415e+18</td>\n",
       "      <td>1082839415</td>\n",
       "      <td>1567</td>\n",
       "    </tr>\n",
       "    <tr>\n",
       "      <th>1.083918267e+18</th>\n",
       "      <td>1.083918267e+18</td>\n",
       "      <td>1083918267</td>\n",
       "      <td>1448</td>\n",
       "    </tr>\n",
       "    <tr>\n",
       "      <th>1.07973272e+18</th>\n",
       "      <td>1.07973272e+18</td>\n",
       "      <td>107973272</td>\n",
       "      <td>1216</td>\n",
       "    </tr>\n",
       "    <tr>\n",
       "      <th>...</th>\n",
       "      <td>...</td>\n",
       "      <td>...</td>\n",
       "      <td>...</td>\n",
       "    </tr>\n",
       "    <tr>\n",
       "      <th>1.0825248260808173e+18</th>\n",
       "      <td>1.0825248260808173e+18</td>\n",
       "      <td>10825248260808173</td>\n",
       "      <td>1</td>\n",
       "    </tr>\n",
       "    <tr>\n",
       "      <th>1.0802108065648065e+18</th>\n",
       "      <td>1.0802108065648065e+18</td>\n",
       "      <td>10802108065648065</td>\n",
       "      <td>1</td>\n",
       "    </tr>\n",
       "    <tr>\n",
       "      <th>1.0812617598628413e+18</th>\n",
       "      <td>1.0812617598628413e+18</td>\n",
       "      <td>10812617598628413</td>\n",
       "      <td>1</td>\n",
       "    </tr>\n",
       "    <tr>\n",
       "      <th>1.0837575371057112e+18</th>\n",
       "      <td>1.0837575371057112e+18</td>\n",
       "      <td>10837575371057112</td>\n",
       "      <td>1</td>\n",
       "    </tr>\n",
       "    <tr>\n",
       "      <th>1.0840605599418204e+18</th>\n",
       "      <td>1.0840605599418204e+18</td>\n",
       "      <td>10840605599418204</td>\n",
       "      <td>1</td>\n",
       "    </tr>\n",
       "  </tbody>\n",
       "</table>\n",
       "<p>3654 rows × 3 columns</p>\n",
       "</div>"
      ],
      "text/plain": [
       "                                  sci_notation          lm_digits  # comments\n",
       "1.083897478e+18                1.083897478e+18         1083897478        4639\n",
       "1.080788389e+18                1.080788389e+18         1080788389        2851\n",
       "1.082839415e+18                1.082839415e+18         1082839415        1567\n",
       "1.083918267e+18                1.083918267e+18         1083918267        1448\n",
       "1.07973272e+18                  1.07973272e+18          107973272        1216\n",
       "...                                        ...                ...         ...\n",
       "1.0825248260808173e+18  1.0825248260808173e+18  10825248260808173           1\n",
       "1.0802108065648065e+18  1.0802108065648065e+18  10802108065648065           1\n",
       "1.0812617598628413e+18  1.0812617598628413e+18  10812617598628413           1\n",
       "1.0837575371057112e+18  1.0837575371057112e+18  10837575371057112           1\n",
       "1.0840605599418204e+18  1.0840605599418204e+18  10840605599418204           1\n",
       "\n",
       "[3654 rows x 3 columns]"
      ]
     },
     "execution_count": 11,
     "metadata": {},
     "output_type": "execute_result"
    }
   ],
   "source": [
    "sci_notation = iRep2News['in_reply_to_news_id'].value_counts()\n",
    "#left most digits\n",
    "lm_digits = sci_notation.index.str.replace('\\.|,|[e|E]\\+[0-9]*','',regex=True)\n",
    "df = pd.DataFrame({'sci_notation': sci_notation.index,'lm_digits': lm_digits, '# comments': sci_notation})\n",
    "df"
   ]
  },
  {
   "cell_type": "code",
   "execution_count": 12,
   "id": "contained-andrew",
   "metadata": {},
   "outputs": [
    {
     "data": {
      "text/html": [
       "<div>\n",
       "<style scoped>\n",
       "    .dataframe tbody tr th:only-of-type {\n",
       "        vertical-align: middle;\n",
       "    }\n",
       "\n",
       "    .dataframe tbody tr th {\n",
       "        vertical-align: top;\n",
       "    }\n",
       "\n",
       "    .dataframe thead th {\n",
       "        text-align: right;\n",
       "    }\n",
       "</style>\n",
       "<table border=\"1\" class=\"dataframe\">\n",
       "  <thead>\n",
       "    <tr style=\"text-align: right;\">\n",
       "      <th></th>\n",
       "      <th>news_id</th>\n",
       "      <th>lm_digits</th>\n",
       "    </tr>\n",
       "  </thead>\n",
       "  <tbody>\n",
       "    <tr>\n",
       "      <th>14583</th>\n",
       "      <td>1082839415075061760</td>\n",
       "      <td>1082839415</td>\n",
       "    </tr>\n",
       "    <tr>\n",
       "      <th>14591</th>\n",
       "      <td>1083918267000016896</td>\n",
       "      <td>1083918267</td>\n",
       "    </tr>\n",
       "    <tr>\n",
       "      <th>14089</th>\n",
       "      <td>1079732720039849986</td>\n",
       "      <td>107973272</td>\n",
       "    </tr>\n",
       "    <tr>\n",
       "      <th>14297</th>\n",
       "      <td>1082480014413758466</td>\n",
       "      <td>1082480014</td>\n",
       "    </tr>\n",
       "    <tr>\n",
       "      <th>13573</th>\n",
       "      <td>1082577684314632192</td>\n",
       "      <td>1082577684</td>\n",
       "    </tr>\n",
       "    <tr>\n",
       "      <th>...</th>\n",
       "      <td>...</td>\n",
       "      <td>...</td>\n",
       "    </tr>\n",
       "    <tr>\n",
       "      <th>15616</th>\n",
       "      <td>1079825788822802437</td>\n",
       "      <td>10798257888228024</td>\n",
       "    </tr>\n",
       "    <tr>\n",
       "      <th>15634</th>\n",
       "      <td>1078731067102806016</td>\n",
       "      <td>1078731067102806</td>\n",
       "    </tr>\n",
       "    <tr>\n",
       "      <th>11576</th>\n",
       "      <td>1080456444133150721</td>\n",
       "      <td>10804564441331507</td>\n",
       "    </tr>\n",
       "    <tr>\n",
       "      <th>15953</th>\n",
       "      <td>1081261759862841344</td>\n",
       "      <td>10812617598628413</td>\n",
       "    </tr>\n",
       "    <tr>\n",
       "      <th>12201</th>\n",
       "      <td>1084060559941820417</td>\n",
       "      <td>10840605599418204</td>\n",
       "    </tr>\n",
       "  </tbody>\n",
       "</table>\n",
       "<p>1791 rows × 2 columns</p>\n",
       "</div>"
      ],
      "text/plain": [
       "                   news_id          lm_digits\n",
       "14583  1082839415075061760         1082839415\n",
       "14591  1083918267000016896         1083918267\n",
       "14089  1079732720039849986          107973272\n",
       "14297  1082480014413758466         1082480014\n",
       "13573  1082577684314632192         1082577684\n",
       "...                    ...                ...\n",
       "15616  1079825788822802437  10798257888228024\n",
       "15634  1078731067102806016   1078731067102806\n",
       "11576  1080456444133150721  10804564441331507\n",
       "15953  1081261759862841344  10812617598628413\n",
       "12201  1084060559941820417  10840605599418204\n",
       "\n",
       "[1791 rows x 2 columns]"
      ]
     },
     "execution_count": 12,
     "metadata": {},
     "output_type": "execute_result"
    }
   ],
   "source": [
    "items = pd.read_csv('NewsItems.csv', na_values = ['n\\a', 'na', 'None', 'NaN', '--', '.'])\n",
    "\n",
    "# lista de id's completos das notícias, em ITEMS, como strings para comparação\n",
    "full_news_id = items['news_id'].astype(str)\n",
    "\n",
    "# possíveis 'news_id's associados aos 'lm_digits' (left most digits) \n",
    "# que retiramos da notação científica\n",
    "df2 = pd.DataFrame({'news_id' : [], 'lm_digits' : []})\n",
    "    \n",
    "for parcial_id in df['lm_digits']:\n",
    "    regex = '^' + parcial_id + '[0-9]*'\n",
    "    aux_df = full_news_id[full_news_id.str.contains(regex)].to_frame()\n",
    "    aux_df['lm_digits'] = parcial_id\n",
    "    df2 = pd.concat([df2, aux_df], axis=0)\n",
    "\n",
    "df2\n",
    "\n",
    "# De 3654 'lm_digits' apenas encontramos 1791 'news_id's compatíveis (...)"
   ]
  },
  {
   "cell_type": "code",
   "execution_count": 13,
   "id": "manual-comment",
   "metadata": {},
   "outputs": [
    {
     "data": {
      "text/plain": [
       "news_id      1781\n",
       "lm_digits    1682\n",
       "dtype: int64"
      ]
     },
     "execution_count": 13,
     "metadata": {},
     "output_type": "execute_result"
    }
   ],
   "source": [
    "df2.nunique()"
   ]
  },
  {
   "cell_type": "code",
   "execution_count": 14,
   "id": "nominated-motion",
   "metadata": {},
   "outputs": [
    {
     "data": {
      "text/html": [
       "<div>\n",
       "<style scoped>\n",
       "    .dataframe tbody tr th:only-of-type {\n",
       "        vertical-align: middle;\n",
       "    }\n",
       "\n",
       "    .dataframe tbody tr th {\n",
       "        vertical-align: top;\n",
       "    }\n",
       "\n",
       "    .dataframe thead th {\n",
       "        text-align: right;\n",
       "    }\n",
       "</style>\n",
       "<table border=\"1\" class=\"dataframe\">\n",
       "  <thead>\n",
       "    <tr style=\"text-align: right;\">\n",
       "      <th></th>\n",
       "      <th>news_id</th>\n",
       "      <th>lm_digits</th>\n",
       "    </tr>\n",
       "  </thead>\n",
       "  <tbody>\n",
       "    <tr>\n",
       "      <th>15875</th>\n",
       "      <td>1078319627401392135</td>\n",
       "      <td>1078319627401392</td>\n",
       "    </tr>\n",
       "    <tr>\n",
       "      <th>15875</th>\n",
       "      <td>1078319627401392135</td>\n",
       "      <td>107831962</td>\n",
       "    </tr>\n",
       "    <tr>\n",
       "      <th>14641</th>\n",
       "      <td>1080256132579508224</td>\n",
       "      <td>10802561325795082</td>\n",
       "    </tr>\n",
       "    <tr>\n",
       "      <th>14641</th>\n",
       "      <td>1080256132579508224</td>\n",
       "      <td>108025613</td>\n",
       "    </tr>\n",
       "    <tr>\n",
       "      <th>10993</th>\n",
       "      <td>1082796616191377408</td>\n",
       "      <td>1082796616</td>\n",
       "    </tr>\n",
       "    <tr>\n",
       "      <th>10993</th>\n",
       "      <td>1082796616191377408</td>\n",
       "      <td>10827966161913774</td>\n",
       "    </tr>\n",
       "    <tr>\n",
       "      <th>2740</th>\n",
       "      <td>1082887228555173888</td>\n",
       "      <td>10828872</td>\n",
       "    </tr>\n",
       "    <tr>\n",
       "      <th>3292</th>\n",
       "      <td>1082887228555173888</td>\n",
       "      <td>10828872</td>\n",
       "    </tr>\n",
       "    <tr>\n",
       "      <th>12404</th>\n",
       "      <td>1083729249985617922</td>\n",
       "      <td>10837292499856179</td>\n",
       "    </tr>\n",
       "    <tr>\n",
       "      <th>12404</th>\n",
       "      <td>1083729249985617922</td>\n",
       "      <td>1083729</td>\n",
       "    </tr>\n",
       "    <tr>\n",
       "      <th>10462</th>\n",
       "      <td>1083729492856713217</td>\n",
       "      <td>1083729</td>\n",
       "    </tr>\n",
       "    <tr>\n",
       "      <th>10462</th>\n",
       "      <td>1083729492856713217</td>\n",
       "      <td>10837294928567132</td>\n",
       "    </tr>\n",
       "    <tr>\n",
       "      <th>14799</th>\n",
       "      <td>1083819591397240832</td>\n",
       "      <td>10838195913972408</td>\n",
       "    </tr>\n",
       "    <tr>\n",
       "      <th>14799</th>\n",
       "      <td>1083819591397240832</td>\n",
       "      <td>1083819591</td>\n",
       "    </tr>\n",
       "    <tr>\n",
       "      <th>15191</th>\n",
       "      <td>1084166908776198144</td>\n",
       "      <td>10841669087761981</td>\n",
       "    </tr>\n",
       "    <tr>\n",
       "      <th>15191</th>\n",
       "      <td>1084166908776198144</td>\n",
       "      <td>1084166908</td>\n",
       "    </tr>\n",
       "    <tr>\n",
       "      <th>2975</th>\n",
       "      <td>1084555731704168449</td>\n",
       "      <td>1084555731</td>\n",
       "    </tr>\n",
       "    <tr>\n",
       "      <th>2423</th>\n",
       "      <td>1084555731704168449</td>\n",
       "      <td>1084555731</td>\n",
       "    </tr>\n",
       "    <tr>\n",
       "      <th>15393</th>\n",
       "      <td>1084605286474752001</td>\n",
       "      <td>1084605286</td>\n",
       "    </tr>\n",
       "    <tr>\n",
       "      <th>15393</th>\n",
       "      <td>1084605286474752001</td>\n",
       "      <td>1084605286474752</td>\n",
       "    </tr>\n",
       "  </tbody>\n",
       "</table>\n",
       "</div>"
      ],
      "text/plain": [
       "                   news_id          lm_digits\n",
       "15875  1078319627401392135   1078319627401392\n",
       "15875  1078319627401392135          107831962\n",
       "14641  1080256132579508224  10802561325795082\n",
       "14641  1080256132579508224          108025613\n",
       "10993  1082796616191377408         1082796616\n",
       "10993  1082796616191377408  10827966161913774\n",
       "2740   1082887228555173888           10828872\n",
       "3292   1082887228555173888           10828872\n",
       "12404  1083729249985617922  10837292499856179\n",
       "12404  1083729249985617922            1083729\n",
       "10462  1083729492856713217            1083729\n",
       "10462  1083729492856713217  10837294928567132\n",
       "14799  1083819591397240832  10838195913972408\n",
       "14799  1083819591397240832         1083819591\n",
       "15191  1084166908776198144  10841669087761981\n",
       "15191  1084166908776198144         1084166908\n",
       "2975   1084555731704168449         1084555731\n",
       "2423   1084555731704168449         1084555731\n",
       "15393  1084605286474752001         1084605286\n",
       "15393  1084605286474752001   1084605286474752"
      ]
     },
     "execution_count": 14,
     "metadata": {},
     "output_type": "execute_result"
    }
   ],
   "source": [
    "# (...) desses 8 são repetidos\n",
    "df2[df2.duplicated('news_id', keep=False)].sort_values(by='news_id')"
   ]
  },
  {
   "cell_type": "code",
   "execution_count": 15,
   "id": "instant-director",
   "metadata": {},
   "outputs": [
    {
     "data": {
      "text/plain": [
       "news_id      1781\n",
       "lm_digits    1679\n",
       "dtype: int64"
      ]
     },
     "execution_count": 15,
     "metadata": {},
     "output_type": "execute_result"
    }
   ],
   "source": [
    "# basta retirar os primeiros duplicados porque são os que têm \n",
    "# os 'lm_digits' com menor precisão\n",
    "df2.drop_duplicates(subset=['news_id'], keep='last', inplace=True)\n",
    "df2.nunique()"
   ]
  },
  {
   "cell_type": "code",
   "execution_count": 16,
   "id": "quality-stupid",
   "metadata": {},
   "outputs": [
    {
     "data": {
      "text/html": [
       "<div>\n",
       "<style scoped>\n",
       "    .dataframe tbody tr th:only-of-type {\n",
       "        vertical-align: middle;\n",
       "    }\n",
       "\n",
       "    .dataframe tbody tr th {\n",
       "        vertical-align: top;\n",
       "    }\n",
       "\n",
       "    .dataframe thead th {\n",
       "        text-align: right;\n",
       "    }\n",
       "</style>\n",
       "<table border=\"1\" class=\"dataframe\">\n",
       "  <thead>\n",
       "    <tr style=\"text-align: right;\">\n",
       "      <th></th>\n",
       "      <th>news_id</th>\n",
       "      <th>lm_digits</th>\n",
       "      <th>sci_notation</th>\n",
       "      <th># comments</th>\n",
       "    </tr>\n",
       "  </thead>\n",
       "  <tbody>\n",
       "    <tr>\n",
       "      <th>0</th>\n",
       "      <td>1082839415075061760</td>\n",
       "      <td>1082839415</td>\n",
       "      <td>1.082839415e+18</td>\n",
       "      <td>1567</td>\n",
       "    </tr>\n",
       "    <tr>\n",
       "      <th>1</th>\n",
       "      <td>1083918267000016896</td>\n",
       "      <td>1083918267</td>\n",
       "      <td>1.083918267e+18</td>\n",
       "      <td>1448</td>\n",
       "    </tr>\n",
       "    <tr>\n",
       "      <th>2</th>\n",
       "      <td>1079732720039849986</td>\n",
       "      <td>107973272</td>\n",
       "      <td>1.07973272e+18</td>\n",
       "      <td>1216</td>\n",
       "    </tr>\n",
       "    <tr>\n",
       "      <th>3</th>\n",
       "      <td>1082480014413758466</td>\n",
       "      <td>1082480014</td>\n",
       "      <td>1.082480014e+18</td>\n",
       "      <td>803</td>\n",
       "    </tr>\n",
       "    <tr>\n",
       "      <th>4</th>\n",
       "      <td>1082577684314632192</td>\n",
       "      <td>1082577684</td>\n",
       "      <td>1.082577684e+18</td>\n",
       "      <td>742</td>\n",
       "    </tr>\n",
       "    <tr>\n",
       "      <th>...</th>\n",
       "      <td>...</td>\n",
       "      <td>...</td>\n",
       "      <td>...</td>\n",
       "      <td>...</td>\n",
       "    </tr>\n",
       "    <tr>\n",
       "      <th>1776</th>\n",
       "      <td>1079825788822802437</td>\n",
       "      <td>10798257888228024</td>\n",
       "      <td>1.0798257888228024e+18</td>\n",
       "      <td>1</td>\n",
       "    </tr>\n",
       "    <tr>\n",
       "      <th>1777</th>\n",
       "      <td>1078731067102806016</td>\n",
       "      <td>1078731067102806</td>\n",
       "      <td>1.078731067102806e+18</td>\n",
       "      <td>1</td>\n",
       "    </tr>\n",
       "    <tr>\n",
       "      <th>1778</th>\n",
       "      <td>1080456444133150721</td>\n",
       "      <td>10804564441331507</td>\n",
       "      <td>1.0804564441331507e+18</td>\n",
       "      <td>1</td>\n",
       "    </tr>\n",
       "    <tr>\n",
       "      <th>1779</th>\n",
       "      <td>1081261759862841344</td>\n",
       "      <td>10812617598628413</td>\n",
       "      <td>1.0812617598628413e+18</td>\n",
       "      <td>1</td>\n",
       "    </tr>\n",
       "    <tr>\n",
       "      <th>1780</th>\n",
       "      <td>1084060559941820417</td>\n",
       "      <td>10840605599418204</td>\n",
       "      <td>1.0840605599418204e+18</td>\n",
       "      <td>1</td>\n",
       "    </tr>\n",
       "  </tbody>\n",
       "</table>\n",
       "<p>1781 rows × 4 columns</p>\n",
       "</div>"
      ],
      "text/plain": [
       "                  news_id          lm_digits            sci_notation  \\\n",
       "0     1082839415075061760         1082839415         1.082839415e+18   \n",
       "1     1083918267000016896         1083918267         1.083918267e+18   \n",
       "2     1079732720039849986          107973272          1.07973272e+18   \n",
       "3     1082480014413758466         1082480014         1.082480014e+18   \n",
       "4     1082577684314632192         1082577684         1.082577684e+18   \n",
       "...                   ...                ...                     ...   \n",
       "1776  1079825788822802437  10798257888228024  1.0798257888228024e+18   \n",
       "1777  1078731067102806016   1078731067102806   1.078731067102806e+18   \n",
       "1778  1080456444133150721  10804564441331507  1.0804564441331507e+18   \n",
       "1779  1081261759862841344  10812617598628413  1.0812617598628413e+18   \n",
       "1780  1084060559941820417  10840605599418204  1.0840605599418204e+18   \n",
       "\n",
       "      # comments  \n",
       "0           1567  \n",
       "1           1448  \n",
       "2           1216  \n",
       "3            803  \n",
       "4            742  \n",
       "...          ...  \n",
       "1776           1  \n",
       "1777           1  \n",
       "1778           1  \n",
       "1779           1  \n",
       "1780           1  \n",
       "\n",
       "[1781 rows x 4 columns]"
      ]
     },
     "execution_count": 16,
     "metadata": {},
     "output_type": "execute_result"
    }
   ],
   "source": [
    "# Informação completa dos id's restantes\n",
    "m = pd.merge(df2, df, on='lm_digits', how=\"left\")\n",
    "m"
   ]
  },
  {
   "cell_type": "code",
   "execution_count": 17,
   "id": "rocky-sydney",
   "metadata": {},
   "outputs": [
    {
     "data": {
      "text/plain": [
       "57721"
      ]
     },
     "execution_count": 17,
     "metadata": {},
     "output_type": "execute_result"
    }
   ],
   "source": [
    "# nº de comentários aproveitados\n",
    "m['# comments'].sum()"
   ]
  },
  {
   "cell_type": "code",
   "execution_count": 18,
   "id": "essential-handbook",
   "metadata": {},
   "outputs": [],
   "source": [
    "# Dicionário com as alterações para os id's no formato correcto\n",
    "sciNot_dict = dict(zip(m.sci_notation, m.news_id))\n",
    "\n",
    "# Substituição da notação cientifica pelos respectivos ids completos\n",
    "ireplies.replace({'in_reply_to_news_id': sciNot_dict}, inplace=True)"
   ]
  },
  {
   "cell_type": "code",
   "execution_count": 19,
   "id": "differential-palestine",
   "metadata": {},
   "outputs": [
    {
     "name": "stdout",
     "output_type": "stream",
     "text": [
      "46245 comentários desaproveitados\n"
     ]
    }
   ],
   "source": [
    "# Comments without news #\n",
    "# comentários restantes com notação científica, i.e., aos quais não é possível associar nenhum news_id\n",
    "commentWTnews = ireplies[ireplies[['in_reply_to_news_id']]\n",
    "                 .apply(lambda x: x.str.contains(',|E|e', regex=True))\n",
    "                 .any(axis=1)]\n",
    "\n",
    "print(f'{commentWTnews.index.size} comentários desaproveitados')"
   ]
  },
  {
   "cell_type": "code",
   "execution_count": 20,
   "id": "constant-porter",
   "metadata": {},
   "outputs": [
    {
     "name": "stdout",
     "output_type": "stream",
     "text": [
      " nº de comentários no ireplies: 1068151\n"
     ]
    }
   ],
   "source": [
    "# drop dos comentários que não se podem aproveitar\n",
    "ireplies.drop(commentWTnews.index,inplace=True)\n",
    "\n",
    "print(f' nº de comentários no ireplies: {ireplies.index.size}')"
   ]
  },
  {
   "cell_type": "code",
   "execution_count": 21,
   "id": "interested-medication",
   "metadata": {},
   "outputs": [
    {
     "name": "stdout",
     "output_type": "stream",
     "text": [
      "<class 'pandas.core.frame.DataFrame'>\n",
      "Int64Index: 1068151 entries, 162478 to 646493\n",
      "Data columns (total 14 columns):\n",
      " #   Column                           Non-Null Count    Dtype  \n",
      "---  ------                           --------------    -----  \n",
      " 0   comment_id                       1068151 non-null  object \n",
      " 1   news_tweet_text                  1068151 non-null  object \n",
      " 2   comment_tweet_date               1068151 non-null  object \n",
      " 3   in_reply_to_news_id              1068151 non-null  int64  \n",
      " 4   comment_tweet_text               1068151 non-null  object \n",
      " 5   perspective_attack_on_author     1022560 non-null  float64\n",
      " 6   perspective_attack_on_commenter  1022560 non-null  float64\n",
      " 7   perspective_identity_attack      1022560 non-null  float64\n",
      " 8   perspective_inflammatory         1022560 non-null  float64\n",
      " 9   perspective_insult               1022560 non-null  float64\n",
      " 10  perspective_profanity            1022560 non-null  float64\n",
      " 11  perspective_severe_toxicity      1022560 non-null  float64\n",
      " 12  perspective_threat               1022560 non-null  float64\n",
      " 13  perspective_toxicity             1022560 non-null  float64\n",
      "dtypes: float64(9), int64(1), object(4)\n",
      "memory usage: 122.2+ MB\n"
     ]
    }
   ],
   "source": [
    "ireplies = ireplies.astype({'in_reply_to_news_id': int})\n",
    "ireplies.info()"
   ]
  },
  {
   "cell_type": "markdown",
   "id": "absolute-allocation",
   "metadata": {},
   "source": [
    "# 2. NewsItems"
   ]
  },
  {
   "cell_type": "code",
   "execution_count": 22,
   "id": "editorial-nightmare",
   "metadata": {},
   "outputs": [],
   "source": [
    "#items = pd.read_csv('NewsItems.csv', na_values = ['n\\a', 'na', 'None', 'NaN', '--', '.'])"
   ]
  },
  {
   "cell_type": "code",
   "execution_count": 23,
   "id": "pressing-venice",
   "metadata": {},
   "outputs": [
    {
     "name": "stdout",
     "output_type": "stream",
     "text": [
      "<class 'pandas.core.frame.DataFrame'>\n",
      "RangeIndex: 43305 entries, 0 to 43304\n",
      "Data columns (total 7 columns):\n",
      " #   Column           Non-Null Count  Dtype \n",
      "---  ------           --------------  ----- \n",
      " 0   news_id          43305 non-null  int64 \n",
      " 1   newsoutlet_id    43305 non-null  int64 \n",
      " 2   news_tweet_date  43305 non-null  object\n",
      " 3   news_url         43305 non-null  object\n",
      " 4   new_title        43232 non-null  object\n",
      " 5   news_date        27249 non-null  object\n",
      " 6   news_text        42780 non-null  object\n",
      "dtypes: int64(2), object(5)\n",
      "memory usage: 2.3+ MB\n"
     ]
    }
   ],
   "source": [
    "items.info()"
   ]
  },
  {
   "cell_type": "markdown",
   "id": "entire-portal",
   "metadata": {},
   "source": [
    "## Duplicados"
   ]
  },
  {
   "cell_type": "code",
   "execution_count": 24,
   "id": "crude-private",
   "metadata": {},
   "outputs": [
    {
     "data": {
      "text/plain": [
       "42753"
      ]
     },
     "execution_count": 24,
     "metadata": {},
     "output_type": "execute_result"
    }
   ],
   "source": [
    "# Eliminação de duplicados completos (todos os atributos)\n",
    "# 552 duplicados removidos\n",
    "items.drop_duplicates(inplace=True)\n",
    "\n",
    "len(items)"
   ]
  },
  {
   "cell_type": "code",
   "execution_count": 25,
   "id": "amazing-squad",
   "metadata": {},
   "outputs": [
    {
     "data": {
      "text/plain": [
       "False    42723\n",
       "True        30\n",
       "dtype: int64"
      ]
     },
     "execution_count": 25,
     "metadata": {},
     "output_type": "execute_result"
    }
   ],
   "source": [
    "items.duplicated(['news_id', 'newsoutlet_id']).value_counts()"
   ]
  },
  {
   "cell_type": "markdown",
   "id": "sonic-median",
   "metadata": {},
   "source": [
    "## Múltiplas notícias no mesmo tweet"
   ]
  },
  {
   "cell_type": "code",
   "execution_count": 26,
   "id": "burning-closer",
   "metadata": {},
   "outputs": [
    {
     "data": {
      "text/plain": [
       "47"
      ]
     },
     "execution_count": 26,
     "metadata": {},
     "output_type": "execute_result"
    }
   ],
   "source": [
    "len(items[items['news_id'].duplicated(keep=False) == True])"
   ]
  },
  {
   "cell_type": "code",
   "execution_count": 27,
   "id": "stainless-choir",
   "metadata": {},
   "outputs": [
    {
     "data": {
      "text/plain": [
       "1    42706\n",
       "3       13\n",
       "2        4\n",
       "Name: news_id, dtype: int64"
      ]
     },
     "execution_count": 27,
     "metadata": {},
     "output_type": "execute_result"
    }
   ],
   "source": [
    "items['news_id'].value_counts().value_counts()"
   ]
  },
  {
   "cell_type": "markdown",
   "id": "excellent-settle",
   "metadata": {},
   "source": [
    "**news_id** tem duplicados pois cada tweet pode ter várias notícias (**Decisão**: drop destes 47)"
   ]
  },
  {
   "cell_type": "code",
   "execution_count": 28,
   "id": "agricultural-operator",
   "metadata": {},
   "outputs": [
    {
     "data": {
      "text/plain": [
       "42706"
      ]
     },
     "execution_count": 28,
     "metadata": {},
     "output_type": "execute_result"
    }
   ],
   "source": [
    "dup_news = items['news_id'].value_counts() > 1\n",
    "dup_news_ids = dup_news.index[dup_news]\n",
    "\n",
    "# seleciona os items com várias notícias e remove do dataset a partir do índice\n",
    "dup_news_ids_idx = items[items.news_id.isin(dup_news_ids)].index\n",
    "items.drop(dup_news_ids_idx, inplace=True)\n",
    "\n",
    "len(items)"
   ]
  },
  {
   "cell_type": "markdown",
   "id": "induced-miller",
   "metadata": {},
   "source": [
    "## Notícias sem comentários associados"
   ]
  },
  {
   "cell_type": "code",
   "execution_count": 29,
   "id": "magnetic-dinner",
   "metadata": {},
   "outputs": [
    {
     "data": {
      "text/plain": [
       "news_id            10494\n",
       "newsoutlet_id      10494\n",
       "news_tweet_date    10494\n",
       "news_url           10494\n",
       "new_title          10493\n",
       "news_date           7951\n",
       "news_text          10204\n",
       "dtype: int64"
      ]
     },
     "execution_count": 29,
     "metadata": {},
     "output_type": "execute_result"
    }
   ],
   "source": [
    "# valores de news_ids(aka 'in_reply_to_news_id') no ireplies\n",
    "news_id_rep = ireplies['in_reply_to_news_id'].unique()\n",
    "\n",
    "# notícias (news_ids) que estão no items mas não estão no ireplies, i.e., não têm comentários associados\n",
    "news_notin_items = items[~items.news_id.isin(news_id_rep)]\n",
    "news_notin_items.count()"
   ]
  },
  {
   "cell_type": "code",
   "execution_count": 30,
   "id": "revolutionary-adams",
   "metadata": {},
   "outputs": [
    {
     "data": {
      "text/plain": [
       "True     32212\n",
       "False    10494\n",
       "Name: news_id, dtype: int64"
      ]
     },
     "execution_count": 30,
     "metadata": {},
     "output_type": "execute_result"
    }
   ],
   "source": [
    "items.news_id.isin(news_id_rep).value_counts()"
   ]
  },
  {
   "cell_type": "code",
   "execution_count": 31,
   "id": "opposed-vancouver",
   "metadata": {},
   "outputs": [
    {
     "data": {
      "text/plain": [
       "32212"
      ]
     },
     "execution_count": 31,
     "metadata": {},
     "output_type": "execute_result"
    }
   ],
   "source": [
    "# Apenas notícias com comentários\n",
    "items = items[items.news_id.isin(news_id_rep)]\n",
    "\n",
    "len(items)"
   ]
  },
  {
   "cell_type": "markdown",
   "id": "metropolitan-packaging",
   "metadata": {},
   "source": [
    "## News_text"
   ]
  },
  {
   "cell_type": "code",
   "execution_count": 32,
   "id": "humanitarian-midnight",
   "metadata": {},
   "outputs": [
    {
     "data": {
      "text/plain": [
       "About Your Privacy on this Site\\nWelcome! To bring you the best content on our sites and applications, Meredith partners with third party advertisers to serve digital ads, including personalized digital ads. Those advertisers use tracking technologies to collect information about your activity on our sites and applications and across the Internet and your other apps and devices.\\nYou always have the choice to experience our sites without personalized advertising based on your web browsing activity by visiting the DAA’s Consumer Choice page, the NAI's website, and/or the EU online choices page, from each of your browsers or devices. To avoid personalized advertising based on your mobile app activity, you can install the DAA’s AppChoices app here. You can find much more information about your privacy choices in our privacy policy. Even if you choose not to have your activity tracked by third parties for advertising services, you will still see non-personalized ads on our site.\\nBy clicking continue below and using our sites or applications, you agree that we and our third party advertisers can:\\ntransfer your personal data to the United States or other countries, and\\nprocess your personal data to serve you with personalized ads, subject to your choices as described above and in our privacy policy.\\nEU Data Subject Requests                                                                                                                                                                                                                                                                                                                                                                                                                                                                                                                                                                                                                                                                                                                                                                                                                                                                                                                                                                                                                                                                                                                                                                                                                                                                                                                                                                                                                                                                                                                                                                                                                                                                                                                                                                                                                                                                                                                                                                                                                                                                                                                                                                                                                                                                                                                                                                                                                                                                                                                                                                                                                                                                                                                                                                                                                                                                                                                                                                                                                                                                                                                                                                                                                                                                                                                                                                                                                                                                                                                                                            1035\n",
       "We use cookies to give you the best experience. If you do nothing we'll assume that it's ok.                                                                                                                                                                                                                                                                                                                                                                                                                                                                                                                                                                                                                                                                                                                                                                                                                                                                                                                                                                                                                                                                                                                                                                                                                                                                                                                                                                                                                                                                                                                                                                                                                                                                                                                                                                                                                                                                                                                                                                                                                                                                                                                                                                                                                                                                                                                                                                                                                                                                                                                                                                                                                                                                                                                                                                                                                                                                                                                                                                                                                                                                                                                                                                                                                                                                                                                                                                                                                                                                                                                                                                                                                                                                                                                                                                                                                                                                                                                                                                                                                                                                                                                                                                                                                                                                                                                                                                                                                                                                                                                                                                                                                                                                                                                                                                                                                                                                119\n",
       "External links are provided for reference purposes. ABC News is not responsible for the content of external Internet sites.\\nCopyright © 2019 ABC News Internet Ventures. Yahoo! - ABC News Network                                                                                                                                                                                                                                                                                                                                                                                                                                                                                                                                                                                                                                                                                                                                                                                                                                                                                                                                                                                                                                                                                                                                                                                                                                                                                                                                                                                                                                                                                                                                                                                                                                                                                                                                                                                                                                                                                                                                                                                                                                                                                                                                                                                                                                                                                                                                                                                                                                                                                                                                                                                                                                                                                                                                                                                                                                                                                                                                                                                                                                                                                                                                                                                                                                                                                                                                                                                                                                                                                                                                                                                                                                                                                                                                                                                                                                                                                                                                                                                                                                                                                                                                                                                                                                                                                                                                                                                                                                                                                                                                                                                                                                                                                                                                                          66\n",
       "What term do you want to search? Search with google                                                                                                                                                                                                                                                                                                                                                                                                                                                                                                                                                                                                                                                                                                                                                                                                                                                                                                                                                                                                                                                                                                                                                                                                                                                                                                                                                                                                                                                                                                                                                                                                                                                                                                                                                                                                                                                                                                                                                                                                                                                                                                                                                                                                                                                                                                                                                                                                                                                                                                                                                                                                                                                                                                                                                                                                                                                                                                                                                                                                                                                                                                                                                                                                                                                                                                                                                                                                                                                                                                                                                                                                                                                                                                                                                                                                                                                                                                                                                                                                                                                                                                                                                                                                                                                                                                                                                                                                                                                                                                                                                                                                                                                                                                                                                                                                                                                                                                          52\n",
       "External links are provided for reference purposes. ABC News is not responsible for the content of external Internet sites.\\nCopyright © 2018 ABC News Internet Ventures. Yahoo! - ABC News Network                                                                                                                                                                                                                                                                                                                                                                                                                                                                                                                                                                                                                                                                                                                                                                                                                                                                                                                                                                                                                                                                                                                                                                                                                                                                                                                                                                                                                                                                                                                                                                                                                                                                                                                                                                                                                                                                                                                                                                                                                                                                                                                                                                                                                                                                                                                                                                                                                                                                                                                                                                                                                                                                                                                                                                                                                                                                                                                                                                                                                                                                                                                                                                                                                                                                                                                                                                                                                                                                                                                                                                                                                                                                                                                                                                                                                                                                                                                                                                                                                                                                                                                                                                                                                                                                                                                                                                                                                                                                                                                                                                                                                                                                                                                                                          37\n",
       "                                                                                                                                                                                                                                                                                                                                                                                                                                                                                                                                                                                                                                                                                                                                                                                                                                                                                                                                                                                                                                                                                                                                                                                                                                                                                                                                                                                                                                                                                                                                                                                                                                                                                                                                                                                                                                                                                                                                                                                                                                                                                                                                                                                                                                                                                                                                                                                                                                                                                                                                                                                                                                                                                                                                                                                                                                                                                                                                                                                                                                                                                                                                                                                                                                                                                                                                                                                                                                                                                                                                                                                                                                                                                                                                                                                                                                                                                                                                                                                                                                                                                                                                                                                                                                                                                                                                                                                                                                                                                                                                                                                                                                                                                                                                                                                                                                                                                                                                                           ... \n",
       "Breaking News Emails Get breaking news alerts and special reports. The news and stories that matter, delivered weekday mornings.\\nBy David K. Li\\nAccused drug lord Joaquin \"El Chapo\" Guzman kept a close eye on the women in his life, including by installing spyware on phones of his wife and mistress, a witness claimed at Guzman's trial in New York on Wednesday.\\nProsecutors in Brooklyn federal court introduced as evidence text messages that Guzman exchanged with his wife, Emma Coronel Aispuro, and a woman who apparently was his girlfriend, Agustina Cabanillas.\\nFBI special agent Steven Marston told the court that investigators found the messages through spying software Guzman had ordered installed on Coronel and Cabanillas' cellphones.\\nGuzman is on trial for trafficking cocaine, heroin and other drugs into the country as leader of Mexico’s Sinaloa Cartel.\\nBefore his extradition to the United States, he had engineered two daring prison escapes, including his 2001 breakout from a maximum-security prison in Jalisco, Mexico, leading to more than a decade of freedom.\\nGuzman and his wife apparently often chatted about the dangers of running a drug cartel, with Coronel worrying she was being watched by police, according to text messages that prosecutors presented to jurors.\\nGuzman texted to her “vivir una vida normal” — to just lead a normal life, according to the government's evidence.\\nCoronel sat passively in the gallery but seemed slightly uncomfortable when the government showed chats between Guzman and his apparent mistress Cabanillas.\\nThe girlfriend appeared to help Guzman negotiate business deals and referred to him as “amor,” or my love, in texts shown to jurors.\\nGuzman narrowly escaped being recaptured one day in 2012, as he recounted in a text message to his wife.\\n\"It all happened very fast,\" Guzman wrote, according to prosecutors. \"I saw them pounding on the door next door, but was able to jump out.\"\\nThe drug kingpin said he needed a change of clothes and black dye for his mustache.\\n\"I love you, love,\" he wrote. \"Talk to you soon.\"\\nThe wife responded: \"I hope so darling.\"\\nIn another text exchange, Guzman and his wife gushed over their twin daughters, Emmely \"Mali\" and Maria Joaquina \"Kiki\" Coronel. The girls were about 18 months old at the time.\\n\"Our Kiki is fearless,\" he texted Coronel. \"I'm going to give her an AK-47 so she can hang with me.\"                                                                                                                                                                                                                                                                                                                                                                                                                                                                                                                                                                                                                                                                                                                                                                                                                                                                                                                                                                                                                                                                                                                                                                                                                                                                                                                                                                                                                                                                                                                                                                                                                                                                                                                                                                                                                                                                                                                                                                                                                                                                                                                                                                                                                                                                                                                                                                                                                                                            1\n",
       "Breaking News Emails Get breaking news alerts and special reports. The news and stories that matter, delivered weekday mornings.\\n/ Updated By Minyvonne Burke and Nicole Duarte\\nA 2-year-old child who slipped and fell into a rhino exhibit Tuesday at a Florida zoo was rushed to a hospital after coming into contact with one of the animal's snouts, zoo officials said.\\nThe child, whose condition isn't immediately clear, was taken to Arnold Palmer Hospital for Children.\\nThe child’s mother was taken to Orlando Regional medical center with \"non-critical injuries\" to her arm, Brevard County Fire Rescue department said in a tweet.\\nThe incident happened at the Brevard Zoo in Melbourne during a hands-on, educational experience called a Rhino Encounter, according to a statement from zoo spokesperson Elliot Zirulnik. Each session, led by a zookeeper, lasts about 20 minutes and is open to guests ages 3 and up, according to its website.\\n\"During the encounter, participants and the rhinoceroses are separated by a series of steel poles. According to witnesses, the child stumbled and fell in between two of the poles and at this point, the snout of at least one of rhinoceroses made contact with the child,\" according to the statement.\\nThe zoo, which houses more than 900 animals, has hosted the Rhino Encounter since 2009, the statement said. Keith Winsten, the executive director of the zoo, said in a statement that it would be suspended until they have “thoroughly reviewed our processes and procedures to ensure this cannot happen again.”\\n“Our number one concern is the safety and welfare of our guests and our hearts go out to the family,” he said.\\nThe incident comes days after 22-year-old Alexandra Black was killed in a lion attack at a zoo in North Carolina. Black was an intern at the Conservators Center in Burlington and was cleaning an animal enclosure when the lion escaped from a locked gate, officials said.                                                                                                                                                                                                                                                                                                                                                                                                                                                                                                                                                                                                                                                                                                                                                                                                                                                                                                                                                                                                                                                                                                                                                                                                                                                                                                                                                                                                                                                                                                                                                                                                                                                                                                                                                                                                                                                                                                                                                                                                                                                                                                                                                                                                                                                                                                                                                                                                                                                                                                                                                                                                                                                                                                                                                                                                                                                                                                                                                     1\n",
       "A few years ago, we stayed in a cottage in the Yorkshire Dales. One night, we went for a drink in the local. It was plastered inside and out with union jacks. The moment I saw the flags, the hairs on my neck stood up. Anyone black or Asian who had grown up in 70s and 80s Britain would probably have felt the same. The union jack in those days was a sign, meaning: “Beware, fascists around”.\\nLittondale in the 2010s is, of course, a very different place from east London in the 1980s and the meaning of the union jack very different too. The pub was welcoming and friendly and we returned there more than once. And yet I know that the next time I see a pub plastered with union jacks, the hairs of my neck once more will stand up.\\nSigns and symbols are essential to our lives, helping us navigate the social world and allowing us to link outward appearance to some inner essence or truth. They provide a means of signalling who we are and what we stand for. It’s why we wear badges and ribbons, why many Jewish men wear the kippa and some Muslim women the hijab.\\nThe way we read signs, and the meanings we attribute to them, is not necessarily rational, as my response to the union jacks expressed. Personal experience has embedded in me a reflexive response to a particular sign.\\nThe distortion in the way people interpret social signs can be profoundly damaging. Racism attributes to surface markers a pernicious deeper meaning. To a racist, a black skin can be a sign of threat or of inferiority, an immigrant, a signal of social degradation.\\nAbusive views were stitched into the Brexit debate long before far-right idiots in yellow jackets hijacked College Green\\nIn a recent essay, the Conservative activist Graeme Archer suggested that we live today in an “age of semiotics” in which signs have become both all-important and peculiarly distorted. Signs have become “tribalised” and “the deconstruction of signs… has become our chief political diagnostic”. There is truth to this. Consider the Brexit debate. The hostility and harassment faced by the Tory Remainer Anna Soubry dominated much discussion over the past week. “This is what has happened to our country,” Soubry observed in the infamous interview on London’s College Green drowned out by chants of “Soubry is a Nazi”. She was right, though perhaps not quite in the way she meant.\\nIt’s not, as Soubry seemed to suggest, that the Brexit debate has created a tribalised Britain in which people with whom you disagree become fair game to be harassed and denounced as Nazis. Rather, it is that a more tribalised Britain has meant that the Brexit debate is inevitably now seen in tribal terms.\\nAbusive views of opponents were stitched into the Brexit debate long before far-right idiots in yellow jackets hijacked College Green. Almost from the beginning, Remainers dismissed Brexiters as ignorant and racist. Brexiters denounced Remainers as traitors and enemies of the people. No doubt, on reading this, both sides will insist: “Yes, but we’re right and they’re wrong.”\\nOne way in which people try to make sense of this is in the observation that we are living in a more polarised society. A divided Britain is not, however, anything new. The miners’ strike of 1984-85 created far greater social instability than anything we are witnessing today. In 1926, the General Strike led the prime minister, Stanley Baldwin, to claim that union leaders were “threatening the basis of ordered government, and going nearer to proclaiming civil war than we have been for centuries past”.\\nMPs raise safety fears with police after Anna Soubry subjected to 'Nazi’ chants Read more\\nWhat is peculiar today is not polarisation itself, but the manner of division. In the past, the distinction between left and right gave people a means of making sense of social divisions. That distinction no longer provides a useful compass for today’s political landscape. In the past, movements for social change helped shape peoples’ ideals and gave meaning to national fault lines. Today’s polarisation is disconnected from any such movements, making divisions appear more arbitrary and more intractable.\\nToday, British politics seems simultaneously to be chaotic and immovable. The Brexit process has exposed a fragmented political class with few ideas, seemingly unable to govern the nation. Yet public attitudes have barely changed towards Brexit. And, for all the disasters faced by the Tory party, Labour has been unable to take advantage. Britain is socially polarised, yet politically paralysed. As a result, politics skates largely on the surface. It is this degradation of politics that has made signs all-important. They are what’s left and what we polarise around.\\n• Kenan Malik is an Observer columnist       1\n",
       "Get daily news updates directly to your inbox Subscribe Thank you for subscribing We have more newsletters Show me See our privacy notice Could not subscribe, try again later Invalid Email\\nThe dad of murdered toddler James Bulger has slammed the producers of a film about his son’s killing for not telling the family.\\nRalph Bulger branded Detainment, which has been tipped as a potential Oscar winner, “offensive” and claimed it was too sympathetic to the pair who attacked his boy in 1993.\\nThe 30-minute drama is based on police interviews with Jon Venables and Robert Thompson, who were both 10 when they kidnapped and murdered two-year-old James.\\nRalph, 52, said: “Not once has the maker of this film contacted me or any of James’s family about this film.\\n“It has been 26 years since my son was taken and murdered and so I have seen many documentaries and news stories about him.\\n“But I have never been so cut up and offended by something that shows so little compassion to James and his family.\\n“I accept this is a murder of such magnitude it will always be written about and featured in the news but to make a film so ­sympathetic to James’s killers is devastating.\\n(Image: PA)\\n“He may consider it to be in the public domain but he is making films and a career from the murder of my son. The very least he could have done was to contact us and let us know what he was planning.\\n“It will be horrific if this film wins an Oscar or any awards, given the disregard shown to James’s family.”\\nFormer police chief Albert Kirby, who led the investigation into the murder, agreed with Ralph.\\nHe said: “I think it lacks any form of taste or decency and has been made without any consideration of the effect on Denise [Fergus, James’s mum], the family and also any number of other people who were involved in the sensitive issues of the ­investigation.”\\nDirector Vincent Lambe admitted last week he did not contact Ralph or Denise , 51, before releasing the film last year. He said: “I think they wouldn’t want a film like this to be made.”\\n(Image: Getty Images)\\nBut the 38-year-old defended his take on the movie about Venables and Thompson, believed to the first drama about the killing.\\nHe told Good Morning Britain: “A lot of people might feel it’s wrong to humanise those boys but I think if people can’t accept the fact that they were human beings they will never be able to begin to ­understand what could have driven them to commit such a crime.\\nAnd the only way to prevent something like this happening again in the future is to understand the cause of it.”\\nDetainment was released last year and shown at a number of European film festivals.\\nIt won the Don Quixote Award at the Krakow Film Festival and is on the Academy Awards shortlist for best Live Action Short Film after scooping best ­International Film at Odense in Denmark last August.\\nIn June it received a standing ovation at the Young Directors Award Ceremony in Cannes.\\n(Image: Billy Griffiths)\\nMr Lambe said at the time: ­“Detainment is a film about ­something very sensitive which divides public opinion, but I think people should remember that while the film is factual, it really just gives a brief glimpse of one aspect of the case.\\n“There is a much wider story there and it is a heartbreaking one. It’s impossible to show the unimaginable pain of James Bulger’s family in the space of a short film.\\n“I would hope that audiences would be left wanting to know more and start researching the case for themselves. And if it sparks a debate, then that’s probably a good thing.”\\nBut Ralph said: “If the film maker had done his homework he would see he brings nothing new to the table other than a macabre fascination and obsession about James’ murder.”\\nThe youngster was killed after being lured away from a shopping centre in Bootle, Merseyside, by Thompson and Venables.\\nThe pair were convicted the same year and granted lifelong anonymity when released from prison aged 18.\\nVenables, now 36, has since been jailed twice for child porn offences.\\nHe is played by actor Ely Solan and Leon Hughes portrays Thompson.                                                                                                                                                                                                                                                                                                                                                                                                                                                                                                                                                                                                                                                                                  1\n",
       "AN Egyptian woman has been jailed for three years for \"sexually harassing\" a monkey.\\nCops made the arrest after a bizarre clip of an adult tickling a monkey's private parts at a pet shop went viral.\\nFacebook 3 Basma Ahmed has been jailed for 'sexually harassing' a monkey\\nBasma Ahmed is seen laughing while making sexual innuendos to bystanders as she touches the helpless animal.\\nState daily Al-Ahram reported that Basma Ahmed \"confessed... to the incident but said she did not mean to commit an indecent act and that she had been tickling the monkey\".\\nShe was first arrested in October after the thousands of people viewed the 90-second video on social media, sparking a backlash in the conservative country.\\nAccording to Stepfeed, Ahmed was initially detained for four days but the period was increased to 15 days for further investigation and she was yesterday sentenced for \"inciting immorality\".\\nFacebook 3 The footage sparked outrage in the conservative country\\nFacebook 3 Defendant Basma Ahmed said she was unaware the episode had been captured on camera\\nMOST READ NEWS krokked Rotten flesh, pus-filled sores & painful death - the Krokodil craze hitting UK Latest MARGATE 'MURDERS' Mum, 37, pictured holding 23-month-old twins she is accused of murdering TIME'S UP Britain set to SCRAP changing of the clocks after EU rule change - despite Brexit THE BEAST IS BACK Britain braced for new 'Beast from the East' as Met Office warns of snow TORTURE TORMENT Boyfriend ‘10 days from death’ after being starved & stabbed by girlfriend MURDER RAP Mum Samantha Ford charged with murder over deaths of twin tots in Margate\\nThe defendant claimed she did not know how the incident had ended up on social media after a friend filmed the episode in Mansoura, Dakahlia, on her mobile phone.\\nOfficials said that Ahmed is not a first-time offender and has previously been charged with two other \"public moral\" cases.\\nUnder Egyptian president Abdel Fattah el-Sisi laws were recently passed to regulate media and women’s rights as the former military leader consolidates power.\\nWe pay for your stories! Do you have a story for The Sun Online news team? Email us at tips@the-sun.co.uk or call 0207 782 4368 . You can WhatsApp us on 07810 791 502. We pay for videos too. Click here to upload yours.                                                                                                                                                                                                                                                                                                                                                                                                                                                                                                                                                                                                                                                                                                                                                                                                                                                                                                                                                                                                                                                                                                                                                                                                                                                                                                                                                                                                                                                                                                                                                                                                                                                                                                                                                                                                                                                                                                                                                                                                                                                                                                                                                                                                                                                                                                                                                                                                                                                                                                                                                                   1\n",
       "Name: news_text, Length: 23940, dtype: int64"
      ]
     },
     "execution_count": 32,
     "metadata": {},
     "output_type": "execute_result"
    }
   ],
   "source": [
    "items['news_text'].value_counts()"
   ]
  },
  {
   "cell_type": "markdown",
   "id": "solar-preservation",
   "metadata": {},
   "source": [
    "As notícias que aparecem mais que 27 vezes eram todas \"spam\", nas restantes havia notícias que eram mesmo notícias."
   ]
  },
  {
   "cell_type": "code",
   "execution_count": 33,
   "id": "retired-february",
   "metadata": {},
   "outputs": [
    {
     "data": {
      "text/plain": [
       "32212"
      ]
     },
     "execution_count": 33,
     "metadata": {},
     "output_type": "execute_result"
    }
   ],
   "source": [
    "len(items)"
   ]
  },
  {
   "cell_type": "code",
   "execution_count": 34,
   "id": "dying-stage",
   "metadata": {},
   "outputs": [
    {
     "data": {
      "text/plain": [
       "30809"
      ]
     },
     "execution_count": 34,
     "metadata": {},
     "output_type": "execute_result"
    }
   ],
   "source": [
    "num_newstext=items['news_text'].value_counts()\n",
    "ntmoreone = num_newstext > 27\n",
    "ntmoreoneb = ntmoreone.index[ntmoreone]\n",
    "\n",
    "#indices das notícias com texto presente em mais de 27 notíxias\n",
    "ntmoreonec = items[items.news_text.isin(ntmoreoneb)].index\n",
    "items.drop(ntmoreonec, inplace=True)\n",
    "\n",
    "len(items)"
   ]
  },
  {
   "cell_type": "code",
   "execution_count": 35,
   "id": "warming-application",
   "metadata": {},
   "outputs": [
    {
     "data": {
      "text/plain": [
       "Highlighting the efforts of some of the country's best teachers, professors, instructors, coaches and principals, who take their job to another level to help a new generation of Americans.\\n1:40                                                                                                                                                                                                                                                                                                                                                                                                                                                                                                                                                                                                                                                                                                                                                                                                                                                                                                                                                                                                                                                                                                                                                                                                                                                                                                                                                                                                                                                                                                                                                                                                                                                                                                                                                                                                                                                                                                                                                                                                                                                                                                                                                                                                                                                                                                                                                                                                                                                                                                                                                                                                                                                                                                                                                                                                                                                                                                                                                                                                                                                                                                                                                                                                                                                                                                                                                                                                                                                                                                                                                                                                                                                                                                                                                                                                                                                                                                                                                                                                                                                                                                                                                                                                                                                                                                                                                                                                                                                                                                                                                                                                                                                                                                                                                                                                                                                                                                                                                                                                                                                                                                                                                                                                                                                                                                                                                         22\n",
       "You would think by now that people would have learned to act respectfully around service dogs and their handlers, but sadly this doesn’t always seem to be the case.\\nWhile it is tempting to want to go up and pet them, it is important that service dogs are not distracted while working and can maintain focus on their handler.\\nBut one woman became enraged after being told her daughter couldn’t pat a group of service dogs in a mall in Pittsburgh.\\nThe mum was dubbed \"Service Dog Sally” after a video of the incident went viral, with over eight million views.\\nMegan Stoff, the handler who posted the clip to Facebook, said that the woman had originally walked away after being told she couldn’t touch the dogs, but came back moments later to criticise the way the situation was handled.\\nShe wrote:\\nThis lady went out of her way to come back with her child and yell at us for saying ‘no’ and for not saying, ‘no I’m sorry they’re training'... Entitlement these days is real. They even got mall security because we said they couldn’t pet the working dog.\\nWhile at least one of the dogs in the video is seen to be clearly labelled as a service animal, the woman can be heard arguing that the handlers should have signage warning people not to touch them.\\nStoff then tells the woman:\\nIt literally says ‘do not pet’ on every single dog . There's like four signs.\\nThe woman finally ends her rant by insisting it is “illegal” to film her and that she will call her lawyer.\\nSigh.\\nvia GIPHY\\nMore: Woman dumps her cheating boyfriend in savage speech at birthday party                                                                                                                                                                                                                                                                                                                                                                                                                                                                                                                                                                                                                                                                                                                                                                                                                                                                                                                                                                                                                                                                                                                                                                                                                                                                                                                                                                                                                                                                                                                                                                                                                                                                                                                                                                                                                                                                                                                                                                                                                                                                                                                                                                                                                                                                                                                                                                                                                                                                                                                                                                                                                                                                                                                                                                                                                                                                                                                                                                                                                                                                                                                                                                                                                                                                                                                                                                                                                                                                                                                                                                                                                                                                                                                                                                                                                                                                                                                           21\n",
       "We really hate to say but it's time to talk about the B-word. That's right, (whispers)... B.R.E.X.I.T.\\nExpect we're not going to talk about chaos and the shambles surrounding it as, to be honest, its impossible to maintain a grasp of everything that's going on at the moment.\\nWhile its Christmas, it's unlikely that you'll want to bring up the subject with your grandparents as you tuck into your Christmas dinner, but it is possible that they will enjoy a few jokes about Britain's ever-stalling exit from the European Union.\\nFeel free to use any of these if an argument breaks out about the single market. Thank us later.\\n1.\\nHello, I am from Britain, you know, the one that got tricked by a bus — Ahir Shah (@AhirShah) February 8, 2017\\n2.\\nThey know they've depicted a literal cliff edge, right? #1yrArticle50 pic.twitter.com/K3u5gP1j63 — Robert Perry is often called Pez (@pez_sez) March 29, 2018\\n3.\\nHappy Countdown to the Countdown to Brexit Day. Basically like the shittest birthday you've ever had. — Sathnam Sanghera (@Sathnam) March 29, 2018\\n4.\\nWelcome to the future. pic.twitter.com/8U3DgI4kgF — David Baddiel (@Baddiel) March 29, 2017\\n5.\\nScroll down for some positive #Brexit news!!\\n.\\n.\\n.\\n.\\n.\\n.\\n.\\n.\\n.\\n.\\n.\\n.\\n.\\n.\\n.\\n.\\n.\\n.\\n.\\n.\\n.\\n.\\n.\\n.\\n.\\n.\\n.\\n.\\n.\\n.\\n.\\n.\\n.\\n.\\n.\\n.\\n.\\nKeep going...\\n.\\n.\\n.\\n.\\n.\\n.\\n.\\n.\\n.\\n.\\n.\\n.\\n.\\n.\\n.\\n.\\n.\\n.\\n.\\n.\\n.\\n.\\n.\\n.\\n.\\n.\\n.\\n.\\n.\\n.\\n.\\n.\\n.\\n.\\n.\\n.\\n.\\n.\\n.\\n.\\nWhat, you didn't seriously expect to see some did you? #StopBrexit — Woo (@jonnywoo34) March 28, 2018\\n6.\\nAn Englishman, a Scotsman and an Irishman walk into a bar.\\nThe Englishman wanted to go so they all had to leave. #Brexitjokes — Son of Robespierre #CampaignAgainstBrexit #FBPE (@sonofr) September 8, 2017\\n7.\\n8.\\nWhy do we need any colour passport? We should just be able to shout, “British! Less of your nonsense!” and stroll straight through. — Simon Blackwell (@simonblackwell) December 22, 2017\\n9.\\n10.\\n\"Wow this passport's fancy. Must have some kickass features. How many countries do you have the right to work in on this bad boy?\"\\n\"1\"\\n\"Huh. Still, blue though... Pretty fucking snazzy.\" pic.twitter.com/DrB14V2XI8 — James Felton (@JimMFelton) December 22, 2017\\n11.\\nHow will Christmas dinner be different after Brexit? No Brussels.\\n12.\\nAfter #brexit, when rapper 50 cent performs in GBR he'll appear as 10.000 pounds. #brexitjokes — Fredrik Reuter (@fredrik_reuter) June 25, 2016\\n13.\\nBrexit was like the UK got drunk and accidentally unfriended Europe on Facebook\\n- Leo Karse\\n14.\\nBond films to last 30% longer with scenes of his passport being more heavily scrutinised between exotic European locales. — Jingle Ben (@0point5twins) June 25, 2016\\n15.\\nWhy does Britain like tea so much? Because tea leaves.\\n16.\\nMy pitch for what should be written on the back of the Brexit 50p pic.twitter.com/I6aiSdAhdA — TechnicallyRon (@TechnicallyRon) October 29, 2018\\n17.\\nHow many Brits does it take to change a light bulb? None. The Brits are too busy screwing themselves.\\n18.\\nTheresa May writes Brexit letter to the EU. pic.twitter.com/YGhVeUDLW6 — Rossalyn Warren (@RossalynWarren) March 28, 2017\\n19.\\n\"I had to trigger Article 50. It would have been too embarrassing otherwise.\"\\n\"So you're going to leave the EU... out of embarrassment?\" pic.twitter.com/GplKt8VwLk — Scott Innes (@Flying_Inside) March 29, 2017\\n20.\\nSeven privileged wealthy late middle aged white men sitting in front of a collapsing sign saying \"Global Britain.\" Well that's me sold. #ERG pic.twitter.com/6jAh8zFiKH — Otto English (@Otto_English) November 20, 2018\\n21.\\nA Remainer pretending to support Leave debating a Leaver who pretended to support Remain. Politics as performance art. pic.twitter.com/qL7qvnldcN — Jo Maugham QC (@JolyonMaugham) November 25, 2018\\n22.\\nWhat did Britain say to its trade partners? See EU later\\n23.\\nNo vote tomorrow and Theresa May going back to the EU to renegotiate the deal.\\n\\nWow! This first season of Brexit has been full of surprises.\\n\\nSoooooo looking forward to the season finale on March 29th.#mustseeTV#ResignTheresaMay #Brexit — Meat Bag (@nsg666) December 10, 2018\\n24.\\nI love Gina Miller but this looks like a promo shot for a new RTE/BBC NI remake of The Bridge. I'd watch. https://t.co/I8W5w35iGb — A Gay In A Manger🎄 (@Donnan_S) October 5, 2018\\n25.\\nBrexit is having a wee in the middle of the room at a house party because nobody is talking to you, and then complaining about the smell.\\n- Matt Abbott\\n26.\\nVOTERS: we want to give a boat a ridiculous name\\nUK: no\\nVOTERS: we want to break up the EU and trash the world economy\\nUK: fine — the library haunter 🦉🎄❄ (@SketchesbyBoze) June 24, 2016\\n27.\\nThe bastards who got us in to bastard mess are now calling each other bastards. https://t.co/HE36MPUlnL — Jay Rayner (@jayrayner1) December 12, 2018\\n28.\\nHere’s a list of David Davis’ accomplishments whilst a minister.\\n\\n1... His resignation. — Paul Bernal (@PaulbernalUK) July 9, 2018\\n29.\\nI voted Remain, not just for political reasons but because my mum’s moved to Spain and I want her to stay there.\\n- Leo Kearse\\n30.\\nQ: With Britain leaving the EU how much space was created?\\nA: Exactly 1GB — Chris Saint (@saintpiercing) June 25, 2016\\nMore: Leave voter breaks down on live radio and apologises for backing Brexit​    21\n",
       "Twitter is where you go to see some of the most epic burns in the history of burns.\\nWhether it's people shutting down Donald Trump or JK Rowling destroying someone within an inch of their life, it's always fun to see someone dragged for their clueless comments.\\nFor one of the best burns in the history of Twitter, allow us to take you back in time to August 15, 2016, and a response to a tweet about climate change posted by the astrophysicists, Katie Mack.\\nHonestly climate change scares the heck out of me and it makes me so sad to see what we're losing because of it. — Katie Mack (@AstroKatie) August 15, 2016\\nThat's a fair enough assessment of the situation, which has only gotten worse in the years since Mack posted that tweet.\\nStill, somewhere from the depths of Twitter, a climate change denier emerged and to make that even more unbearable, it was a mansplainer who told her to \"learn some actual science\".\\nMaybe you should learn some actual SCIENCE then, and stop listening to the criminals pushing the #GlobalWarming SCAM! — Gary P Jackson #Conservative (@gary4205) August 15, 2016\\nGary Jackson, bless him, obviously didn't do much research into who Mack was before posting the comment, as even the dimmest person would realise that an astrophysicist would have to know a thing or two about science.\\nFortunately for Gary, Mack broke the news to him gently.\\nI dunno, man, I already went and got a PhD in astrophysics. Seems like more than that would be overkill at this point. — Katie Mack (@AstroKatie) August 16, 2016\\nThis legendary burn was so good it even prompted some hilarious reactions.\\nHT Someecards\\nMore: Trump ally believes climate change isn't real because Venus 'is still there'                                                                                                                                                                                                                                                                                                                                                                                                                                                                                                                                                                                                                                                                                                                                                                                                                                                                                                                                                                                                                                                                                                                                                                                                                                                                                                                                                                                                                                                                                                                                                                                                                                                                                                                                                                                                                                                                                                                                                                                                                                                                                                                                                                                                                                                                                                                                                                                                                                                                                                                                                                                                                                                                                                                                                                                                                                                                                                                                                                                                                                                                                                                                                                                                                                                                                                                                                                                                                                                                                                                                                                                                                                                                                                                                                                        20\n",
       "Enter your email address\\nContinue\\nContinue\\nPlease enter an email address\\nEmail address is invalid\\nFill out this field\\nEmail address is invalid\\nEmail cannot be used. Try another\\nRegister with your social account or click here to log in                                                                                                                                                                                                                                                                                                                                                                                                                                                                                                                                                                                                                                                                                                                                                                                                                                                                                                                                                                                                                                                                                                                                                                                                                                                                                                                                                                                                                                                                                                                                                                                                                                                                                                                                                                                                                                                                                                                                                                                                                                                                                                                                                                                                                                                                                                                                                                                                                                                                                                                                                                                                                                                                                                                                                                                                                                                                                                                                                                                                                                                                                                                                                                                                                                                                                                                                                                                                                                                                                                                                                                                                                                                                                                                                                                                                                                                                                                                                                                                                                                                                                                                                                                                                                                                                                                                                                                                                                                                                                                                                                                                                                                                                                                                                                                                                                                                                                                                                                                                                                                                                                                                                                                                                                                                                                                         19\n",
       "                                                                                                                                                                                                                                                                                                                                                                                                                                                                                                                                                                                                                                                                                                                                                                                                                                                                                                                                                                                                                                                                                                                                                                                                                                                                                                                                                                                                                                                                                                                                                                                                                                                                                                                                                                                                                                                                                                                                                                                                                                                                                                                                                                                                                                                                                                                                                                                                                                                                                                                                                                                                                                                                                                                                                                                                                                                                                                                                                                                                                                                                                                                                                                                                                                                                                                                                                                                                                                                                                                                                                                                                                                                                                                                                                                                                                                                                                                                                                                                                                                                                                                                                                                                                                                                                                                                                                                                                                                                                                                                                                                                                                                                                                                                                                                                                                                                                                                                                                                                                                                                                                                                                                                                                                                                                                                                                                                                                                                                                                                                                                           ..\n",
       "Get daily news updates directly to your inbox Subscribe Thank you for subscribing We have more newsletters Show me See our privacy notice Could not subscribe, try again later Invalid Email\\nThe dad of murdered toddler James Bulger has slammed the producers of a film about his son’s killing for not telling the family.\\nRalph Bulger branded Detainment, which has been tipped as a potential Oscar winner, “offensive” and claimed it was too sympathetic to the pair who attacked his boy in 1993.\\nThe 30-minute drama is based on police interviews with Jon Venables and Robert Thompson, who were both 10 when they kidnapped and murdered two-year-old James.\\nRalph, 52, said: “Not once has the maker of this film contacted me or any of James’s family about this film.\\n“It has been 26 years since my son was taken and murdered and so I have seen many documentaries and news stories about him.\\n“But I have never been so cut up and offended by something that shows so little compassion to James and his family.\\n“I accept this is a murder of such magnitude it will always be written about and featured in the news but to make a film so ­sympathetic to James’s killers is devastating.\\n(Image: PA)\\n“He may consider it to be in the public domain but he is making films and a career from the murder of my son. The very least he could have done was to contact us and let us know what he was planning.\\n“It will be horrific if this film wins an Oscar or any awards, given the disregard shown to James’s family.”\\nFormer police chief Albert Kirby, who led the investigation into the murder, agreed with Ralph.\\nHe said: “I think it lacks any form of taste or decency and has been made without any consideration of the effect on Denise [Fergus, James’s mum], the family and also any number of other people who were involved in the sensitive issues of the ­investigation.”\\nDirector Vincent Lambe admitted last week he did not contact Ralph or Denise , 51, before releasing the film last year. He said: “I think they wouldn’t want a film like this to be made.”\\n(Image: Getty Images)\\nBut the 38-year-old defended his take on the movie about Venables and Thompson, believed to the first drama about the killing.\\nHe told Good Morning Britain: “A lot of people might feel it’s wrong to humanise those boys but I think if people can’t accept the fact that they were human beings they will never be able to begin to ­understand what could have driven them to commit such a crime.\\nAnd the only way to prevent something like this happening again in the future is to understand the cause of it.”\\nDetainment was released last year and shown at a number of European film festivals.\\nIt won the Don Quixote Award at the Krakow Film Festival and is on the Academy Awards shortlist for best Live Action Short Film after scooping best ­International Film at Odense in Denmark last August.\\nIn June it received a standing ovation at the Young Directors Award Ceremony in Cannes.\\n(Image: Billy Griffiths)\\nMr Lambe said at the time: ­“Detainment is a film about ­something very sensitive which divides public opinion, but I think people should remember that while the film is factual, it really just gives a brief glimpse of one aspect of the case.\\n“There is a much wider story there and it is a heartbreaking one. It’s impossible to show the unimaginable pain of James Bulger’s family in the space of a short film.\\n“I would hope that audiences would be left wanting to know more and start researching the case for themselves. And if it sparks a debate, then that’s probably a good thing.”\\nBut Ralph said: “If the film maker had done his homework he would see he brings nothing new to the table other than a macabre fascination and obsession about James’ murder.”\\nThe youngster was killed after being lured away from a shopping centre in Bootle, Merseyside, by Thompson and Venables.\\nThe pair were convicted the same year and granted lifelong anonymity when released from prison aged 18.\\nVenables, now 36, has since been jailed twice for child porn offences.\\nHe is played by actor Ely Solan and Leon Hughes portrays Thompson.                                                                                                                                                                                                                                                                                                                                                                                                                                                                                                                                                                                                                                                                                                                                                                                                                                                                                                                                                                                                                                                                                                                                                                                                                                                                                1\n",
       "A Nasa spacecraft is preparing to rendezvous with a mysterious frozen world orbiting four billion miles from the Sun, which will be the most distant and primitive object ever to be explored.\\nThe US space agency’s New Horizons probe is closing in for a New Year’s Day flyby of Ultima Thule — a small rocky body in the Kuiper Belt, a region of the outer solar system where the leftovers from the formation of Earth and other planets 4.5 billion years ago are frozen in time.\\n“The New Horizons spacecraft is healthy and on final approach to the first close-up exploration of a Kuiper Belt Object in history and the farthest exploration of any world, ever,” said Alan Stern, the mission’s principal investigator, from the…                                                                                                                                                                                                                                                                                                                                                                                                                                                                                                                                                                                                                                                                                                                                                                                                                                                                                                                                                                                                                                                                                                                                                                                                                                                                                                                                                                                                                                                                                                                                                                                                                                                                                                                                                                                                                                                                                                                                                                                                                                                                                                                                                                                                                                                                                                                                                                                                                                                                                                                                                                                                                                                                                                                                                                                                                                                                                                                                                                                                                                                                                                                                                                                                                                                                                                                                                                                                                                                                                                                                                                                                                                                                                                                                                                                                                                                                                                                                                                                                                                                                                                                                                                                                                                                                                                                                                                                                                                                                                                                                                                                                                                                                                                                                                                                                            1\n",
       "MRS Hinch has revealed her favourite type of rubber gloves - and the good news is they are a total bargain.\\nSophie Hinchcliffe, 28, from Essex, revealed she loves Grippaz gloves which are available from Tesco.\\nRex Features 3 Cleaning queen Mrs Hinch 'loves' Grippaz gloves\\nWriting on her Instagram page last night, the mum-to-be said: \"I could check out peoples sinks and cupboards all day.\\n“As you may have noticed I now use these specific gloves every time I Hinch!\\n“I was sent them to try but now I am genuinely in love with the things!\\n“They’re called the Killeen Grippaz!\"\\nmrshinchhome/Instagram 3 She showcased them on her Instagram page\\nKilleen Grippaz gloves, Tesco, around £3 depending on size/how many you get - buy now\\nShe continued: “Do many of my Hinchers own these?\\n“I could be late to the party but @killeen_ie who are the parents of these babies also have lots of other Hinching products they sell!”\\nThe gloves are curently only available in shop in Tesco Ireland for around £3 for a pack of 10, but you can buy them online.\\nKilleen_ie/Instagram 3 They are currently available in Ireland - but are coming to the UK soon\\nHowever, they are set to come to the rest of the UK shortly.\\nAnd Hinchers - Mrs Hinch fans - are very excited about it.\\nOne woman on Instagram said: \"Cannot wait to get my hands on a pair of these when they come to the UK. I really need to start wearing gloves but never know what to wear.\\n\"The reviews these are getting makes them a sure fire win in my book.\"\\nMOST READ IN FABULOUS PRETTY SHOCKING Student gutted after PrettyLittleThing dress looks like a high-vis tent GUARDIAN ANGEL Tragic photos of boy who died of cancer - but lived to meet his baby sister WEIGHT TO GO Mum sheds 6st WITHOUT ditching treats after piling on pounds after miscarriage GAME-CHANGER His ‘n’ hers duvet could save marriage as one half’s hot and the other's cool wedding brash Bride slammed for aggressive save-the-date telling guests ‘save your pennies’ LOT OF FRONT Woman’s PrettyLittleThing leotard exposes chest & is nothing like web version\\nIn more Mrs Hinch cleaning tips and tricks, the online cleaning sensation has revealed her genius tip for removing dirt off walls WITHOUT scraping off the paint.\\nAnd Mrs Hinch has shared her brilliant hack for hiding baubles strings as she decorates her Christmas tree.\\nPlus Mrs Hinch reveals the one product you need for a sparkling hob... and you can pick it up in Poundstretcher.                                                                                                                                                                                                                                                                                                                                                                                                                                                                                                                                                                                                                                                                                                                                                                                                                                                                                                                                                                                                                                                                                                                                                                                                                                                                                                                                                                                                                                                                                                                                                                                                                                                                                                                                                                                                                                                                                                                                                                                                                                                                                                                                                                                                                                                                                                                                                                                                                                                                                                                                                                                                                                                                                                                                                                                                                                                                                                                                                                                          1\n",
       "Get daily news updates directly to your inbox Subscribe Thank you for subscribing We have more newsletters Show me See our privacy notice Could not subscribe, try again later Invalid Email\\nEvil dad Mick Philpott is learning to play the guitar as he serves life for killing six of his kids in a house fire.\\nThe Elvis Presley fan is said to be “practising hard” after he was allowed to have the instrument in his cell at a top-security nick.\\nPhilpott, 62, who was ordered to serve a minimum of 15 years for the 2012 atrocity in Derby, has also piled on weight since a smoking ban was introduced at Wakefield Prison, West Yorks.\\nA source said: “He is a massive fan of Elvis and plays all his hits, plus other kinds of rock and roll. He is practising hard and should get good because he’s got plenty of time to devote to it.”\\n(Image: PA)\\n(Image: Getty)\\nThe source also revealed Philpott has ballooned to 16 stone by gorging on sweets, chocolate and crisps since a cigarette ban ended his habit of 100 roll-ups a day. He has been fitted with a free set of false teeth after having all his own rotten ones pulled out.\\nThe source added: “He used to have a cig on the go all the time. He has also become pretty big these days.\\n“At one point he started going to the gym to exercise but it didn’t last.”\\nPhilpott, a father of 17 already ­notorious as a benefits layabout, was jailed in 2013 for the manslaughter of the children aged between 13 and five.\\nHis wife Mairead got 17 years for her part in the blaze at their council house, which they started deliberately to try to incriminate Philpott’s ex-mistress.                                                                                                                                                                                                                                                                                                                                                                                                                                                                                                                                                                                                                                                                                                                                                                                                                                                                                                                                                                                                                                                                                                                                                                                                                                                                                                                                                                                                                                                                                                                                                                                                                                                                                                                                                                                                                                                                                                                                                                                                                                                                                                                                                                                                                                                                                                                                                                                                                                                                                                                                                                                                                                                                                                                                                                                                                                                                                                                                                                                                                                                                                                                                                                                                                                                                                                                                                                                                                                                                                                                                                                                                                                                                                                                                                                                                                                                                                1\n",
       "AN Egyptian woman has been jailed for three years for \"sexually harassing\" a monkey.\\nCops made the arrest after a bizarre clip of an adult tickling a monkey's private parts at a pet shop went viral.\\nFacebook 3 Basma Ahmed has been jailed for 'sexually harassing' a monkey\\nBasma Ahmed is seen laughing while making sexual innuendos to bystanders as she touches the helpless animal.\\nState daily Al-Ahram reported that Basma Ahmed \"confessed... to the incident but said she did not mean to commit an indecent act and that she had been tickling the monkey\".\\nShe was first arrested in October after the thousands of people viewed the 90-second video on social media, sparking a backlash in the conservative country.\\nAccording to Stepfeed, Ahmed was initially detained for four days but the period was increased to 15 days for further investigation and she was yesterday sentenced for \"inciting immorality\".\\nFacebook 3 The footage sparked outrage in the conservative country\\nFacebook 3 Defendant Basma Ahmed said she was unaware the episode had been captured on camera\\nMOST READ NEWS krokked Rotten flesh, pus-filled sores & painful death - the Krokodil craze hitting UK Latest MARGATE 'MURDERS' Mum, 37, pictured holding 23-month-old twins she is accused of murdering TIME'S UP Britain set to SCRAP changing of the clocks after EU rule change - despite Brexit THE BEAST IS BACK Britain braced for new 'Beast from the East' as Met Office warns of snow TORTURE TORMENT Boyfriend ‘10 days from death’ after being starved & stabbed by girlfriend MURDER RAP Mum Samantha Ford charged with murder over deaths of twin tots in Margate\\nThe defendant claimed she did not know how the incident had ended up on social media after a friend filmed the episode in Mansoura, Dakahlia, on her mobile phone.\\nOfficials said that Ahmed is not a first-time offender and has previously been charged with two other \"public moral\" cases.\\nUnder Egyptian president Abdel Fattah el-Sisi laws were recently passed to regulate media and women’s rights as the former military leader consolidates power.\\nWe pay for your stories! Do you have a story for The Sun Online news team? Email us at tips@the-sun.co.uk or call 0207 782 4368 . You can WhatsApp us on 07810 791 502. We pay for videos too. Click here to upload yours.                                                                                                                                                                                                                                                                                                                                                                                                                                                                                                                                                                                                                                                                                                                                                                                                                                                                                                                                                                                                                                                                                                                                                                                                                                                                                                                                                                                                                                                                                                                                                                                                                                                                                                                                                                                                                                                                                                                                                                                                                                                                                                                                                                                                                                                                                                                                                                                                                                                                                                                                                                                                                                                                                                                                                                                                                                                                                                                                                                                                                                                                                                                                                                 1\n",
       "Name: news_text, Length: 23932, dtype: int64"
      ]
     },
     "execution_count": 35,
     "metadata": {},
     "output_type": "execute_result"
    }
   ],
   "source": [
    "items['news_text'].value_counts()"
   ]
  },
  {
   "cell_type": "markdown",
   "id": "mounted-tattoo",
   "metadata": {},
   "source": [
    "A notícia que aparecia mais vezes (23 vezes) após eliminar as do \"spam\", era de facto uma notícia."
   ]
  },
  {
   "cell_type": "code",
   "execution_count": 36,
   "id": "specified-seminar",
   "metadata": {},
   "outputs": [
    {
     "data": {
      "text/html": [
       "<div>\n",
       "<style scoped>\n",
       "    .dataframe tbody tr th:only-of-type {\n",
       "        vertical-align: middle;\n",
       "    }\n",
       "\n",
       "    .dataframe tbody tr th {\n",
       "        vertical-align: top;\n",
       "    }\n",
       "\n",
       "    .dataframe thead th {\n",
       "        text-align: right;\n",
       "    }\n",
       "</style>\n",
       "<table border=\"1\" class=\"dataframe\">\n",
       "  <thead>\n",
       "    <tr style=\"text-align: right;\">\n",
       "      <th></th>\n",
       "      <th>news_id</th>\n",
       "      <th>newsoutlet_id</th>\n",
       "      <th>news_tweet_date</th>\n",
       "      <th>news_url</th>\n",
       "      <th>new_title</th>\n",
       "      <th>news_date</th>\n",
       "      <th>news_text</th>\n",
       "    </tr>\n",
       "  </thead>\n",
       "  <tbody>\n",
       "    <tr>\n",
       "      <th>2</th>\n",
       "      <td>1084275179331772416</td>\n",
       "      <td>28785486</td>\n",
       "      <td>2019-01-13 02:25:22</td>\n",
       "      <td>https://abcn.ws/2Fv3iri</td>\n",
       "      <td>Drone captures California man surfing with dol...</td>\n",
       "      <td>NaN</td>\n",
       "      <td>Breathtaking drone video of a pod of friendly,...</td>\n",
       "    </tr>\n",
       "    <tr>\n",
       "      <th>3</th>\n",
       "      <td>1080216134467702784</td>\n",
       "      <td>28785486</td>\n",
       "      <td>2019-01-01 21:36:10</td>\n",
       "      <td>https://abcn.ws/2CHWRj9</td>\n",
       "      <td>In 'unprecedented' speech, Kim Jong Un says No...</td>\n",
       "      <td>NaN</td>\n",
       "      <td>Kim Jong Un says he is ready to sit down again...</td>\n",
       "    </tr>\n",
       "    <tr>\n",
       "      <th>7</th>\n",
       "      <td>1079638749359886336</td>\n",
       "      <td>28785486</td>\n",
       "      <td>2018-12-31 07:21:51</td>\n",
       "      <td>https://abcn.ws/2EWgnJZ</td>\n",
       "      <td>Note says Britain's queen 'naturally' wanted n...</td>\n",
       "      <td>NaN</td>\n",
       "      <td>A newly discovered note in the U.K.'s National...</td>\n",
       "    </tr>\n",
       "    <tr>\n",
       "      <th>8</th>\n",
       "      <td>1083043497228361729</td>\n",
       "      <td>28785486</td>\n",
       "      <td>2019-01-09 16:51:06</td>\n",
       "      <td>https://abcn.ws/2CXslBU</td>\n",
       "      <td>'Green Book,' 'Bohemian Rhapsody,' 'Roma' take...</td>\n",
       "      <td>NaN</td>\n",
       "      <td>The 2019 Golden Globes were definitely one for...</td>\n",
       "    </tr>\n",
       "    <tr>\n",
       "      <th>11</th>\n",
       "      <td>1083952075099303936</td>\n",
       "      <td>28785486</td>\n",
       "      <td>2019-01-12 05:01:28</td>\n",
       "      <td>https://abcn.ws/2D4KZYz</td>\n",
       "      <td>Everything you need to know about 'Baby Shark,...</td>\n",
       "      <td>NaN</td>\n",
       "      <td>Parents can't get it out of their heads and ki...</td>\n",
       "    </tr>\n",
       "    <tr>\n",
       "      <th>...</th>\n",
       "      <td>...</td>\n",
       "      <td>...</td>\n",
       "      <td>...</td>\n",
       "      <td>...</td>\n",
       "      <td>...</td>\n",
       "      <td>...</td>\n",
       "      <td>...</td>\n",
       "    </tr>\n",
       "    <tr>\n",
       "      <th>43288</th>\n",
       "      <td>1084579301318709248</td>\n",
       "      <td>6107422</td>\n",
       "      <td>2019-01-13 22:33:50</td>\n",
       "      <td>https://www.thetimes.co.uk/article/caitlin-mor...</td>\n",
       "      <td>Caitlin Moran: the politics of mega TVs</td>\n",
       "      <td>NaN</td>\n",
       "      <td>Sixty-five inch flat-screen HD TV. Sixty-five ...</td>\n",
       "    </tr>\n",
       "    <tr>\n",
       "      <th>43293</th>\n",
       "      <td>1083029513188139014</td>\n",
       "      <td>6107422</td>\n",
       "      <td>2019-01-09 15:55:32</td>\n",
       "      <td>https://www.thetimes.co.uk/article/the-wall-th...</td>\n",
       "      <td>The wall that helped Donald Trump win the pres...</td>\n",
       "      <td>NaN</td>\n",
       "      <td>The wall that Donald Trump used to help win th...</td>\n",
       "    </tr>\n",
       "    <tr>\n",
       "      <th>43294</th>\n",
       "      <td>1079684112397537281</td>\n",
       "      <td>6107422</td>\n",
       "      <td>2018-12-31 10:22:06</td>\n",
       "      <td>https://www.thetimes.co.uk/article/older-royal...</td>\n",
       "      <td>Older royals carry the weight of public duties</td>\n",
       "      <td>NaN</td>\n",
       "      <td>The Duke and Duchess of Cambridge on Christmas...</td>\n",
       "    </tr>\n",
       "    <tr>\n",
       "      <th>43298</th>\n",
       "      <td>1081819771144937472</td>\n",
       "      <td>6107422</td>\n",
       "      <td>2019-01-06 07:48:27</td>\n",
       "      <td>https://www.thetimes.co.uk/article/the-best-ho...</td>\n",
       "      <td>The best holidays in France for 2019: our ulti...</td>\n",
       "      <td>NaN</td>\n",
       "      <td>Welcome to our ultimate guide to the world’s b...</td>\n",
       "    </tr>\n",
       "    <tr>\n",
       "      <th>43303</th>\n",
       "      <td>1079661687941316609</td>\n",
       "      <td>6107422</td>\n",
       "      <td>2018-12-31 08:53:00</td>\n",
       "      <td>https://www.thetimes.co.uk/article/illegal-tax...</td>\n",
       "      <td>Illegal taxi drivers thrive on Facebook</td>\n",
       "      <td>NaN</td>\n",
       "      <td>Police say that people are risking their safet...</td>\n",
       "    </tr>\n",
       "  </tbody>\n",
       "</table>\n",
       "<p>10854 rows × 7 columns</p>\n",
       "</div>"
      ],
      "text/plain": [
       "                   news_id  newsoutlet_id      news_tweet_date  \\\n",
       "2      1084275179331772416       28785486  2019-01-13 02:25:22   \n",
       "3      1080216134467702784       28785486  2019-01-01 21:36:10   \n",
       "7      1079638749359886336       28785486  2018-12-31 07:21:51   \n",
       "8      1083043497228361729       28785486  2019-01-09 16:51:06   \n",
       "11     1083952075099303936       28785486  2019-01-12 05:01:28   \n",
       "...                    ...            ...                  ...   \n",
       "43288  1084579301318709248        6107422  2019-01-13 22:33:50   \n",
       "43293  1083029513188139014        6107422  2019-01-09 15:55:32   \n",
       "43294  1079684112397537281        6107422  2018-12-31 10:22:06   \n",
       "43298  1081819771144937472        6107422  2019-01-06 07:48:27   \n",
       "43303  1079661687941316609        6107422  2018-12-31 08:53:00   \n",
       "\n",
       "                                                news_url  \\\n",
       "2                                https://abcn.ws/2Fv3iri   \n",
       "3                                https://abcn.ws/2CHWRj9   \n",
       "7                                https://abcn.ws/2EWgnJZ   \n",
       "8                                https://abcn.ws/2CXslBU   \n",
       "11                               https://abcn.ws/2D4KZYz   \n",
       "...                                                  ...   \n",
       "43288  https://www.thetimes.co.uk/article/caitlin-mor...   \n",
       "43293  https://www.thetimes.co.uk/article/the-wall-th...   \n",
       "43294  https://www.thetimes.co.uk/article/older-royal...   \n",
       "43298  https://www.thetimes.co.uk/article/the-best-ho...   \n",
       "43303  https://www.thetimes.co.uk/article/illegal-tax...   \n",
       "\n",
       "                                               new_title news_date  \\\n",
       "2      Drone captures California man surfing with dol...       NaN   \n",
       "3      In 'unprecedented' speech, Kim Jong Un says No...       NaN   \n",
       "7      Note says Britain's queen 'naturally' wanted n...       NaN   \n",
       "8      'Green Book,' 'Bohemian Rhapsody,' 'Roma' take...       NaN   \n",
       "11     Everything you need to know about 'Baby Shark,...       NaN   \n",
       "...                                                  ...       ...   \n",
       "43288            Caitlin Moran: the politics of mega TVs       NaN   \n",
       "43293  The wall that helped Donald Trump win the pres...       NaN   \n",
       "43294     Older royals carry the weight of public duties       NaN   \n",
       "43298  The best holidays in France for 2019: our ulti...       NaN   \n",
       "43303            Illegal taxi drivers thrive on Facebook       NaN   \n",
       "\n",
       "                                               news_text  \n",
       "2      Breathtaking drone video of a pod of friendly,...  \n",
       "3      Kim Jong Un says he is ready to sit down again...  \n",
       "7      A newly discovered note in the U.K.'s National...  \n",
       "8      The 2019 Golden Globes were definitely one for...  \n",
       "11     Parents can't get it out of their heads and ki...  \n",
       "...                                                  ...  \n",
       "43288  Sixty-five inch flat-screen HD TV. Sixty-five ...  \n",
       "43293  The wall that Donald Trump used to help win th...  \n",
       "43294  The Duke and Duchess of Cambridge on Christmas...  \n",
       "43298  Welcome to our ultimate guide to the world’s b...  \n",
       "43303  Police say that people are risking their safet...  \n",
       "\n",
       "[10854 rows x 7 columns]"
      ]
     },
     "execution_count": 36,
     "metadata": {},
     "output_type": "execute_result"
    }
   ],
   "source": [
    "# Dataframe das notícias em que o 'news_text' aparece mais que uma vez.\n",
    "\n",
    "num_newstext2=items['news_text'].value_counts()\n",
    "nt_moreone = num_newstext2 > 1\n",
    "nt_moreoneb = nt_moreone.index[nt_moreone]\n",
    "nt_moreonec = items[items.news_text.isin(nt_moreoneb)]\n",
    "nt_moreonec"
   ]
  },
  {
   "cell_type": "code",
   "execution_count": 37,
   "id": "vanilla-worker",
   "metadata": {},
   "outputs": [
    {
     "data": {
      "text/plain": [
       "4210"
      ]
     },
     "execution_count": 37,
     "metadata": {},
     "output_type": "execute_result"
    }
   ],
   "source": [
    "nt_moreonec['news_text'].nunique()"
   ]
  },
  {
   "cell_type": "markdown",
   "id": "facial-preserve",
   "metadata": {},
   "source": [
    "Existem 4117 (antes 6311) 'news_text' diferentes dentro dos que são repetidos."
   ]
  },
  {
   "cell_type": "code",
   "execution_count": 38,
   "id": "competent-sacramento",
   "metadata": {},
   "outputs": [
    {
     "data": {
      "text/plain": [
       "2     2990\n",
       "3      725\n",
       "4      233\n",
       "5      122\n",
       "6       61\n",
       "7       27\n",
       "8       17\n",
       "9        6\n",
       "10       5\n",
       "11       5\n",
       "13       4\n",
       "18       2\n",
       "12       2\n",
       "16       2\n",
       "14       2\n",
       "21       2\n",
       "22       1\n",
       "20       1\n",
       "17       1\n",
       "15       1\n",
       "19       1\n",
       "Name: news_text, dtype: int64"
      ]
     },
     "execution_count": 38,
     "metadata": {},
     "output_type": "execute_result"
    }
   ],
   "source": [
    "nt_moreonec['news_text'].value_counts().value_counts()"
   ]
  },
  {
   "cell_type": "code",
   "execution_count": 39,
   "id": "acting-toddler",
   "metadata": {},
   "outputs": [],
   "source": [
    "news_text_VC = nt_moreonec['news_text'].value_counts()\n",
    "texts = news_text_VC.index # textos que ocorrem mais que uma vez em 'news_text'\n",
    "\n",
    "for i in range(len(texts)):\n",
    "    # para cada texto localiza todas as notícias com esse 'news_text'\n",
    "    # e cria Série com os respectivos índices no dataset items e os 'news_id's correspondentes\n",
    "    id2replace = items.news_id.loc[items['news_text']==texts[i]]  # index | news_id\n",
    "\n",
    "    for index, value in id2replace.items():\n",
    "        # subsititui os id's para 1 único no items\n",
    "        items.loc[index,'news_id'] = id2replace.iloc[0]\n",
    "        \n",
    "        # índices dos comentários para cada 'news_id' a substituir\n",
    "        idxs = ireplies.loc[ireplies['in_reply_to_news_id'] == value].index\n",
    "        #substitui os id's para 1 único no ireplies\n",
    "        for idx in idxs:\n",
    "            ireplies.loc[idx,'in_reply_to_news_id'] = id2replace.iloc[0]\n",
    "\n"
   ]
  },
  {
   "cell_type": "code",
   "execution_count": 40,
   "id": "dedicated-sphere",
   "metadata": {},
   "outputs": [
    {
     "data": {
      "text/plain": [
       "24165"
      ]
     },
     "execution_count": 40,
     "metadata": {},
     "output_type": "execute_result"
    }
   ],
   "source": [
    "# Por fim ficaram id's de notícias duplicados. Removemo-os.\n",
    "items.drop_duplicates(subset=['news_id'], inplace=True)\n",
    "\n",
    "len(items)"
   ]
  },
  {
   "cell_type": "markdown",
   "id": "indoor-warrant",
   "metadata": {},
   "source": [
    "### Missing values"
   ]
  },
  {
   "cell_type": "code",
   "execution_count": 41,
   "id": "olympic-warning",
   "metadata": {},
   "outputs": [
    {
     "name": "stdout",
     "output_type": "stream",
     "text": [
      "news_id               0\n",
      "newsoutlet_id         0\n",
      "news_tweet_date       0\n",
      "news_url              0\n",
      "new_title            72\n",
      "news_date          8540\n",
      "news_text           233\n",
      "dtype: int64\n"
     ]
    }
   ],
   "source": [
    "items_missing_v = items.isnull().sum()\n",
    "print(items_missing_v)"
   ]
  },
  {
   "cell_type": "code",
   "execution_count": 42,
   "id": "wanted-criterion",
   "metadata": {},
   "outputs": [
    {
     "data": {
      "text/plain": [
       "news_id  newsoutlet_id  news_tweet_date  news_url  new_title  news_date  news_text\n",
       "False    False          False            False     False      False      False        15624\n",
       "                                                              True       False         8308\n",
       "                                                                         True           160\n",
       "                                                   True       True       True            72\n",
       "                                                   False      False      True             1\n",
       "dtype: int64"
      ]
     },
     "execution_count": 42,
     "metadata": {},
     "output_type": "execute_result"
    }
   ],
   "source": [
    "items.isnull().value_counts()"
   ]
  },
  {
   "cell_type": "markdown",
   "id": "gorgeous-baltimore",
   "metadata": {},
   "source": [
    "Caso *news_title=True and news_date=True and news_text=True* => 72"
   ]
  },
  {
   "cell_type": "code",
   "execution_count": 43,
   "id": "opponent-merchant",
   "metadata": {},
   "outputs": [],
   "source": [
    "# Drop das rows com missing values em 'news_text' \n",
    "null_text = items[items['news_text'].isnull()]\n",
    "\n",
    "items.drop(null_text.index, inplace=True)"
   ]
  },
  {
   "cell_type": "code",
   "execution_count": 44,
   "id": "likely-communication",
   "metadata": {},
   "outputs": [
    {
     "name": "stdout",
     "output_type": "stream",
     "text": [
      "news_id               0\n",
      "newsoutlet_id         0\n",
      "news_tweet_date       0\n",
      "news_url              0\n",
      "new_title             0\n",
      "news_date          8308\n",
      "news_text             0\n",
      "dtype: int64\n"
     ]
    }
   ],
   "source": [
    "items_missing_v = items.isnull().sum()\n",
    "print(items_missing_v)"
   ]
  },
  {
   "cell_type": "code",
   "execution_count": 45,
   "id": "exciting-mattress",
   "metadata": {},
   "outputs": [],
   "source": [
    "# export do csv\n",
    "\n",
    "outlets.to_csv('outlets.csv', index=False)\n",
    "ireplies.to_csv('ireplies.csv', index=False)\n",
    "items.to_csv('items.csv', index=False)"
   ]
  },
  {
   "cell_type": "markdown",
   "id": "greater-sunglasses",
   "metadata": {},
   "source": [
    "**Export dos datasets concluido com sucesso.**"
   ]
  },
  {
   "cell_type": "code",
   "execution_count": null,
   "id": "maritime-arrow",
   "metadata": {},
   "outputs": [],
   "source": []
  }
 ],
 "metadata": {
  "kernelspec": {
   "display_name": "Python 3",
   "language": "python",
   "name": "python3"
  },
  "language_info": {
   "codemirror_mode": {
    "name": "ipython",
    "version": 3
   },
   "file_extension": ".py",
   "mimetype": "text/x-python",
   "name": "python",
   "nbconvert_exporter": "python",
   "pygments_lexer": "ipython3",
   "version": "3.8.5"
  }
 },
 "nbformat": 4,
 "nbformat_minor": 5
}
